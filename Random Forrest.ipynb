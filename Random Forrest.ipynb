{
 "cells": [
  {
   "cell_type": "code",
   "execution_count": 1,
   "metadata": {
    "collapsed": true
   },
   "outputs": [],
   "source": [
    "%matplotlib inline\n",
    "import numpy as np\n",
    "import scipy as sp\n",
    "import matplotlib as mpl\n",
    "import matplotlib.cm as cm\n",
    "import matplotlib.pyplot as plt\n",
    "import pandas as pd\n",
    "pd.set_option('display.width', 500)\n",
    "pd.set_option('display.max_columns', 100)\n",
    "pd.set_option('display.notebook_repr_html', True)\n",
    "import seaborn as sns\n",
    "sns.set_style(\"whitegrid\")\n",
    "sns.set_context(\"poster\")"
   ]
  },
  {
   "cell_type": "code",
   "execution_count": 2,
   "metadata": {
    "collapsed": true
   },
   "outputs": [],
   "source": [
    "data_2014 = pd.read_csv(\"joined_shots_2014.csv\")"
   ]
  },
  {
   "cell_type": "code",
   "execution_count": 3,
   "metadata": {
    "collapsed": true
   },
   "outputs": [],
   "source": [
    "data_2013 = pd.read_csv(\"joined_shots_2013.csv\")"
   ]
  },
  {
   "cell_type": "code",
   "execution_count": 33,
   "metadata": {
    "collapsed": false
   },
   "outputs": [
    {
     "name": "stdout",
     "output_type": "stream",
     "text": [
      "SHOT_CLOCK 0.0519234361574\n"
     ]
    }
   ],
   "source": [
    "frames = [data_2013,data_2014]\n",
    "combined = pd.concat(frames)\n",
    "\n",
    "combined[\"unique\"] = range(0,len(combined))\n",
    "for i, c in enumerate(combined.isnull().sum()/combined.shape[0]):\n",
    "    if c != 0:\n",
    "        print combined.columns[i], c"
   ]
  },
  {
   "cell_type": "code",
   "execution_count": 34,
   "metadata": {
    "collapsed": false
   },
   "outputs": [
    {
     "name": "stdout",
     "output_type": "stream",
     "text": [
      "1.0\n",
      "0.999902863049\n",
      "1.0\n"
     ]
    }
   ],
   "source": [
    "print sum(combined.iloc[:,8] == combined.iloc[:,9])/float(len(combined.iloc[:,9]))\n",
    "print sum(combined.iloc[:,12] == combined.iloc[:,13])/float(len(combined.iloc[:,12]))\n",
    "print sum(combined.iloc[:,24] == combined.iloc[:,25])/float(len(combined.iloc[:,25]))"
   ]
  },
  {
   "cell_type": "code",
   "execution_count": null,
   "metadata": {
    "collapsed": true
   },
   "outputs": [],
   "source": [
    "combined.iloc[:,12] != combined.iloc[:,13]"
   ]
  },
  {
   "cell_type": "code",
   "execution_count": 23,
   "metadata": {
    "collapsed": false
   },
   "outputs": [
    {
     "name": "stdout",
     "output_type": "stream",
     "text": [
      "0 : Unnamed: 0 198093\n",
      "1 : CLOSEST_DEFENDER 575\n",
      "2 : CLOSEST_DEFENDER_PLAYER_ID 581\n",
      "3 : CLOSE_DEF_DIST 364\n",
      "4 : DRIBBLES 35\n",
      "5 : FGM 3\n",
      "6 : FINAL_MARGIN 94\n",
      "7 : GAME_CLOCK 721\n",
      "8 : GAME_ID 2453\n",
      "9 : GAME_ID.1 2453\n",
      "10 : LOCATION 2\n",
      "11 : MATCHUP 4906\n",
      "12 : PERIOD 7\n",
      "13 : PERIOD.1 7\n",
      "14 : PTS 5\n",
      "15 : PTS_TYPE 2\n",
      "16 : SHOT_CLOCK 21088\n",
      "17 : SHOT_DIST 464\n",
      "18 : SHOT_NUMBER 43\n",
      "19 : SHOT_RESULT 2\n",
      "20 : TOUCH_TIME 355\n",
      "21 : W 2\n",
      "22 : GRID_TYPE 1\n",
      "23 : GAME_EVENT_ID 744\n",
      "24 : PLAYER_ID 576\n",
      "25 : PLAYER_ID.1 576\n",
      "26 : PLAYER_NAME 575\n",
      "27 : TEAM_ID 30\n",
      "28 : MINUTES_REMAINING 13\n",
      "29 : SECONDS_REMAINING 60\n",
      "30 : EVENT_TYPE 2\n",
      "31 : ACTION_TYPE 50\n",
      "32 : SHOT_TYPE 2\n",
      "33 : SHOT_ZONE_BASIC 7\n",
      "34 : SHOT_ZONE_AREA 6\n",
      "35 : SHOT_ZONE_RANGE 5\n",
      "36 : SHOT_DISTANCE 87\n",
      "37 : LOC_X 471\n",
      "38 : LOC_Y 642\n",
      "39 : SHOT_ATTEMPTED_FLAG 1\n",
      "40 : SHOT_MADE_FLAG 2\n",
      "41 : unique 401495\n"
     ]
    }
   ],
   "source": [
    "for i, c in enumerate(combined.columns):\n",
    "    print i, \":\", c, len(set(combined[c]))"
   ]
  }
 ],
 "metadata": {
  "kernelspec": {
   "display_name": "Python 2",
   "language": "python",
   "name": "python2"
  },
  "language_info": {
   "codemirror_mode": {
    "name": "ipython",
    "version": 2
   },
   "file_extension": ".py",
   "mimetype": "text/x-python",
   "name": "python",
   "nbconvert_exporter": "python",
   "pygments_lexer": "ipython2",
   "version": "2.7.10"
  }
 },
 "nbformat": 4,
 "nbformat_minor": 0
}
