{
 "cells": [
  {
   "cell_type": "code",
   "execution_count": 1,
   "metadata": {
    "collapsed": true
   },
   "outputs": [],
   "source": [
    "%matplotlib inline\n",
    "import numpy as np\n",
    "import scipy as sp\n",
    "import matplotlib as mpl\n",
    "import matplotlib.cm as cm\n",
    "import matplotlib.pyplot as plt\n",
    "import pandas as pd\n",
    "pd.set_option('display.width', 500)\n",
    "pd.set_option('display.max_columns', 100)\n",
    "pd.set_option('display.notebook_repr_html', True)\n",
    "import seaborn as sns\n",
    "sns.set_style(\"whitegrid\")\n",
    "sns.set_context(\"poster\")"
   ]
  },
  {
   "cell_type": "code",
   "execution_count": 2,
   "metadata": {
    "collapsed": true
   },
   "outputs": [],
   "source": [
    "data_2014 = pd.read_csv(\"merged_shots/merged_shots_14.csv\")"
   ]
  },
  {
   "cell_type": "code",
   "execution_count": 3,
   "metadata": {
    "collapsed": false
   },
   "outputs": [],
   "source": [
    "data_2013 = pd.read_csv(\"merged_shots/merged_shots_13.csv\")"
   ]
  },
  {
   "cell_type": "code",
   "execution_count": 4,
   "metadata": {
    "collapsed": false
   },
   "outputs": [
    {
     "name": "stdout",
     "output_type": "stream",
     "text": [
      "HOMEDESCRIPTION 0.471027036451\n",
      "NEUTRALDESCRIPTION 1.0\n",
      "PLAYER2_NAME 0.735540915827\n",
      "PLAYER2_TEAM_ABBREVIATION 0.735540915827\n",
      "PLAYER2_TEAM_CITY 0.735540915827\n",
      "PLAYER2_TEAM_ID 0.735540915827\n",
      "PLAYER2_TEAM_NICKNAME 0.735540915827\n",
      "PLAYER3_NAME 0.943737780047\n",
      "PLAYER3_TEAM_ABBREVIATION 0.943737780047\n",
      "PLAYER3_TEAM_CITY 0.943737780047\n",
      "PLAYER3_TEAM_ID 0.943737780047\n",
      "PLAYER3_TEAM_NICKNAME 0.943737780047\n",
      "SCORE 0.548056638314\n",
      "VISITORDESCRIPTION 0.472710743596\n",
      "HOME_TEAM_ID 0.0979165369432\n",
      "AWAY_TEAM_ID 0.0979165369432\n",
      "HOME_PLAYER1_ID 0.0979165369432\n",
      "HOME_PLAYER2_ID 0.0979165369432\n",
      "HOME_PLAYER3_ID 0.0979165369432\n",
      "HOME_PLAYER4_ID 0.0979165369432\n",
      "HOME_PLAYER5_ID 0.0979165369432\n",
      "AWAY_PLAYER1_ID 0.0979165369432\n",
      "AWAY_PLAYER2_ID 0.0979165369432\n",
      "AWAY_PLAYER3_ID 0.0979165369432\n",
      "AWAY_PLAYER4_ID 0.0979165369432\n",
      "AWAY_PLAYER5_ID 0.0979165369432\n",
      "SHOT_CLOCK 0.0519234361574\n",
      "off_height 0.0205556731715\n",
      "def_height 0.0239355409158\n"
     ]
    }
   ],
   "source": [
    "frames = [data_2013,data_2014]\n",
    "combined = pd.concat(frames)\n",
    "\n",
    "combined[\"unique\"] = range(0,len(combined))\n",
    "for i, c in enumerate(combined.isnull().sum()/combined.shape[0]):\n",
    "    if c != 0:\n",
    "        print combined.columns[i], c"
   ]
  },
  {
   "cell_type": "code",
   "execution_count": 12,
   "metadata": {
    "collapsed": false
   },
   "outputs": [],
   "source": [
    "a = np.concatenate((combined.PLAYER1_NAME, combined.PLAYER2_NAME))\n",
    "b = np.concatenate((combined.PLAYER1_ID, combined.PLAYER2_ID))"
   ]
  },
  {
   "cell_type": "code",
   "execution_count": 18,
   "metadata": {
    "collapsed": false
   },
   "outputs": [],
   "source": [
    "player_id_dict = {k : v for k, v in zip(b, a)}\n",
    "team_id_dict = {intk : v1+\" \"+v2 for k, v1, v2 in zip(combined.PLAYER1_TEAM_ID, combined.PLAYER1_TEAM_CITY, combined.PLAYER1_TEAM_NICKNAME)}"
   ]
  },
  {
   "cell_type": "code",
   "execution_count": 7,
   "metadata": {
    "collapsed": false
   },
   "outputs": [],
   "source": [
    "drops = combined.columns[[0, 5, 6, 13]]"
   ]
  },
  {
   "cell_type": "code",
   "execution_count": 19,
   "metadata": {
    "collapsed": false
   },
   "outputs": [
    {
     "data": {
      "text/plain": [
       "{1610612737.0: 'Atlanta Hawks',\n",
       " 1610612738.0: 'Boston Celtics',\n",
       " 1610612739.0: 'Cleveland Cavaliers',\n",
       " 1610612740.0: 'New Orleans Pelicans',\n",
       " 1610612741.0: 'Chicago Bulls',\n",
       " 1610612742.0: 'Dallas Mavericks',\n",
       " 1610612743.0: 'Denver Nuggets',\n",
       " 1610612744.0: 'Golden State Warriors',\n",
       " 1610612745.0: 'Houston Rockets',\n",
       " 1610612746.0: 'Los Angeles Clippers',\n",
       " 1610612747.0: 'Los Angeles Lakers',\n",
       " 1610612748.0: 'Miami Heat',\n",
       " 1610612749.0: 'Milwaukee Bucks',\n",
       " 1610612750.0: 'Minnesota Timberwolves',\n",
       " 1610612751.0: 'Brooklyn Nets',\n",
       " 1610612752.0: 'New York Knicks',\n",
       " 1610612753.0: 'Orlando Magic',\n",
       " 1610612754.0: 'Indiana Pacers',\n",
       " 1610612755.0: 'Philadelphia 76ers',\n",
       " 1610612756.0: 'Phoenix Suns',\n",
       " 1610612757.0: 'Portland Trail Blazers',\n",
       " 1610612758.0: 'Sacramento Kings',\n",
       " 1610612759.0: 'San Antonio Spurs',\n",
       " 1610612760.0: 'Oklahoma City Thunder',\n",
       " 1610612761.0: 'Toronto Raptors',\n",
       " 1610612762.0: 'Utah Jazz',\n",
       " 1610612763.0: 'Memphis Grizzlies',\n",
       " 1610612764.0: 'Washington Wizards',\n",
       " 1610612765.0: 'Detroit Pistons',\n",
       " 1610612766.0: 'Charlotte Hornets'}"
      ]
     },
     "execution_count": 19,
     "metadata": {},
     "output_type": "execute_result"
    }
   ],
   "source": [
    "team_id_dict"
   ]
  },
  {
   "cell_type": "code",
   "execution_count": 8,
   "metadata": {
    "collapsed": false
   },
   "outputs": [
    {
     "name": "stdout",
     "output_type": "stream",
     "text": [
      "0.126649148806\n",
      "0.0\n",
      "0.0\n"
     ]
    }
   ],
   "source": [
    "print sum(combined.iloc[:,8] == combined.iloc[:,9])/float(len(combined.iloc[:,9]))\n",
    "print sum(combined.iloc[:,12] == combined.iloc[:,13])/float(len(combined.iloc[:,12]))\n",
    "print sum(combined.iloc[:,24] == combined.iloc[:,25])/float(len(combined.iloc[:,25]))"
   ]
  },
  {
   "cell_type": "code",
   "execution_count": 15,
   "metadata": {
    "collapsed": false
   },
   "outputs": [],
   "source": [
    "for p in set(combined.PLAYER1_TEAM_ABBREVIATION):\n",
    "    temp = p in set(combined.PLAYER3_TEAM_ABBREVIATION)\n",
    "    if not temp:\n",
    "        print p"
   ]
  },
  {
   "cell_type": "code",
   "execution_count": 9,
   "metadata": {
    "collapsed": false,
    "scrolled": false
   },
   "outputs": [
    {
     "name": "stdout",
     "output_type": "stream",
     "text": [
      "0 : Unnamed: 0\n",
      "1 : EVENTMSGACTIONTYPE\n",
      "2 : EVENTMSGTYPE\n",
      "3 : EVENTNUM\n",
      "4 : GAME_ID\n",
      "5 : HOMEDESCRIPTION\n",
      "6 : NEUTRALDESCRIPTION\n",
      "7 : PCTIMESTRING\n",
      "8 : PERIOD_x\n",
      "9 : PERSON1TYPE\n",
      "10 : PERSON2TYPE\n",
      "11 : PERSON3TYPE\n",
      "12 : PLAYER1_ID\n",
      "13 : PLAYER1_NAME\n",
      "14 : PLAYER1_TEAM_ABBREVIATION\n",
      "15 : PLAYER1_TEAM_CITY\n",
      "16 : PLAYER1_TEAM_ID\n",
      "17 : PLAYER1_TEAM_NICKNAME\n",
      "18 : PLAYER2_ID\n",
      "19 : PLAYER2_NAME\n",
      "20 : PLAYER2_TEAM_ABBREVIATION\n",
      "21 : PLAYER2_TEAM_CITY\n",
      "22 : PLAYER2_TEAM_ID\n",
      "23 : PLAYER2_TEAM_NICKNAME\n",
      "24 : PLAYER3_ID\n",
      "25 : PLAYER3_NAME\n",
      "26 : PLAYER3_TEAM_ABBREVIATION\n",
      "27 : PLAYER3_TEAM_CITY\n",
      "28 : PLAYER3_TEAM_ID\n",
      "29 : PLAYER3_TEAM_NICKNAME\n",
      "30 : SCORE\n",
      "31 : SCOREMARGIN\n",
      "32 : VISITORDESCRIPTION\n",
      "33 : WCTIMESTRING\n",
      "34 : HOME_TEAM_ID\n",
      "35 : AWAY_TEAM_ID\n",
      "36 : HOME_PLAYER1_ID\n",
      "37 : HOME_PLAYER2_ID\n",
      "38 : HOME_PLAYER3_ID\n",
      "39 : HOME_PLAYER4_ID\n",
      "40 : HOME_PLAYER5_ID\n",
      "41 : AWAY_PLAYER1_ID\n",
      "42 : AWAY_PLAYER2_ID\n",
      "43 : AWAY_PLAYER3_ID\n",
      "44 : AWAY_PLAYER4_ID\n",
      "45 : AWAY_PLAYER5_ID\n",
      "46 : ACTION_BEFORE\n",
      "47 : Unnamed: 0.1\n",
      "48 : CLOSEST_DEFENDER\n",
      "49 : CLOSEST_DEFENDER_PLAYER_ID\n",
      "50 : CLOSE_DEF_DIST\n",
      "51 : DRIBBLES\n",
      "52 : FGM\n",
      "53 : FINAL_MARGIN\n",
      "54 : GAME_CLOCK\n",
      "55 : GAME_ID.1\n",
      "56 : LOCATION\n",
      "57 : MATCHUP\n",
      "58 : PERIOD_y\n",
      "59 : PERIOD.1\n",
      "60 : PTS\n",
      "61 : PTS_TYPE\n",
      "62 : SHOT_CLOCK\n",
      "63 : SHOT_DIST\n",
      "64 : SHOT_NUMBER\n",
      "65 : SHOT_RESULT\n",
      "66 : TOUCH_TIME\n",
      "67 : W\n",
      "68 : GRID_TYPE\n",
      "69 : GAME_EVENT_ID\n",
      "70 : PLAYER_ID\n",
      "71 : PLAYER_ID.1\n",
      "72 : PLAYER_NAME\n",
      "73 : TEAM_ID\n",
      "74 : MINUTES_REMAINING\n",
      "75 : SECONDS_REMAINING\n",
      "76 : EVENT_TYPE\n",
      "77 : ACTION_TYPE\n",
      "78 : SHOT_TYPE\n",
      "79 : SHOT_ZONE_BASIC\n",
      "80 : SHOT_ZONE_AREA\n",
      "81 : SHOT_ZONE_RANGE\n",
      "82 : SHOT_DISTANCE\n",
      "83 : LOC_X\n",
      "84 : LOC_Y\n",
      "85 : SHOT_ATTEMPTED_FLAG\n",
      "86 : SHOT_MADE_FLAG\n",
      "87 : off_height\n",
      "88 : def_height\n",
      "89 : unique\n"
     ]
    }
   ],
   "source": [
    "for i, c in enumerate(combined.columns):\n",
    "        print i, \":\", c"
   ]
  }
 ],
 "metadata": {
  "kernelspec": {
   "display_name": "Python 2",
   "language": "python",
   "name": "python2"
  },
  "language_info": {
   "codemirror_mode": {
    "name": "ipython",
    "version": 2
   },
   "file_extension": ".py",
   "mimetype": "text/x-python",
   "name": "python",
   "nbconvert_exporter": "python",
   "pygments_lexer": "ipython2",
   "version": "2.7.10"
  }
 },
 "nbformat": 4,
 "nbformat_minor": 0
}
