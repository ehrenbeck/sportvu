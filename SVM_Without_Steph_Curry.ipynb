{
 "cells": [
  {
   "cell_type": "code",
   "execution_count": 747,
   "metadata": {
    "collapsed": false
   },
   "outputs": [],
   "source": [
    "%matplotlib inline\n",
    "import numpy as np\n",
    "import scipy as sp\n",
    "import matplotlib as mpl\n",
    "import matplotlib.cm as cm\n",
    "import matplotlib.pyplot as plt\n",
    "#plt.rcParams['figure.figsize'] = 12, 8\n",
    "import seaborn as sns\n",
    "sns.set_style(\"whitegrid\")\n",
    "sns.set_context(\"poster\")\n",
    "import pandas as pd\n",
    "from sklearn.preprocessing import Imputer\n",
    "from sklearn.metrics import confusion_matrix\n",
    "from sklearn.grid_search import GridSearchCV\n",
    "from sklearn.ensemble import RandomForestClassifier\n",
    "import sklearn.metrics\n",
    "import sklearn\n",
    "from sklearn.svm import LinearSVC\n",
    "from sklearn.metrics import mean_squared_error\n",
    "from sklearn.metrics import confusion_matrix\n",
    "from sklearn.linear_model import Ridge\n",
    "from sklearn.grid_search import GridSearchCV\n",
    "pd.options.display.max_columns = 100"
   ]
  },
  {
   "cell_type": "code",
   "execution_count": 748,
   "metadata": {
    "collapsed": false
   },
   "outputs": [],
   "source": [
    "df=pd.read_csv(\"parsed_df.csv\")"
   ]
  },
  {
   "cell_type": "code",
   "execution_count": 749,
   "metadata": {
    "collapsed": false
   },
   "outputs": [],
   "source": [
    "dftouse=df.copy()\n",
    "dftouse=dftouse.dropna()\n",
    "dftouse=dftouse.sample(20000, replace=False)\n",
    "del dftouse['Unnamed: 0']\n",
    "del dftouse['PLAYER_ID']"
   ]
  },
  {
   "cell_type": "code",
   "execution_count": 750,
   "metadata": {
    "collapsed": false
   },
   "outputs": [],
   "source": [
    "#drop all rows with NaN values\n",
    "dftouse = dftouse.dropna()"
   ]
  },
  {
   "cell_type": "code",
   "execution_count": 751,
   "metadata": {
    "collapsed": false
   },
   "outputs": [
    {
     "data": {
      "text/html": [
       "<div>\n",
       "<table border=\"1\" class=\"dataframe\">\n",
       "  <thead>\n",
       "    <tr style=\"text-align: right;\">\n",
       "      <th></th>\n",
       "      <th>SHOT_MADE_FLAG</th>\n",
       "      <th>EVENTNUM</th>\n",
       "      <th>PERIOD_x</th>\n",
       "      <th>SCOREMARGIN</th>\n",
       "      <th>ACTION_BEFORE</th>\n",
       "      <th>CLOSE_DEF_DIST</th>\n",
       "      <th>DRIBBLES</th>\n",
       "      <th>LOCATION</th>\n",
       "      <th>PTS_TYPE</th>\n",
       "      <th>SHOT_CLOCK</th>\n",
       "      <th>SHOT_NUMBER</th>\n",
       "      <th>TOUCH_TIME</th>\n",
       "      <th>GAME_EVENT_ID</th>\n",
       "      <th>SHOT_DISTANCE</th>\n",
       "      <th>LOC_X</th>\n",
       "      <th>LOC_Y</th>\n",
       "      <th>SEC_LEFT_Q</th>\n",
       "      <th>SEC_LEFT_G</th>\n",
       "      <th>OFF_HEIGHT</th>\n",
       "      <th>DEF_HEIGHT</th>\n",
       "      <th>HEIGHT_DIFF</th>\n",
       "      <th>JUMP_SHOT</th>\n",
       "      <th>SHOT_DISTxCLOSE_DEF_DIST</th>\n",
       "      <th>HEIGHTxCLOSE_DEF_DIST</th>\n",
       "      <th>SHOT_DISTxJUMP_SHOT</th>\n",
       "    </tr>\n",
       "  </thead>\n",
       "  <tbody>\n",
       "    <tr>\n",
       "      <th>65431</th>\n",
       "      <td>0</td>\n",
       "      <td>64</td>\n",
       "      <td>1</td>\n",
       "      <td>-7</td>\n",
       "      <td>4</td>\n",
       "      <td>0.7</td>\n",
       "      <td>0</td>\n",
       "      <td>0</td>\n",
       "      <td>2</td>\n",
       "      <td>13.4</td>\n",
       "      <td>2</td>\n",
       "      <td>1.9</td>\n",
       "      <td>64</td>\n",
       "      <td>1</td>\n",
       "      <td>-13</td>\n",
       "      <td>12</td>\n",
       "      <td>399</td>\n",
       "      <td>2559</td>\n",
       "      <td>81</td>\n",
       "      <td>72</td>\n",
       "      <td>9</td>\n",
       "      <td>0</td>\n",
       "      <td>0.7</td>\n",
       "      <td>6.3</td>\n",
       "      <td>0</td>\n",
       "    </tr>\n",
       "    <tr>\n",
       "      <th>177787</th>\n",
       "      <td>1</td>\n",
       "      <td>606</td>\n",
       "      <td>4</td>\n",
       "      <td>13</td>\n",
       "      <td>4</td>\n",
       "      <td>11.9</td>\n",
       "      <td>0</td>\n",
       "      <td>0</td>\n",
       "      <td>3</td>\n",
       "      <td>7.0</td>\n",
       "      <td>13</td>\n",
       "      <td>1.0</td>\n",
       "      <td>606</td>\n",
       "      <td>23</td>\n",
       "      <td>239</td>\n",
       "      <td>0</td>\n",
       "      <td>146</td>\n",
       "      <td>146</td>\n",
       "      <td>72</td>\n",
       "      <td>84</td>\n",
       "      <td>-12</td>\n",
       "      <td>1</td>\n",
       "      <td>273.7</td>\n",
       "      <td>-142.8</td>\n",
       "      <td>23</td>\n",
       "    </tr>\n",
       "    <tr>\n",
       "      <th>353820</th>\n",
       "      <td>1</td>\n",
       "      <td>104</td>\n",
       "      <td>2</td>\n",
       "      <td>7</td>\n",
       "      <td>12</td>\n",
       "      <td>7.2</td>\n",
       "      <td>0</td>\n",
       "      <td>0</td>\n",
       "      <td>2</td>\n",
       "      <td>4.7</td>\n",
       "      <td>1</td>\n",
       "      <td>0.9</td>\n",
       "      <td>104</td>\n",
       "      <td>18</td>\n",
       "      <td>184</td>\n",
       "      <td>9</td>\n",
       "      <td>698</td>\n",
       "      <td>2138</td>\n",
       "      <td>82</td>\n",
       "      <td>74</td>\n",
       "      <td>8</td>\n",
       "      <td>1</td>\n",
       "      <td>129.6</td>\n",
       "      <td>57.6</td>\n",
       "      <td>18</td>\n",
       "    </tr>\n",
       "    <tr>\n",
       "      <th>15479</th>\n",
       "      <td>1</td>\n",
       "      <td>130</td>\n",
       "      <td>1</td>\n",
       "      <td>28</td>\n",
       "      <td>4</td>\n",
       "      <td>1.1</td>\n",
       "      <td>2</td>\n",
       "      <td>0</td>\n",
       "      <td>2</td>\n",
       "      <td>13.4</td>\n",
       "      <td>1</td>\n",
       "      <td>2.2</td>\n",
       "      <td>130</td>\n",
       "      <td>2</td>\n",
       "      <td>-26</td>\n",
       "      <td>11</td>\n",
       "      <td>68</td>\n",
       "      <td>2228</td>\n",
       "      <td>72</td>\n",
       "      <td>76</td>\n",
       "      <td>-4</td>\n",
       "      <td>0</td>\n",
       "      <td>2.2</td>\n",
       "      <td>-4.4</td>\n",
       "      <td>0</td>\n",
       "    </tr>\n",
       "    <tr>\n",
       "      <th>93473</th>\n",
       "      <td>1</td>\n",
       "      <td>24</td>\n",
       "      <td>1</td>\n",
       "      <td>3</td>\n",
       "      <td>4</td>\n",
       "      <td>1.9</td>\n",
       "      <td>2</td>\n",
       "      <td>1</td>\n",
       "      <td>2</td>\n",
       "      <td>14.0</td>\n",
       "      <td>3</td>\n",
       "      <td>3.7</td>\n",
       "      <td>24</td>\n",
       "      <td>7</td>\n",
       "      <td>37</td>\n",
       "      <td>64</td>\n",
       "      <td>557</td>\n",
       "      <td>2717</td>\n",
       "      <td>79</td>\n",
       "      <td>78</td>\n",
       "      <td>1</td>\n",
       "      <td>0</td>\n",
       "      <td>13.3</td>\n",
       "      <td>1.9</td>\n",
       "      <td>0</td>\n",
       "    </tr>\n",
       "  </tbody>\n",
       "</table>\n",
       "</div>"
      ],
      "text/plain": [
       "        SHOT_MADE_FLAG  EVENTNUM  PERIOD_x  SCOREMARGIN  ACTION_BEFORE  \\\n",
       "65431                0        64         1           -7              4   \n",
       "177787               1       606         4           13              4   \n",
       "353820               1       104         2            7             12   \n",
       "15479                1       130         1           28              4   \n",
       "93473                1        24         1            3              4   \n",
       "\n",
       "        CLOSE_DEF_DIST  DRIBBLES  LOCATION  PTS_TYPE  SHOT_CLOCK  SHOT_NUMBER  \\\n",
       "65431              0.7         0         0         2        13.4            2   \n",
       "177787            11.9         0         0         3         7.0           13   \n",
       "353820             7.2         0         0         2         4.7            1   \n",
       "15479              1.1         2         0         2        13.4            1   \n",
       "93473              1.9         2         1         2        14.0            3   \n",
       "\n",
       "        TOUCH_TIME  GAME_EVENT_ID  SHOT_DISTANCE  LOC_X  LOC_Y  SEC_LEFT_Q  \\\n",
       "65431          1.9             64              1    -13     12         399   \n",
       "177787         1.0            606             23    239      0         146   \n",
       "353820         0.9            104             18    184      9         698   \n",
       "15479          2.2            130              2    -26     11          68   \n",
       "93473          3.7             24              7     37     64         557   \n",
       "\n",
       "        SEC_LEFT_G  OFF_HEIGHT  DEF_HEIGHT  HEIGHT_DIFF  JUMP_SHOT  \\\n",
       "65431         2559          81          72            9          0   \n",
       "177787         146          72          84          -12          1   \n",
       "353820        2138          82          74            8          1   \n",
       "15479         2228          72          76           -4          0   \n",
       "93473         2717          79          78            1          0   \n",
       "\n",
       "        SHOT_DISTxCLOSE_DEF_DIST  HEIGHTxCLOSE_DEF_DIST  SHOT_DISTxJUMP_SHOT  \n",
       "65431                        0.7                    6.3                    0  \n",
       "177787                     273.7                 -142.8                   23  \n",
       "353820                     129.6                   57.6                   18  \n",
       "15479                        2.2                   -4.4                    0  \n",
       "93473                       13.3                    1.9                    0  "
      ]
     },
     "execution_count": 751,
     "metadata": {},
     "output_type": "execute_result"
    }
   ],
   "source": [
    "cols = list(dftouse)\n",
    "cols.insert(0, cols.pop(cols.index('SHOT_MADE_FLAG')))\n",
    "dftouse = dftouse.ix[:, cols]\n",
    "dftouse.head()"
   ]
  },
  {
   "cell_type": "code",
   "execution_count": 752,
   "metadata": {
    "collapsed": false
   },
   "outputs": [
    {
     "data": {
      "text/plain": [
       "(20000, 25)"
      ]
     },
     "execution_count": 752,
     "metadata": {},
     "output_type": "execute_result"
    }
   ],
   "source": [
    "dftouse.shape"
   ]
  },
  {
   "cell_type": "code",
   "execution_count": 753,
   "metadata": {
    "collapsed": false
   },
   "outputs": [],
   "source": [
    "#dftouse.isnull().sum()"
   ]
  },
  {
   "cell_type": "code",
   "execution_count": 754,
   "metadata": {
    "collapsed": false
   },
   "outputs": [],
   "source": [
    "#dftouse.isnull().any()"
   ]
  },
  {
   "cell_type": "code",
   "execution_count": 755,
   "metadata": {
    "collapsed": true
   },
   "outputs": [],
   "source": [
    "Xnames = list(dftouse.columns.values[1:25])"
   ]
  },
  {
   "cell_type": "code",
   "execution_count": 756,
   "metadata": {
    "collapsed": false
   },
   "outputs": [
    {
     "data": {
      "text/plain": [
       "['EVENTNUM',\n",
       " 'PERIOD_x',\n",
       " 'SCOREMARGIN',\n",
       " 'ACTION_BEFORE',\n",
       " 'CLOSE_DEF_DIST',\n",
       " 'DRIBBLES',\n",
       " 'LOCATION',\n",
       " 'PTS_TYPE',\n",
       " 'SHOT_CLOCK',\n",
       " 'SHOT_NUMBER',\n",
       " 'TOUCH_TIME',\n",
       " 'GAME_EVENT_ID',\n",
       " 'SHOT_DISTANCE',\n",
       " 'LOC_X',\n",
       " 'LOC_Y',\n",
       " 'SEC_LEFT_Q',\n",
       " 'SEC_LEFT_G',\n",
       " 'OFF_HEIGHT',\n",
       " 'DEF_HEIGHT',\n",
       " 'HEIGHT_DIFF',\n",
       " 'JUMP_SHOT',\n",
       " 'SHOT_DISTxCLOSE_DEF_DIST',\n",
       " 'HEIGHTxCLOSE_DEF_DIST',\n",
       " 'SHOT_DISTxJUMP_SHOT']"
      ]
     },
     "execution_count": 756,
     "metadata": {},
     "output_type": "execute_result"
    }
   ],
   "source": [
    "Xnames"
   ]
  },
  {
   "cell_type": "code",
   "execution_count": 757,
   "metadata": {
    "collapsed": true
   },
   "outputs": [],
   "source": [
    "#create train and test set\n",
    "from sklearn.cross_validation import train_test_split\n",
    "itrain, itest = train_test_split(xrange(dftouse.shape[0]), train_size=0.7)\n",
    "mask=np.ones(dftouse.shape[0], dtype='int')\n",
    "mask[itrain]=1\n",
    "mask[itest]=0\n",
    "mask = (mask==1)"
   ]
  },
  {
   "cell_type": "code",
   "execution_count": 758,
   "metadata": {
    "collapsed": false
   },
   "outputs": [],
   "source": [
    "def cv_optimize(clf, parameters, X, y, n_jobs=1, n_folds=5, score_func=None):\n",
    "    if score_func:\n",
    "        gs = GridSearchCV(clf, param_grid=parameters, cv=n_folds, n_jobs=n_jobs, scoring=score_func)\n",
    "    else:\n",
    "        gs = GridSearchCV(clf, param_grid=parameters, n_jobs=n_jobs, cv=n_folds)\n",
    "    gs.fit(X, y)\n",
    "    print \"BEST\", gs.best_params_, gs.best_score_, gs.grid_scores_\n",
    "    best = gs.best_estimator_\n",
    "    return best\n",
    "\n",
    "def do_classify(clf, parameters, indf, featurenames, targetname, target1val, mask=None, reuse_split=None, score_func=None, n_folds=5, n_jobs=1):\n",
    "    subdf=indf[featurenames]\n",
    "    X=subdf.values\n",
    "    y=(indf[targetname].values==target1val)*1\n",
    "    y_=indf[targetname]\n",
    "    if mask !=None:\n",
    "        print \"using mask\"\n",
    "        Xtrain, Xtest, ytrain, ytest = X[mask], X[~mask], y[mask], y[~mask]\n",
    "    if reuse_split !=None:\n",
    "        print \"using reuse split\"\n",
    "        Xtrain, Xtest, ytrain, ytest = reuse_split['Xtrain'], reuse_split['Xtest'], reuse_split['ytrain'], reuse_split['ytest']\n",
    "    if parameters:\n",
    "        clf = cv_optimize(clf, parameters, Xtrain, ytrain, n_jobs=n_jobs, n_folds=n_folds, score_func=score_func)\n",
    "    clf=clf.fit(Xtrain, ytrain)\n",
    "    training_accuracy = clf.score(Xtrain, ytrain)\n",
    "    test_accuracy = clf.score(Xtest, ytest)\n",
    "    print \"############# based on standard predict ################\"\n",
    "    print \"Accuracy on training data: %0.2f\" % (training_accuracy)\n",
    "    print \"Accuracy on test data:     %0.2f\" % (test_accuracy)\n",
    "    print confusion_matrix(ytest, clf.predict(Xtest))\n",
    "    print \"########################################################\"\n",
    "    return clf, Xtrain, ytrain, Xtest, ytest"
   ]
  },
  {
   "cell_type": "code",
   "execution_count": 759,
   "metadata": {
    "collapsed": false,
    "scrolled": false
   },
   "outputs": [
    {
     "name": "stdout",
     "output_type": "stream",
     "text": [
      "using mask\n"
     ]
    },
    {
     "name": "stderr",
     "output_type": "stream",
     "text": [
      "/Users/raymondcen/anaconda/lib/python2.7/site-packages/ipykernel/__main__.py:16: FutureWarning: comparison to `None` will result in an elementwise object comparison in the future.\n"
     ]
    },
    {
     "name": "stdout",
     "output_type": "stream",
     "text": [
      "BEST {'n_estimators': 500, 'max_depth': 400} 0.575736566064 [mean: 0.52213, std: 0.00876, params: {'n_estimators': 10, 'max_depth': 50}, mean: 0.56076, std: 0.00896, params: {'n_estimators': 50, 'max_depth': 50}, mean: 0.56734, std: 0.01012, params: {'n_estimators': 100, 'max_depth': 50}, mean: 0.57097, std: 0.00909, params: {'n_estimators': 500, 'max_depth': 50}, mean: 0.52348, std: 0.00425, params: {'n_estimators': 10, 'max_depth': 100}, mean: 0.56460, std: 0.01313, params: {'n_estimators': 50, 'max_depth': 100}, mean: 0.57134, std: 0.01039, params: {'n_estimators': 100, 'max_depth': 100}, mean: 0.57528, std: 0.00961, params: {'n_estimators': 500, 'max_depth': 100}, mean: 0.52086, std: 0.00930, params: {'n_estimators': 10, 'max_depth': 200}, mean: 0.56605, std: 0.01262, params: {'n_estimators': 50, 'max_depth': 200}, mean: 0.56589, std: 0.01175, params: {'n_estimators': 100, 'max_depth': 200}, mean: 0.57520, std: 0.01183, params: {'n_estimators': 500, 'max_depth': 200}, mean: 0.52149, std: 0.01639, params: {'n_estimators': 10, 'max_depth': 400}, mean: 0.56195, std: 0.01130, params: {'n_estimators': 50, 'max_depth': 400}, mean: 0.57022, std: 0.01332, params: {'n_estimators': 100, 'max_depth': 400}, mean: 0.57574, std: 0.01272, params: {'n_estimators': 500, 'max_depth': 400}]\n",
      "############# based on standard predict ################\n",
      "Accuracy on training data: 1.00\n",
      "Accuracy on test data:     0.63\n",
      "[[2351  869]\n",
      " [1331 1449]]\n",
      "########################################################\n",
      "CPU times: user 29.3 s, sys: 978 ms, total: 30.3 s\n",
      "Wall time: 1min 52s\n"
     ]
    }
   ],
   "source": [
    "%%time\n",
    "\n",
    "\n",
    "clfForest = RandomForestClassifier()\n",
    "\n",
    "parameters = {\n",
    "    \"n_estimators\" : [10,50,100,500],\n",
    "    #\"n_estimators\" : range(1, 21),\n",
    "    #\"max_features\" : range(10,len(Xnames+1),2)\n",
    "    \"max_depth\": [50,100,200,400],\n",
    "    #\"bootstrap\": [True, False]\n",
    "}\n",
    "clfForest, Xtrain, ytrain, Xtest, ytest = do_classify(clfForest, parameters, dftouse, Xnames, 'SHOT_MADE_FLAG', 1, mask=mask, n_folds = 5, n_jobs = 4, score_func='f1')"
   ]
  },
  {
   "cell_type": "code",
   "execution_count": 760,
   "metadata": {
    "collapsed": false
   },
   "outputs": [
    {
     "data": {
      "text/plain": [
       "('PTS_TYPE',\n",
       " 'LOCATION',\n",
       " 'DRIBBLES',\n",
       " 'JUMP_SHOT',\n",
       " 'ACTION_BEFORE',\n",
       " 'HEIGHT_DIFF',\n",
       " 'off_height',\n",
       " 'def_height',\n",
       " 'SHOT_NUMBER',\n",
       " 'SHOT_DISTxJUMP_SHOT',\n",
       " 'EVENTNUM',\n",
       " 'GAME_EVENT_ID',\n",
       " 'TOUCH_TIME',\n",
       " 'HEIGHTxCLOSE_DEF_DIST',\n",
       " 'SEC_LEFT_G',\n",
       " 'CLOSE_DEF_DIST',\n",
       " 'LOC_X',\n",
       " 'SCOREMARGIN',\n",
       " 'SEC_LEFT_Q',\n",
       " 'SHOT_CLOCK',\n",
       " 'LOC_Y',\n",
       " 'SHOT_DISTxCLOSE_DEF_DIST',\n",
       " 'SHOT_DIST')"
      ]
     },
     "execution_count": 760,
     "metadata": {},
     "output_type": "execute_result"
    }
   ],
   "source": [
    "name_list"
   ]
  },
  {
   "cell_type": "code",
   "execution_count": 761,
   "metadata": {
    "collapsed": false
   },
   "outputs": [
    {
     "data": {
      "image/png": "[encoded data removed]",
      "text/plain": [
       "<matplotlib.figure.Figure at 0x1ff082090>"
      ]
     },
     "metadata": {},
     "output_type": "display_data"
    }
   ],
   "source": [
    "importance_list = clfForest.feature_importances_\n",
    "name_list = dftouse.columns\n",
    "importance_list, name_list = zip(*sorted(zip(importance_list, Xnames)))\n",
    "ax = sns.barplot(y=range(len(name_list)),x=list(reversed(importance_list)), orient='h', palette=\"Blues_d\")\n",
    "ax.set_xlabel('Relative Importance in the Random Forest')\n",
    "ax.set_ylabel('Features')\n",
    "ax.set_title('Shot Made: Relative Importance of Each Feature')\n",
    "ax.set_yticklabels(list(reversed(name_list)));\n",
    "sns.despine()\n",
    "plt.savefig('Baseline Relative Importance.png')"
   ]
  },
  {
   "cell_type": "code",
   "execution_count": null,
   "metadata": {
    "collapsed": true
   },
   "outputs": [],
   "source": []
  }
 ],
 "metadata": {
  "kernelspec": {
   "display_name": "Python 2",
   "language": "python",
   "name": "python2"
  },
  "language_info": {
   "codemirror_mode": {
    "name": "ipython",
    "version": 2
   },
   "file_extension": ".py",
   "mimetype": "text/x-python",
   "name": "python",
   "nbconvert_exporter": "python",
   "pygments_lexer": "ipython2",
   "version": "2.7.10"
  }
 },
 "nbformat": 4,
 "nbformat_minor": 0
}
