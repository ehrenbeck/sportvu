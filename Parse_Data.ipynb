{
 "cells": [
  {
   "cell_type": "code",
   "execution_count": 27,
   "metadata": {
    "collapsed": false
   },
   "outputs": [],
   "source": [
    "import numpy as np\n",
    "from scipy import concatenate\n",
    "import json\n",
    "import pandas as pd\n",
    "from collections import Counter\n",
    "pd.options.display.max_columns = 100"
   ]
  },
  {
   "cell_type": "code",
   "execution_count": 28,
   "metadata": {
    "collapsed": false
   },
   "outputs": [],
   "source": [
    "data_2014 = pd.read_csv(\"merged_shots/merged_shots_14.csv\")"
   ]
  },
  {
   "cell_type": "code",
   "execution_count": 29,
   "metadata": {
    "collapsed": false
   },
   "outputs": [],
   "source": [
    "data_2013 = pd.read_csv(\"merged_shots/merged_shots_13.csv\")"
   ]
  },
  {
   "cell_type": "code",
   "execution_count": 30,
   "metadata": {
    "collapsed": false
   },
   "outputs": [
    {
     "name": "stdout",
     "output_type": "stream",
     "text": [
      "HOMEDESCRIPTION 0.471027036451\n",
      "NEUTRALDESCRIPTION 1.0\n",
      "PLAYER2_NAME 0.735540915827\n",
      "PLAYER2_TEAM_ABBREVIATION 0.735540915827\n",
      "PLAYER2_TEAM_CITY 0.735540915827\n",
      "PLAYER2_TEAM_ID 0.735540915827\n",
      "PLAYER2_TEAM_NICKNAME 0.735540915827\n",
      "PLAYER3_NAME 0.943737780047\n",
      "PLAYER3_TEAM_ABBREVIATION 0.943737780047\n",
      "PLAYER3_TEAM_CITY 0.943737780047\n",
      "PLAYER3_TEAM_ID 0.943737780047\n",
      "PLAYER3_TEAM_NICKNAME 0.943737780047\n",
      "SCORE 0.548056638314\n",
      "VISITORDESCRIPTION 0.472710743596\n",
      "HOME_TEAM_ID 0.0979165369432\n",
      "AWAY_TEAM_ID 0.0979165369432\n",
      "HOME_PLAYER1_ID 0.0979165369432\n",
      "HOME_PLAYER2_ID 0.0979165369432\n",
      "HOME_PLAYER3_ID 0.0979165369432\n",
      "HOME_PLAYER4_ID 0.0979165369432\n",
      "HOME_PLAYER5_ID 0.0979165369432\n",
      "AWAY_PLAYER1_ID 0.0979165369432\n",
      "AWAY_PLAYER2_ID 0.0979165369432\n",
      "AWAY_PLAYER3_ID 0.0979165369432\n",
      "AWAY_PLAYER4_ID 0.0979165369432\n",
      "AWAY_PLAYER5_ID 0.0979165369432\n",
      "SHOT_CLOCK 0.0519234361574\n",
      "off_height 0.0205556731715\n",
      "def_height 0.0239355409158\n"
     ]
    }
   ],
   "source": [
    "frames = [data_2013,data_2014]\n",
    "combined = pd.concat(frames)\n",
    "\n",
    "combined[\"unique\"] = range(0,len(combined))\n",
    "for i, c in enumerate(combined.isnull().sum()/combined.shape[0]):\n",
    "    if c != 0:\n",
    "        print combined.columns[i], c"
   ]
  },
  {
   "cell_type": "code",
   "execution_count": 31,
   "metadata": {
    "collapsed": false
   },
   "outputs": [],
   "source": [
    "a = np.concatenate((combined.PLAYER1_NAME, combined.PLAYER2_NAME))\n",
    "b = np.concatenate((combined.PLAYER1_ID, combined.PLAYER2_ID))"
   ]
  },
  {
   "cell_type": "code",
   "execution_count": 32,
   "metadata": {
    "collapsed": false
   },
   "outputs": [],
   "source": [
    "player_id_dict = {k : v for k, v in zip(b, a)}\n",
    "team_id_dict = {int(k) : v1+\" \"+v2 for k, v1, v2 in zip(combined.PLAYER1_TEAM_ID, combined.PLAYER1_TEAM_CITY, combined.PLAYER1_TEAM_NICKNAME)}"
   ]
  },
  {
   "cell_type": "code",
   "execution_count": 33,
   "metadata": {
    "collapsed": true
   },
   "outputs": [],
   "source": [
    "defender_id_dict = {int(k) : v for k, v in zip(combined.CLOSEST_DEFENDER_PLAYER_ID, combined.CLOSEST_DEFENDER)}"
   ]
  },
  {
   "cell_type": "code",
   "execution_count": 34,
   "metadata": {
    "collapsed": false
   },
   "outputs": [],
   "source": [
    "for p in defender_id_dict.keys():\n",
    "    temp = p in player_id_dict.keys()\n",
    "    if not temp:\n",
    "        splt = defender_id_dict[p].split(\",\")\n",
    "        player_id_dict[p] = splt[1]+\" \"+splt[0]"
   ]
  },
  {
   "cell_type": "code",
   "execution_count": 35,
   "metadata": {
    "collapsed": false,
    "scrolled": true
   },
   "outputs": [
    {
     "name": "stdout",
     "output_type": "stream",
     "text": [
      "0 : Unnamed: 0\n",
      "1 : EVENTMSGACTIONTYPE\n",
      "2 : EVENTMSGTYPE\n",
      "3 : EVENTNUM\n",
      "4 : GAME_ID\n",
      "5 : HOMEDESCRIPTION\n",
      "6 : NEUTRALDESCRIPTION\n",
      "7 : PCTIMESTRING\n",
      "8 : PERIOD_x\n",
      "9 : PERSON1TYPE\n",
      "10 : PERSON2TYPE\n",
      "11 : PERSON3TYPE\n",
      "12 : PLAYER1_ID\n",
      "13 : PLAYER1_NAME\n",
      "14 : PLAYER1_TEAM_ABBREVIATION\n",
      "15 : PLAYER1_TEAM_CITY\n",
      "16 : PLAYER1_TEAM_ID\n",
      "17 : PLAYER1_TEAM_NICKNAME\n",
      "18 : PLAYER2_ID\n",
      "19 : PLAYER2_NAME\n",
      "20 : PLAYER2_TEAM_ABBREVIATION\n",
      "21 : PLAYER2_TEAM_CITY\n",
      "22 : PLAYER2_TEAM_ID\n",
      "23 : PLAYER2_TEAM_NICKNAME\n",
      "24 : PLAYER3_ID\n",
      "25 : PLAYER3_NAME\n",
      "26 : PLAYER3_TEAM_ABBREVIATION\n",
      "27 : PLAYER3_TEAM_CITY\n",
      "28 : PLAYER3_TEAM_ID\n",
      "29 : PLAYER3_TEAM_NICKNAME\n",
      "30 : SCORE\n",
      "31 : SCOREMARGIN\n",
      "32 : VISITORDESCRIPTION\n",
      "33 : WCTIMESTRING\n",
      "34 : HOME_TEAM_ID\n",
      "35 : AWAY_TEAM_ID\n",
      "36 : HOME_PLAYER1_ID\n",
      "37 : HOME_PLAYER2_ID\n",
      "38 : HOME_PLAYER3_ID\n",
      "39 : HOME_PLAYER4_ID\n",
      "40 : HOME_PLAYER5_ID\n",
      "41 : AWAY_PLAYER1_ID\n",
      "42 : AWAY_PLAYER2_ID\n",
      "43 : AWAY_PLAYER3_ID\n",
      "44 : AWAY_PLAYER4_ID\n",
      "45 : AWAY_PLAYER5_ID\n",
      "46 : ACTION_BEFORE\n",
      "47 : Unnamed: 0.1\n",
      "48 : CLOSEST_DEFENDER\n",
      "49 : CLOSEST_DEFENDER_PLAYER_ID\n",
      "50 : CLOSE_DEF_DIST\n",
      "51 : DRIBBLES\n",
      "52 : FGM\n",
      "53 : FINAL_MARGIN\n",
      "54 : GAME_CLOCK\n",
      "55 : GAME_ID.1\n",
      "56 : LOCATION\n",
      "57 : MATCHUP\n",
      "58 : PERIOD_y\n",
      "59 : PERIOD.1\n",
      "60 : PTS\n",
      "61 : PTS_TYPE\n",
      "62 : SHOT_CLOCK\n",
      "63 : SHOT_DIST\n",
      "64 : SHOT_NUMBER\n",
      "65 : SHOT_RESULT\n",
      "66 : TOUCH_TIME\n",
      "67 : W\n",
      "68 : GRID_TYPE\n",
      "69 : GAME_EVENT_ID\n",
      "70 : PLAYER_ID\n",
      "71 : PLAYER_ID.1\n",
      "72 : PLAYER_NAME\n",
      "73 : TEAM_ID\n",
      "74 : MINUTES_REMAINING\n",
      "75 : SECONDS_REMAINING\n",
      "76 : EVENT_TYPE\n",
      "77 : ACTION_TYPE\n",
      "78 : SHOT_TYPE\n",
      "79 : SHOT_ZONE_BASIC\n",
      "80 : SHOT_ZONE_AREA\n",
      "81 : SHOT_ZONE_RANGE\n",
      "82 : SHOT_DISTANCE\n",
      "83 : LOC_X\n",
      "84 : LOC_Y\n",
      "85 : SHOT_ATTEMPTED_FLAG\n",
      "86 : SHOT_MADE_FLAG\n",
      "87 : off_height\n",
      "88 : def_height\n",
      "89 : unique\n"
     ]
    }
   ],
   "source": [
    "for i, c in enumerate(combined.columns):\n",
    "        print i, \":\", c"
   ]
  },
  {
   "cell_type": "code",
   "execution_count": 42,
   "metadata": {
    "collapsed": false
   },
   "outputs": [],
   "source": [
    "combined_ = combined.drop(combined.columns[[0,1,2,4,5,6,7,9,10,11,12,13,14,15,16,17,18,19,20,21,22,23,24,25,26,27,28,29,30,32,33,34,35,36,37,38,39,40,41,42,43,44,45,47,48,49,52,53,54,55,57,58,59,60,63,65,67,71,68,76,72,73,78,79,80,81,85,89]], axis=1)"
   ]
  },
  {
   "cell_type": "code",
   "execution_count": 43,
   "metadata": {
    "collapsed": false,
    "scrolled": true
   },
   "outputs": [
    {
     "name": "stdout",
     "output_type": "stream",
     "text": [
      "0 : EVENTNUM\n",
      "1 : PERIOD_x\n",
      "2 : SCOREMARGIN\n",
      "3 : ACTION_BEFORE\n",
      "4 : CLOSE_DEF_DIST\n",
      "5 : DRIBBLES\n",
      "6 : LOCATION\n",
      "7 : PTS_TYPE\n",
      "8 : SHOT_CLOCK\n",
      "9 : SHOT_NUMBER\n",
      "10 : TOUCH_TIME\n",
      "11 : GAME_EVENT_ID\n",
      "12 : PLAYER_ID\n",
      "13 : MINUTES_REMAINING\n",
      "14 : SECONDS_REMAINING\n",
      "15 : ACTION_TYPE\n",
      "16 : SHOT_DISTANCE\n",
      "17 : LOC_X\n",
      "18 : LOC_Y\n",
      "19 : SHOT_MADE_FLAG\n",
      "20 : off_height\n",
      "21 : def_height\n"
     ]
    }
   ],
   "source": [
    "for i, c in enumerate(combined_.columns):\n",
    "        print i, \":\", c"
   ]
  },
  {
   "cell_type": "code",
   "execution_count": 44,
   "metadata": {
    "collapsed": true
   },
   "outputs": [],
   "source": [
    "def height(thing):\n",
    "    try:\n",
    "        f, i = thing.split('-')\n",
    "    except AttributeError:\n",
    "        return None\n",
    "    except ValueError:\n",
    "        return None\n",
    "    else:\n",
    "        return int(f)*12+int(i)"
   ]
  },
  {
   "cell_type": "code",
   "execution_count": 45,
   "metadata": {
    "collapsed": false
   },
   "outputs": [],
   "source": [
    "#combined_.W = combined_.W == \"W\"\n",
    "combined_['SEC_LEFT_Q'] = combined_.MINUTES_REMAINING*60+combined_.SECONDS_REMAINING\n",
    "combined_['SEC_LEFT_G'] = np.where(combined_.PERIOD_x < 5, combined_.SEC_LEFT_Q+720*(4-combined_.PERIOD_x), combined_.SEC_LEFT_Q)\n",
    "combined_.LOCATION = np.where(combined_.LOCATION == \"H\", 1, 0)\n",
    "combined_['OFF_HEIGHT'] = combined.off_height.apply(lambda x: height(x))\n",
    "combined_['DEF_HEIGHT'] = combined.def_height.apply(lambda x: height(x))\n",
    "combined_['HEIGHT_DIFF'] = combined_['OFF_HEIGHT'] - combined_['DEF_HEIGHT']\n",
    "combined_['JUMP_SHOT']=[1 if x=='Jump Shot' else 0 for x in combined_.ACTION_TYPE]\n",
    "combined_['SHOT_DISTxCLOSE_DEF_DIST'] = combined_['SHOT_DISTANCE']*combined_['CLOSE_DEF_DIST']\n",
    "combined_['HEIGHTxCLOSE_DEF_DIST'] = combined_['HEIGHT_DIFF']*combined_['CLOSE_DEF_DIST']\n",
    "combined_['SHOT_DISTxJUMP_SHOT']= combined_['SHOT_DISTANCE']*combined_['JUMP_SHOT']\n",
    "del combined_['MINUTES_REMAINING']\n",
    "del combined_['SECONDS_REMAINING']\n",
    "del combined_['off_height']\n",
    "del combined_['def_height']\n",
    "del combined_['ACTION_TYPE']"
   ]
  },
  {
   "cell_type": "code",
   "execution_count": 46,
   "metadata": {
    "collapsed": false
   },
   "outputs": [],
   "source": [
    "combined_.reset_index(drop=True, inplace=True)"
   ]
  },
  {
   "cell_type": "code",
   "execution_count": 49,
   "metadata": {
    "collapsed": false
   },
   "outputs": [
    {
     "data": {
      "text/html": [
       "<div>\n",
       "<table border=\"1\" class=\"dataframe\">\n",
       "  <thead>\n",
       "    <tr style=\"text-align: right;\">\n",
       "      <th></th>\n",
       "      <th>EVENTNUM</th>\n",
       "      <th>PERIOD_x</th>\n",
       "      <th>SCOREMARGIN</th>\n",
       "      <th>ACTION_BEFORE</th>\n",
       "      <th>CLOSE_DEF_DIST</th>\n",
       "      <th>DRIBBLES</th>\n",
       "      <th>LOCATION</th>\n",
       "      <th>PTS_TYPE</th>\n",
       "      <th>SHOT_CLOCK</th>\n",
       "      <th>SHOT_NUMBER</th>\n",
       "      <th>TOUCH_TIME</th>\n",
       "      <th>GAME_EVENT_ID</th>\n",
       "      <th>PLAYER_ID</th>\n",
       "      <th>SHOT_DISTANCE</th>\n",
       "      <th>LOC_X</th>\n",
       "      <th>LOC_Y</th>\n",
       "      <th>SHOT_MADE_FLAG</th>\n",
       "      <th>SEC_LEFT_Q</th>\n",
       "      <th>SEC_LEFT_G</th>\n",
       "      <th>OFF_HEIGHT</th>\n",
       "      <th>DEF_HEIGHT</th>\n",
       "      <th>HEIGHT_DIFF</th>\n",
       "      <th>JUMP_SHOT</th>\n",
       "      <th>SHOT_DISTxCLOSE_DEF_DIST</th>\n",
       "      <th>HEIGHTxCLOSE_DEF_DIST</th>\n",
       "      <th>SHOT_DISTxJUMP_SHOT</th>\n",
       "    </tr>\n",
       "  </thead>\n",
       "  <tbody>\n",
       "    <tr>\n",
       "      <th>0</th>\n",
       "      <td>2</td>\n",
       "      <td>1</td>\n",
       "      <td>0</td>\n",
       "      <td>10</td>\n",
       "      <td>1.6</td>\n",
       "      <td>2</td>\n",
       "      <td>1</td>\n",
       "      <td>2</td>\n",
       "      <td>6.7</td>\n",
       "      <td>1</td>\n",
       "      <td>7.8</td>\n",
       "      <td>2</td>\n",
       "      <td>2561</td>\n",
       "      <td>5</td>\n",
       "      <td>-38</td>\n",
       "      <td>45</td>\n",
       "      <td>0</td>\n",
       "      <td>699</td>\n",
       "      <td>2859</td>\n",
       "      <td>81</td>\n",
       "      <td>79</td>\n",
       "      <td>2</td>\n",
       "      <td>1</td>\n",
       "      <td>8.0</td>\n",
       "      <td>3.2</td>\n",
       "      <td>5</td>\n",
       "    </tr>\n",
       "    <tr>\n",
       "      <th>1</th>\n",
       "      <td>5</td>\n",
       "      <td>1</td>\n",
       "      <td>2</td>\n",
       "      <td>6</td>\n",
       "      <td>4.1</td>\n",
       "      <td>1</td>\n",
       "      <td>1</td>\n",
       "      <td>2</td>\n",
       "      <td>16.8</td>\n",
       "      <td>1</td>\n",
       "      <td>3.2</td>\n",
       "      <td>5</td>\n",
       "      <td>202331</td>\n",
       "      <td>19</td>\n",
       "      <td>105</td>\n",
       "      <td>164</td>\n",
       "      <td>1</td>\n",
       "      <td>690</td>\n",
       "      <td>2850</td>\n",
       "      <td>81</td>\n",
       "      <td>81</td>\n",
       "      <td>0</td>\n",
       "      <td>0</td>\n",
       "      <td>77.9</td>\n",
       "      <td>0.0</td>\n",
       "      <td>0</td>\n",
       "    </tr>\n",
       "    <tr>\n",
       "      <th>2</th>\n",
       "      <td>6</td>\n",
       "      <td>1</td>\n",
       "      <td>-2</td>\n",
       "      <td>1</td>\n",
       "      <td>4.4</td>\n",
       "      <td>0</td>\n",
       "      <td>0</td>\n",
       "      <td>3</td>\n",
       "      <td>13.0</td>\n",
       "      <td>1</td>\n",
       "      <td>0.7</td>\n",
       "      <td>6</td>\n",
       "      <td>201167</td>\n",
       "      <td>27</td>\n",
       "      <td>51</td>\n",
       "      <td>266</td>\n",
       "      <td>0</td>\n",
       "      <td>675</td>\n",
       "      <td>2835</td>\n",
       "      <td>77</td>\n",
       "      <td>81</td>\n",
       "      <td>-4</td>\n",
       "      <td>1</td>\n",
       "      <td>118.8</td>\n",
       "      <td>-17.6</td>\n",
       "      <td>27</td>\n",
       "    </tr>\n",
       "    <tr>\n",
       "      <th>3</th>\n",
       "      <td>8</td>\n",
       "      <td>1</td>\n",
       "      <td>2</td>\n",
       "      <td>4</td>\n",
       "      <td>0.4</td>\n",
       "      <td>0</td>\n",
       "      <td>1</td>\n",
       "      <td>2</td>\n",
       "      <td>13.8</td>\n",
       "      <td>2</td>\n",
       "      <td>1.8</td>\n",
       "      <td>8</td>\n",
       "      <td>2561</td>\n",
       "      <td>2</td>\n",
       "      <td>28</td>\n",
       "      <td>-5</td>\n",
       "      <td>0</td>\n",
       "      <td>663</td>\n",
       "      <td>2823</td>\n",
       "      <td>81</td>\n",
       "      <td>79</td>\n",
       "      <td>2</td>\n",
       "      <td>0</td>\n",
       "      <td>0.8</td>\n",
       "      <td>0.8</td>\n",
       "      <td>0</td>\n",
       "    </tr>\n",
       "    <tr>\n",
       "      <th>4</th>\n",
       "      <td>11</td>\n",
       "      <td>1</td>\n",
       "      <td>5</td>\n",
       "      <td>5</td>\n",
       "      <td>5.7</td>\n",
       "      <td>0</td>\n",
       "      <td>1</td>\n",
       "      <td>3</td>\n",
       "      <td>15.6</td>\n",
       "      <td>1</td>\n",
       "      <td>0.7</td>\n",
       "      <td>11</td>\n",
       "      <td>202362</td>\n",
       "      <td>26</td>\n",
       "      <td>15</td>\n",
       "      <td>260</td>\n",
       "      <td>1</td>\n",
       "      <td>651</td>\n",
       "      <td>2811</td>\n",
       "      <td>77</td>\n",
       "      <td>72</td>\n",
       "      <td>5</td>\n",
       "      <td>1</td>\n",
       "      <td>148.2</td>\n",
       "      <td>28.5</td>\n",
       "      <td>26</td>\n",
       "    </tr>\n",
       "  </tbody>\n",
       "</table>\n",
       "</div>"
      ],
      "text/plain": [
       "   EVENTNUM  PERIOD_x  SCOREMARGIN  ACTION_BEFORE  CLOSE_DEF_DIST  DRIBBLES  \\\n",
       "0         2         1            0             10             1.6         2   \n",
       "1         5         1            2              6             4.1         1   \n",
       "2         6         1           -2              1             4.4         0   \n",
       "3         8         1            2              4             0.4         0   \n",
       "4        11         1            5              5             5.7         0   \n",
       "\n",
       "   LOCATION  PTS_TYPE  SHOT_CLOCK  SHOT_NUMBER  TOUCH_TIME  GAME_EVENT_ID  \\\n",
       "0         1         2         6.7            1         7.8              2   \n",
       "1         1         2        16.8            1         3.2              5   \n",
       "2         0         3        13.0            1         0.7              6   \n",
       "3         1         2        13.8            2         1.8              8   \n",
       "4         1         3        15.6            1         0.7             11   \n",
       "\n",
       "   PLAYER_ID  SHOT_DISTANCE  LOC_X  LOC_Y  SHOT_MADE_FLAG  SEC_LEFT_Q  \\\n",
       "0       2561              5    -38     45               0         699   \n",
       "1     202331             19    105    164               1         690   \n",
       "2     201167             27     51    266               0         675   \n",
       "3       2561              2     28     -5               0         663   \n",
       "4     202362             26     15    260               1         651   \n",
       "\n",
       "   SEC_LEFT_G  OFF_HEIGHT  DEF_HEIGHT  HEIGHT_DIFF  JUMP_SHOT  \\\n",
       "0        2859          81          79            2          1   \n",
       "1        2850          81          81            0          0   \n",
       "2        2835          77          81           -4          1   \n",
       "3        2823          81          79            2          0   \n",
       "4        2811          77          72            5          1   \n",
       "\n",
       "   SHOT_DISTxCLOSE_DEF_DIST  HEIGHTxCLOSE_DEF_DIST  SHOT_DISTxJUMP_SHOT  \n",
       "0                       8.0                    3.2                    5  \n",
       "1                      77.9                    0.0                    0  \n",
       "2                     118.8                  -17.6                   27  \n",
       "3                       0.8                    0.8                    0  \n",
       "4                     148.2                   28.5                   26  "
      ]
     },
     "execution_count": 49,
     "metadata": {},
     "output_type": "execute_result"
    }
   ],
   "source": [
    "combined_.head()"
   ]
  },
  {
   "cell_type": "code",
   "execution_count": 50,
   "metadata": {
    "collapsed": true
   },
   "outputs": [],
   "source": [
    "combined_.to_csv('parsed_df.csv')"
   ]
  },
  {
   "cell_type": "code",
   "execution_count": 16,
   "metadata": {
    "collapsed": true
   },
   "outputs": [],
   "source": [
    "player_id_dict = {k : v for k, v in zip(b, a)}\n",
    "team_id_dict = {int(k) : v1+\" \"+v2 for k, v1, v2 in zip(combined.PLAYER1_TEAM_ID, combined.PLAYER1_TEAM_CITY, combined.PLAYER1_TEAM_NICKNAME)}"
   ]
  },
  {
   "cell_type": "code",
   "execution_count": 53,
   "metadata": {
    "collapsed": false
   },
   "outputs": [],
   "source": [
    "pd.DataFrame([[k,v] for k, v in player_id_dict.iteritems()], columns=[\"ID\", \"NAME\"]).to_json('Player_ID_Dict.json')\n",
    "pd.DataFrame([[k,v] for k, v in team_id_dict.iteritems()], columns=[\"ID\", \"NAME\"]).to_json('Team_ID_Dict.json')"
   ]
  },
  {
   "cell_type": "code",
   "execution_count": null,
   "metadata": {
    "collapsed": true
   },
   "outputs": [],
   "source": []
  }
 ],
 "metadata": {
  "kernelspec": {
   "display_name": "Python 2",
   "language": "python",
   "name": "python2"
  },
  "language_info": {
   "codemirror_mode": {
    "name": "ipython",
    "version": 2
   },
   "file_extension": ".py",
   "mimetype": "text/x-python",
   "name": "python",
   "nbconvert_exporter": "python",
   "pygments_lexer": "ipython2",
   "version": "2.7.10"
  }
 },
 "nbformat": 4,
 "nbformat_minor": 0
}
