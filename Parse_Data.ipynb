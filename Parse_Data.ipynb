{
 "cells": [
  {
   "cell_type": "code",
   "execution_count": 1,
   "metadata": {
    "collapsed": false
   },
   "outputs": [],
   "source": [
    "import numpy as np\n",
    "from scipy import concatenate\n",
    "import json\n",
    "import pandas as pd\n",
    "from collections import Counter"
   ]
  },
  {
   "cell_type": "code",
   "execution_count": 2,
   "metadata": {
    "collapsed": false
   },
   "outputs": [],
   "source": [
    "data_2014 = pd.read_csv(\"merged_shots/merged_shots_14.csv\")"
   ]
  },
  {
   "cell_type": "code",
   "execution_count": 3,
   "metadata": {
    "collapsed": false
   },
   "outputs": [],
   "source": [
    "data_2013 = pd.read_csv(\"merged_shots/merged_shots_13.csv\")"
   ]
  },
  {
   "cell_type": "code",
   "execution_count": 4,
   "metadata": {
    "collapsed": false
   },
   "outputs": [
    {
     "name": "stdout",
     "output_type": "stream",
     "text": [
      "HOMEDESCRIPTION 0.471027036451\n",
      "NEUTRALDESCRIPTION 1.0\n",
      "PLAYER2_NAME 0.735540915827\n",
      "PLAYER2_TEAM_ABBREVIATION 0.735540915827\n",
      "PLAYER2_TEAM_CITY 0.735540915827\n",
      "PLAYER2_TEAM_ID 0.735540915827\n",
      "PLAYER2_TEAM_NICKNAME 0.735540915827\n",
      "PLAYER3_NAME 0.943737780047\n",
      "PLAYER3_TEAM_ABBREVIATION 0.943737780047\n",
      "PLAYER3_TEAM_CITY 0.943737780047\n",
      "PLAYER3_TEAM_ID 0.943737780047\n",
      "PLAYER3_TEAM_NICKNAME 0.943737780047\n",
      "SCORE 0.548056638314\n",
      "VISITORDESCRIPTION 0.472710743596\n",
      "HOME_TEAM_ID 0.0979165369432\n",
      "AWAY_TEAM_ID 0.0979165369432\n",
      "HOME_PLAYER1_ID 0.0979165369432\n",
      "HOME_PLAYER2_ID 0.0979165369432\n",
      "HOME_PLAYER3_ID 0.0979165369432\n",
      "HOME_PLAYER4_ID 0.0979165369432\n",
      "HOME_PLAYER5_ID 0.0979165369432\n",
      "AWAY_PLAYER1_ID 0.0979165369432\n",
      "AWAY_PLAYER2_ID 0.0979165369432\n",
      "AWAY_PLAYER3_ID 0.0979165369432\n",
      "AWAY_PLAYER4_ID 0.0979165369432\n",
      "AWAY_PLAYER5_ID 0.0979165369432\n",
      "SHOT_CLOCK 0.0519234361574\n",
      "off_height 0.0205556731715\n",
      "def_height 0.0239355409158\n"
     ]
    }
   ],
   "source": [
    "frames = [data_2013,data_2014]\n",
    "combined = pd.concat(frames)\n",
    "\n",
    "combined[\"unique\"] = range(0,len(combined))\n",
    "for i, c in enumerate(combined.isnull().sum()/combined.shape[0]):\n",
    "    if c != 0:\n",
    "        print combined.columns[i], c"
   ]
  },
  {
   "cell_type": "code",
   "execution_count": 5,
   "metadata": {
    "collapsed": false
   },
   "outputs": [],
   "source": [
    "a = np.concatenate((combined.PLAYER1_NAME, combined.PLAYER2_NAME))\n",
    "b = np.concatenate((combined.PLAYER1_ID, combined.PLAYER2_ID))"
   ]
  },
  {
   "cell_type": "code",
   "execution_count": 6,
   "metadata": {
    "collapsed": false
   },
   "outputs": [],
   "source": [
    "player_id_dict = {k : v for k, v in zip(b, a)}\n",
    "team_id_dict = {int(k) : v1+\" \"+v2 for k, v1, v2 in zip(combined.PLAYER1_TEAM_ID, combined.PLAYER1_TEAM_CITY, combined.PLAYER1_TEAM_NICKNAME)}"
   ]
  },
  {
   "cell_type": "code",
   "execution_count": 7,
   "metadata": {
    "collapsed": true
   },
   "outputs": [],
   "source": [
    "defender_id_dict = {int(k) : v for k, v in zip(combined.CLOSEST_DEFENDER_PLAYER_ID, combined.CLOSEST_DEFENDER)}"
   ]
  },
  {
   "cell_type": "code",
   "execution_count": 8,
   "metadata": {
    "collapsed": false
   },
   "outputs": [],
   "source": [
    "for p in defender_id_dict.keys():\n",
    "    temp = p in player_id_dict.keys()\n",
    "    if not temp:\n",
    "        splt = defender_id_dict[p].split(\",\")\n",
    "        player_id_dict[p] = splt[1]+\" \"+splt[0]"
   ]
  },
  {
   "cell_type": "code",
   "execution_count": 9,
   "metadata": {
    "collapsed": false,
    "scrolled": true
   },
   "outputs": [
    {
     "name": "stdout",
     "output_type": "stream",
     "text": [
      "0 : Unnamed: 0\n",
      "1 : EVENTMSGACTIONTYPE\n",
      "2 : EVENTMSGTYPE\n",
      "3 : EVENTNUM\n",
      "4 : GAME_ID\n",
      "5 : HOMEDESCRIPTION\n",
      "6 : NEUTRALDESCRIPTION\n",
      "7 : PCTIMESTRING\n",
      "8 : PERIOD_x\n",
      "9 : PERSON1TYPE\n",
      "10 : PERSON2TYPE\n",
      "11 : PERSON3TYPE\n",
      "12 : PLAYER1_ID\n",
      "13 : PLAYER1_NAME\n",
      "14 : PLAYER1_TEAM_ABBREVIATION\n",
      "15 : PLAYER1_TEAM_CITY\n",
      "16 : PLAYER1_TEAM_ID\n",
      "17 : PLAYER1_TEAM_NICKNAME\n",
      "18 : PLAYER2_ID\n",
      "19 : PLAYER2_NAME\n",
      "20 : PLAYER2_TEAM_ABBREVIATION\n",
      "21 : PLAYER2_TEAM_CITY\n",
      "22 : PLAYER2_TEAM_ID\n",
      "23 : PLAYER2_TEAM_NICKNAME\n",
      "24 : PLAYER3_ID\n",
      "25 : PLAYER3_NAME\n",
      "26 : PLAYER3_TEAM_ABBREVIATION\n",
      "27 : PLAYER3_TEAM_CITY\n",
      "28 : PLAYER3_TEAM_ID\n",
      "29 : PLAYER3_TEAM_NICKNAME\n",
      "30 : SCORE\n",
      "31 : SCOREMARGIN\n",
      "32 : VISITORDESCRIPTION\n",
      "33 : WCTIMESTRING\n",
      "34 : HOME_TEAM_ID\n",
      "35 : AWAY_TEAM_ID\n",
      "36 : HOME_PLAYER1_ID\n",
      "37 : HOME_PLAYER2_ID\n",
      "38 : HOME_PLAYER3_ID\n",
      "39 : HOME_PLAYER4_ID\n",
      "40 : HOME_PLAYER5_ID\n",
      "41 : AWAY_PLAYER1_ID\n",
      "42 : AWAY_PLAYER2_ID\n",
      "43 : AWAY_PLAYER3_ID\n",
      "44 : AWAY_PLAYER4_ID\n",
      "45 : AWAY_PLAYER5_ID\n",
      "46 : ACTION_BEFORE\n",
      "47 : Unnamed: 0.1\n",
      "48 : CLOSEST_DEFENDER\n",
      "49 : CLOSEST_DEFENDER_PLAYER_ID\n",
      "50 : CLOSE_DEF_DIST\n",
      "51 : DRIBBLES\n",
      "52 : FGM\n",
      "53 : FINAL_MARGIN\n",
      "54 : GAME_CLOCK\n",
      "55 : GAME_ID.1\n",
      "56 : LOCATION\n",
      "57 : MATCHUP\n",
      "58 : PERIOD_y\n",
      "59 : PERIOD.1\n",
      "60 : PTS\n",
      "61 : PTS_TYPE\n",
      "62 : SHOT_CLOCK\n",
      "63 : SHOT_DIST\n",
      "64 : SHOT_NUMBER\n",
      "65 : SHOT_RESULT\n",
      "66 : TOUCH_TIME\n",
      "67 : W\n",
      "68 : GRID_TYPE\n",
      "69 : GAME_EVENT_ID\n",
      "70 : PLAYER_ID\n",
      "71 : PLAYER_ID.1\n",
      "72 : PLAYER_NAME\n",
      "73 : TEAM_ID\n",
      "74 : MINUTES_REMAINING\n",
      "75 : SECONDS_REMAINING\n",
      "76 : EVENT_TYPE\n",
      "77 : ACTION_TYPE\n",
      "78 : SHOT_TYPE\n",
      "79 : SHOT_ZONE_BASIC\n",
      "80 : SHOT_ZONE_AREA\n",
      "81 : SHOT_ZONE_RANGE\n",
      "82 : SHOT_DISTANCE\n",
      "83 : LOC_X\n",
      "84 : LOC_Y\n",
      "85 : SHOT_ATTEMPTED_FLAG\n",
      "86 : SHOT_MADE_FLAG\n",
      "87 : off_height\n",
      "88 : def_height\n",
      "89 : unique\n"
     ]
    }
   ],
   "source": [
    "for i, c in enumerate(combined.columns):\n",
    "        print i, \":\", c"
   ]
  },
  {
   "cell_type": "code",
   "execution_count": 10,
   "metadata": {
    "collapsed": false
   },
   "outputs": [],
   "source": [
    "combined_ = combined.drop(combined.columns[[0, 5, 6,7,12,13,14,15,16,17,19,20,21,22,23,25,26,27,28,29,30,32,47,48,52,54,55,57,58,59,71,68,76,72,78,85,89]], axis=1)"
   ]
  },
  {
   "cell_type": "code",
   "execution_count": 11,
   "metadata": {
    "collapsed": false,
    "scrolled": true
   },
   "outputs": [
    {
     "name": "stdout",
     "output_type": "stream",
     "text": [
      "0 : EVENTMSGACTIONTYPE\n",
      "1 : EVENTMSGTYPE\n",
      "2 : EVENTNUM\n",
      "3 : GAME_ID\n",
      "4 : PERIOD_x\n",
      "5 : PERSON1TYPE\n",
      "6 : PERSON2TYPE\n",
      "7 : PERSON3TYPE\n",
      "8 : PLAYER2_ID\n",
      "9 : PLAYER3_ID\n",
      "10 : SCOREMARGIN\n",
      "11 : WCTIMESTRING\n",
      "12 : HOME_TEAM_ID\n",
      "13 : AWAY_TEAM_ID\n",
      "14 : HOME_PLAYER1_ID\n",
      "15 : HOME_PLAYER2_ID\n",
      "16 : HOME_PLAYER3_ID\n",
      "17 : HOME_PLAYER4_ID\n",
      "18 : HOME_PLAYER5_ID\n",
      "19 : AWAY_PLAYER1_ID\n",
      "20 : AWAY_PLAYER2_ID\n",
      "21 : AWAY_PLAYER3_ID\n",
      "22 : AWAY_PLAYER4_ID\n",
      "23 : AWAY_PLAYER5_ID\n",
      "24 : ACTION_BEFORE\n",
      "25 : CLOSEST_DEFENDER_PLAYER_ID\n",
      "26 : CLOSE_DEF_DIST\n",
      "27 : DRIBBLES\n",
      "28 : FINAL_MARGIN\n",
      "29 : LOCATION\n",
      "30 : PTS\n",
      "31 : PTS_TYPE\n",
      "32 : SHOT_CLOCK\n",
      "33 : SHOT_DIST\n",
      "34 : SHOT_NUMBER\n",
      "35 : SHOT_RESULT\n",
      "36 : TOUCH_TIME\n",
      "37 : W\n",
      "38 : GAME_EVENT_ID\n",
      "39 : PLAYER_ID\n",
      "40 : TEAM_ID\n",
      "41 : MINUTES_REMAINING\n",
      "42 : SECONDS_REMAINING\n",
      "43 : ACTION_TYPE\n",
      "44 : SHOT_ZONE_BASIC\n",
      "45 : SHOT_ZONE_AREA\n",
      "46 : SHOT_ZONE_RANGE\n",
      "47 : SHOT_DISTANCE\n",
      "48 : LOC_X\n",
      "49 : LOC_Y\n",
      "50 : SHOT_MADE_FLAG\n",
      "51 : off_height\n",
      "52 : def_height\n"
     ]
    }
   ],
   "source": [
    "for i, c in enumerate(combined_.columns):\n",
    "        print i, \":\", c"
   ]
  },
  {
   "cell_type": "code",
   "execution_count": 12,
   "metadata": {
    "collapsed": true
   },
   "outputs": [],
   "source": [
    "def height(thing):\n",
    "    try:\n",
    "        f, i = thing.split('-')\n",
    "    except AttributeError:\n",
    "        return None\n",
    "    except ValueError:\n",
    "        return None\n",
    "    else:\n",
    "        return int(f)*12+int(i)"
   ]
  },
  {
   "cell_type": "code",
   "execution_count": 13,
   "metadata": {
    "collapsed": false
   },
   "outputs": [],
   "source": [
    "combined_.W = combined_.W == \"W\"\n",
    "combined_['SEC_LEFT_Q'] = combined_.MINUTES_REMAINING*60+combined_.SECONDS_REMAINING\n",
    "combined_['SEC_LEFT_G'] = np.where(combined_.PERIOD_x < 5, combined_.SEC_LEFT_Q+720*(4-combined_.PERIOD_x), combined_.SEC_LEFT_Q)\n",
    "combined_.LOCATION = np.where(combined_.LOCATION == \"H\", 1, 0)\n",
    "combined_.off_height = combined_.off_height.apply(lambda x: height(x))\n",
    "combined_.def_height = combined_.def_height.apply(lambda x: height(x))\n",
    "del combined_['MINUTES_REMAINING']\n",
    "del combined_['SECONDS_REMAINING']"
   ]
  },
  {
   "cell_type": "code",
   "execution_count": 14,
   "metadata": {
    "collapsed": false
   },
   "outputs": [],
   "source": [
    "combined_.reset_index(drop=True, inplace=True)"
   ]
  },
  {
   "cell_type": "code",
   "execution_count": 15,
   "metadata": {
    "collapsed": true
   },
   "outputs": [],
   "source": [
    "combined_.to_csv('parsed_df.csv')"
   ]
  },
  {
   "cell_type": "code",
   "execution_count": 16,
   "metadata": {
    "collapsed": true
   },
   "outputs": [],
   "source": [
    "player_id_dict = {k : v for k, v in zip(b, a)}\n",
    "team_id_dict = {int(k) : v1+\" \"+v2 for k, v1, v2 in zip(combined.PLAYER1_TEAM_ID, combined.PLAYER1_TEAM_CITY, combined.PLAYER1_TEAM_NICKNAME)}"
   ]
  },
  {
   "cell_type": "code",
   "execution_count": 17,
   "metadata": {
    "collapsed": false
   },
   "outputs": [],
   "source": [
    "pd.DataFrame([[k,v] for k, v in player_id_dict.iteritems()], columns=[\"ID\", \"NAME\"]).to_json('Player_ID_Dict.json')\n",
    "pd.DataFrame([[k,v] for k, v in team_id_dict.iteritems()], columns=[\"ID\", \"NAME\"]).to_json('Team_ID_Dict.json')"
   ]
  }
 ],
 "metadata": {
  "kernelspec": {
   "display_name": "Python 2",
   "language": "python",
   "name": "python2"
  },
  "language_info": {
   "codemirror_mode": {
    "name": "ipython",
    "version": 2
   },
   "file_extension": ".py",
   "mimetype": "text/x-python",
   "name": "python",
   "nbconvert_exporter": "python",
   "pygments_lexer": "ipython2",
   "version": "2.7.10"
  }
 },
 "nbformat": 4,
 "nbformat_minor": 0
}
