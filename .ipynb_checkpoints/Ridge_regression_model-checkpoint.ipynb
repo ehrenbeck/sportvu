{
 "cells": [
  {
   "cell_type": "code",
   "execution_count": 1,
   "metadata": {
    "collapsed": true
   },
   "outputs": [],
   "source": [
    "%matplotlib inline\n",
    "import numpy as np\n",
    "import scipy as sp\n",
    "import matplotlib as mpl\n",
    "import matplotlib.cm as cm\n",
    "import matplotlib.pyplot as plt\n",
    "import pandas as pd\n",
    "pd.set_option('display.width', 500)\n",
    "pd.set_option('display.max_columns', 100)\n",
    "pd.set_option('display.notebook_repr_html', True)\n",
    "import seaborn as sns\n",
    "sns.set_style(\"whitegrid\")\n",
    "sns.set_context(\"poster\")"
   ]
  },
  {
   "cell_type": "code",
   "execution_count": 2,
   "metadata": {
    "collapsed": true
   },
   "outputs": [],
   "source": [
    "data_2014 = pd.read_csv(\"joined_shots_2014.csv\")"
   ]
  },
  {
   "cell_type": "code",
   "execution_count": 3,
   "metadata": {
    "collapsed": false
   },
   "outputs": [],
   "source": [
    "data_2013 = pd.read_csv(\"joined_shots_2013.csv\")"
   ]
  },
  {
   "cell_type": "code",
   "execution_count": 4,
   "metadata": {
    "collapsed": true
   },
   "outputs": [],
   "source": [
    "frames = [data_2013,data_2014]\n",
    "combined = pd.concat(frames)"
   ]
  },
  {
   "cell_type": "code",
   "execution_count": 5,
   "metadata": {
    "collapsed": false
   },
   "outputs": [
    {
     "data": {
      "text/plain": [
       "Unnamed: 0                        0\n",
       "CLOSEST_DEFENDER                  0\n",
       "CLOSEST_DEFENDER_PLAYER_ID        0\n",
       "CLOSE_DEF_DIST                    0\n",
       "DRIBBLES                          0\n",
       "FGM                               0\n",
       "FINAL_MARGIN                      0\n",
       "GAME_CLOCK                        0\n",
       "GAME_ID                           0\n",
       "GAME_ID.1                         0\n",
       "LOCATION                          0\n",
       "MATCHUP                           0\n",
       "PERIOD                            0\n",
       "PERIOD.1                          0\n",
       "PTS                               0\n",
       "PTS_TYPE                          0\n",
       "SHOT_CLOCK                    20847\n",
       "SHOT_DIST                         0\n",
       "SHOT_NUMBER                       0\n",
       "SHOT_RESULT                       0\n",
       "TOUCH_TIME                        0\n",
       "W                                 0\n",
       "GRID_TYPE                         0\n",
       "GAME_EVENT_ID                     0\n",
       "PLAYER_ID                         0\n",
       "PLAYER_ID.1                       0\n",
       "PLAYER_NAME                       0\n",
       "TEAM_ID                           0\n",
       "MINUTES_REMAINING                 0\n",
       "SECONDS_REMAINING                 0\n",
       "EVENT_TYPE                        0\n",
       "ACTION_TYPE                       0\n",
       "SHOT_TYPE                         0\n",
       "SHOT_ZONE_BASIC                   0\n",
       "SHOT_ZONE_AREA                    0\n",
       "SHOT_ZONE_RANGE                   0\n",
       "SHOT_DISTANCE                     0\n",
       "LOC_X                             0\n",
       "LOC_Y                             0\n",
       "SHOT_ATTEMPTED_FLAG               0\n",
       "SHOT_MADE_FLAG                    0\n",
       "unique                            0\n",
       "dtype: int64"
      ]
     },
     "execution_count": 5,
     "metadata": {},
     "output_type": "execute_result"
    }
   ],
   "source": [
    "combined[\"unique\"] = range(0,len(combined))\n",
    "combined.head()\n",
    "combined.isnull().sum()"
   ]
  },
  {
   "cell_type": "code",
   "execution_count": 6,
   "metadata": {
    "collapsed": true
   },
   "outputs": [],
   "source": [
    "todummies = [u'ACTION_TYPE',\n",
    "       u'SHOT_TYPE', u'SHOT_ZONE_BASIC', u'SHOT_ZONE_AREA']\n",
    "for i in todummies:\n",
    "    dummies=pd.get_dummies(combined[i])\n",
    "    frames = [combined,dummies]\n",
    "    combined = pd.concat(frames,axis=1)\n"
   ]
  },
  {
   "cell_type": "markdown",
   "metadata": {},
   "source": [
    "combined.head()"
   ]
  },
  {
   "cell_type": "code",
   "execution_count": 7,
   "metadata": {
    "collapsed": false
   },
   "outputs": [
    {
     "data": {
      "text/plain": [
       "2.0"
      ]
     },
     "execution_count": 7,
     "metadata": {},
     "output_type": "execute_result"
    }
   ],
   "source": [
    "max(data_2013.FGM)\n"
   ]
  },
  {
   "cell_type": "code",
   "execution_count": 8,
   "metadata": {
    "collapsed": true
   },
   "outputs": [],
   "source": [
    "relevant = [u'CLOSE_DEF_DIST',u'PTS_TYPE',u'SHOT_DIST', u'TOUCH_TIME',u'Alley Oop Dunk Shot', u'Alley Oop Layup shot', u'Driving Bank Hook Shot', u'Driving Bank shot', u'Driving Dunk Shot', u'Driving Finger Roll Layup Shot', u'Driving Hook Shot', u'Driving Jump shot', u'Driving Layup Shot', u'Driving Reverse Layup Shot', u'Driving Slam Dunk Shot', u'Dunk Shot', u'Fadeaway Bank shot', u'Fadeaway Jump Shot', u'Finger Roll Layup Shot', u'Floating Jump shot', u'Hook Bank Shot', u'Hook Shot', u'Jump Bank Hook Shot', u'Jump Bank Shot', u'Jump Hook Shot',\n",
    "       u'Jump Shot', u'Layup Shot', u'Pullup Bank shot', u'Pullup Jump shot', u'Putback Dunk Shot', u'Putback Layup Shot', u'Putback Reverse Dunk Shot', u'Putback Slam Dunk Shot', u'Reverse Dunk Shot', u'Reverse Layup Shot', u'Reverse Slam Dunk Shot', u'Running Bank Hook Shot', u'Running Bank shot', u'Running Dunk Shot', u'Running Finger Roll Layup Shot', u'Running Hook Shot', u'Running Jump Shot', u'Running Layup Shot', u'Running Reverse Layup Shot', u'Running Slam Dunk Shot',\n",
    "       u'Running Tip Shot', u'Slam Dunk Shot', u'Step Back Jump shot', u'Tip Shot', u'Turnaround Bank Hook Shot', u'Turnaround Bank shot', u'Turnaround Fadeaway shot', u'Turnaround Hook Shot', u'Turnaround Jump Shot', u'2PT Field Goal', u'3PT Field Goal', u'Above the Break 3', u'Backcourt', u'In The Paint (Non-RA)', u'Left Corner 3', u'Mid-Range', u'Restricted Area', u'Right Corner 3', u'Back Court(BC)', u'Center(C)', u'Left Side Center(LC)', u'Left Side(L)', u'Right Side Center(RC)',\n",
    "       u'Right Side(R)']\n",
    "target = [u'FGM']\n",
    "from sklearn.cross_validation import train_test_split\n",
    "itrain, itest = train_test_split(xrange(combined.shape[0]), train_size=0.7)\n",
    "mask=np.ones(combined.shape[0], dtype='int')\n",
    "mask[itrain]=1\n",
    "mask[itest]=0\n",
    "mask = (mask==1)"
   ]
  },
  {
   "cell_type": "code",
   "execution_count": null,
   "metadata": {
    "collapsed": false
   },
   "outputs": [],
   "source": []
  },
  {
   "cell_type": "code",
   "execution_count": 9,
   "metadata": {
    "collapsed": true
   },
   "outputs": [],
   "source": [
    "import sklearn\n",
    "from sklearn.metrics import mean_squared_error\n",
    "\n",
    "\n",
    "def cv_optimize(clf, parameters, X, Y, n_folds=5,score_func=None):\n",
    "    gs = sklearn.grid_search.GridSearchCV(clf, param_grid=parameters, cv=n_folds,scoring=score_func)\n",
    "    gs.fit(X, Y)\n",
    "    print \"BEST PARAMS\", gs.best_params_\n",
    "    best = gs.best_estimator_\n",
    "    return best\n",
    "\n",
    "from sklearn.metrics import confusion_matrix\n",
    "from sklearn.linear_model import Ridge\n",
    "from sklearn.grid_search import GridSearchCV\n",
    "def do_classify(clf, parameters, indf, featurenames, targetname, target1val, mask=None, reuse_split=None, score_func=None, n_folds=5):\n",
    "    subdf=indf[featurenames]\n",
    "    X=subdf.values\n",
    "    y=(indf[targetname].values==target1val)*1\n",
    "    if mask !=None:\n",
    "        print \"using mask\"\n",
    "        Xtrain, Xtest, ytrain, ytest = X[mask], X[~mask], y[mask], y[~mask]\n",
    "    if reuse_split !=None:\n",
    "        print \"using reuse split\"\n",
    "        Xtrain, Xtest, ytrain, ytest = reuse_split['Xtrain'], reuse_split['Xtest'], reuse_split['ytrain'], reuse_split['ytest']\n",
    "    if parameters:\n",
    "        clf = cv_optimize(clf, parameters, Xtrain, ytrain, n_folds=n_folds, score_func=score_func)\n",
    "    clf=clf.fit(Xtrain, ytrain)\n",
    "    training_accuracy = clf.score(Xtrain, ytrain)\n",
    "    test_accuracy = clf.score(Xtest, ytest)\n",
    "    print \"############# based on standard predict ################\"\n",
    "    print \"Accuracy on training data: %0.2f\" % (training_accuracy)\n",
    "    print \"Accuracy on test data:     %0.2f\" % (test_accuracy)\n",
    "#     print confusion_matrix(ytest, clf.predict(Xtest))\n",
    "    print \"########################################################\"\n",
    "    return clf, Xtrain, ytrain, Xtest, ytest"
   ]
  },
  {
   "cell_type": "code",
   "execution_count": 10,
   "metadata": {
    "collapsed": false
   },
   "outputs": [
    {
     "name": "stdout",
     "output_type": "stream",
     "text": [
      "using mask\n",
      "BEST PARAMS {'alpha': 4.0}\n",
      "############# based on standard predict ################\n",
      "Accuracy on training data: 0.12\n",
      "Accuracy on test data:     0.12\n",
      "########################################################\n",
      "CPU times: user 14.7 s, sys: 3.71 s, total: 18.4 s\n",
      "Wall time: 15.7 s\n"
     ]
    },
    {
     "name": "stderr",
     "output_type": "stream",
     "text": [
      "/Users/harrisonchase/anaconda/lib/python2.7/site-packages/IPython/kernel/__main__.py:19: FutureWarning: comparison to `None` will result in an elementwise object comparison in the future.\n"
     ]
    }
   ],
   "source": [
    "%%time\n",
    "clfsvm, Xtrain, ytrain, Xtest, ytest = do_classify(Ridge(), {\"alpha\": [0.001, 0.01, 0.1, 1.0,3.0,4.0, 10.0, 100.0]}, combined,relevant, u'FGM',1,score_func=\"mean_squared_error\", mask=mask)"
   ]
  },
  {
   "cell_type": "code",
   "execution_count": 27,
   "metadata": {
    "collapsed": true
   },
   "outputs": [],
   "source": []
  },
  {
   "cell_type": "code",
   "execution_count": 29,
   "metadata": {
    "collapsed": false
   },
   "outputs": [],
   "source": []
  },
  {
   "cell_type": "code",
   "execution_count": 39,
   "metadata": {
    "collapsed": false
   },
   "outputs": [],
   "source": [
    "# positives = combined[\"FGM\"].values==1\n",
    "# plt.figure(\"SHOT_DIST\")\n",
    "# sns.kdeplot(combined[\"SHOT_DIST\"][positives],label=\"Made\")\n",
    "# sns.kdeplot(combined[\"SHOT_DIST\"][~positives],label=\"Missed\")\n",
    "# plt.figure(\"CLOSE_DEF_DIST\")\n",
    "# sns.kdeplot(combined[\"CLOSE_DEF_DIST\"][positives],label=\"Made\")\n",
    "# sns.kdeplot(combined[\"CLOSE_DEF_DIST\"][~positives],label=\"Missed\")\n",
    "\n"
   ]
  },
  {
   "cell_type": "code",
   "execution_count": null,
   "metadata": {
    "collapsed": true
   },
   "outputs": [],
   "source": [
    "Xmatrix=combined[relevant].values\n",
    "Yresp=combined['FGM'].values"
   ]
  },
  {
   "cell_type": "code",
   "execution_count": 125,
   "metadata": {
    "collapsed": false
   },
   "outputs": [
    {
     "name": "stdout",
     "output_type": "stream",
     "text": [
      "(281046, 69)\n",
      "(120449, 69)\n",
      "(281046,)\n",
      "(120449,)\n"
     ]
    }
   ],
   "source": [
    "Xmatrix_train=Xmatrix[mask]\n",
    "print Xmatrix_train.shape\n",
    "Xmatrix_test=Xmatrix[~mask]\n",
    "print Xmatrix_test.shape\n",
    "Yresp_train=Yresp[mask]\n",
    "print Yresp_train.shape\n",
    "Yresp_test=Yresp[~mask]\n",
    "print Yresp_test.shape"
   ]
  },
  {
   "cell_type": "code",
   "execution_count": 150,
   "metadata": {
    "collapsed": true
   },
   "outputs": [],
   "source": [
    "from sklearn.metrics import make_scorer\n",
    "from sklearn.grid_search import GridSearchCV\n",
    "def cv_optimize_ridge(X, y, n_folds=4):\n",
    "    clf = Ridge()\n",
    "    parameters = {\"alpha\": [0.001, 0.01, 0.1, 1.0,3.0,4.0, 10.0, 100.0]}\n",
    "    gs = GridSearchCV(clf, param_grid=parameters, cv=n_folds, scoring=\"mean_squared_error\")\n",
    "    gs.fit(X, y)\n",
    "    return gs\n"
   ]
  },
  {
   "cell_type": "code",
   "execution_count": 151,
   "metadata": {
    "collapsed": false
   },
   "outputs": [],
   "source": [
    "fitmodel = cv_optimize_ridge(Xmatrix_train, Yresp_train, n_folds=4)\n"
   ]
  },
  {
   "cell_type": "code",
   "execution_count": 152,
   "metadata": {
    "collapsed": false
   },
   "outputs": [
    {
     "name": "stdout",
     "output_type": "stream",
     "text": [
      "GridSearchCV(cv=4, error_score='raise',\n",
      "       estimator=Ridge(alpha=1.0, copy_X=True, fit_intercept=True, max_iter=None,\n",
      "   normalize=False, solver='auto', tol=0.001),\n",
      "       fit_params={}, iid=True, loss_func=None, n_jobs=1,\n",
      "       param_grid={'alpha': [0.001, 0.01, 0.1, 1.0, 3.0, 4.0, 10.0, 100.0]},\n",
      "       pre_dispatch='2*n_jobs', refit=True, score_func=None,\n",
      "       scoring='mean_squared_error', verbose=0)\n"
     ]
    }
   ],
   "source": [
    "print fitmodel"
   ]
  },
  {
   "cell_type": "code",
   "execution_count": 153,
   "metadata": {
    "collapsed": false
   },
   "outputs": [
    {
     "data": {
      "text/plain": [
       "(Ridge(alpha=3.0, copy_X=True, fit_intercept=True, max_iter=None,\n",
       "    normalize=False, solver='auto', tol=0.001),\n",
       " {'alpha': 3.0},\n",
       " -0.21817195058084246,\n",
       " [mean: -0.21817, std: 0.00030, params: {'alpha': 0.001},\n",
       "  mean: -0.21817, std: 0.00030, params: {'alpha': 0.01},\n",
       "  mean: -0.21817, std: 0.00030, params: {'alpha': 0.1},\n",
       "  mean: -0.21817, std: 0.00030, params: {'alpha': 1.0},\n",
       "  mean: -0.21817, std: 0.00030, params: {'alpha': 3.0},\n",
       "  mean: -0.21817, std: 0.00030, params: {'alpha': 4.0},\n",
       "  mean: -0.21817, std: 0.00029, params: {'alpha': 10.0},\n",
       "  mean: -0.21825, std: 0.00029, params: {'alpha': 100.0}])"
      ]
     },
     "execution_count": 153,
     "metadata": {},
     "output_type": "execute_result"
    }
   ],
   "source": [
    "fitmodel.best_estimator_, fitmodel.best_params_, fitmodel.best_score_, fitmodel.grid_scores_"
   ]
  },
  {
   "cell_type": "code",
   "execution_count": 154,
   "metadata": {
    "collapsed": false
   },
   "outputs": [],
   "source": [
    "alphawechoose = fitmodel.best_params_['alpha']\n",
    "clf = Ridge(alpha=alphawechoose).fit(Xmatrix_train,Yresp_train)"
   ]
  },
  {
   "cell_type": "code",
   "execution_count": 157,
   "metadata": {
    "collapsed": false
   },
   "outputs": [
    {
     "data": {
      "text/plain": [
       "0.12220648954454916"
      ]
     },
     "execution_count": 157,
     "metadata": {},
     "output_type": "execute_result"
    }
   ],
   "source": [
    "from sklearn.metrics import mean_squared_error\n",
    "\n",
    "err=mean_squared_error(clf.predict(Xmatrix_test), Yresp_test)\n",
    "errtr=mean_squared_error(clf.predict(Xmatrix_train), Yresp_train)\n",
    "errout=0.8*errtr+0.2*err\n"
   ]
  },
  {
   "cell_type": "code",
   "execution_count": 142,
   "metadata": {
    "collapsed": false
   },
   "outputs": [
    {
     "name": "stdout",
     "output_type": "stream",
     "text": [
      "0.217643267912\n"
     ]
    }
   ],
   "source": [
    "print err"
   ]
  },
  {
   "cell_type": "code",
   "execution_count": 143,
   "metadata": {
    "collapsed": false
   },
   "outputs": [
    {
     "name": "stdout",
     "output_type": "stream",
     "text": [
      "0.218025960264\n"
     ]
    }
   ],
   "source": [
    "print errtr"
   ]
  },
  {
   "cell_type": "code",
   "execution_count": 161,
   "metadata": {
    "collapsed": false
   },
   "outputs": [],
   "source": [
    "predictions = clf.predict(Xmatrix_test)\n",
    "for i,j in enumerate(predictions):\n",
    "    if j>=.5:\n",
    "        predictions[i]=1\n",
    "    else:\n",
    "        predictions[i]=0\n",
    "\n",
    "      \n"
   ]
  },
  {
   "cell_type": "code",
   "execution_count": 169,
   "metadata": {
    "collapsed": false
   },
   "outputs": [
    {
     "name": "stdout",
     "output_type": "stream",
     "text": [
      "(120449,)\n"
     ]
    }
   ],
   "source": [
    "print predictions.shape"
   ]
  },
  {
   "cell_type": "code",
   "execution_count": 168,
   "metadata": {
    "collapsed": false
   },
   "outputs": [
    {
     "name": "stdout",
     "output_type": "stream",
     "text": [
      "(120449,)\n"
     ]
    }
   ],
   "source": [
    "print Yresp_test.shape"
   ]
  },
  {
   "cell_type": "code",
   "execution_count": 176,
   "metadata": {
    "collapsed": false
   },
   "outputs": [
    {
     "data": {
      "text/plain": [
       "0.65481656136622135"
      ]
     },
     "execution_count": 176,
     "metadata": {},
     "output_type": "execute_result"
    }
   ],
   "source": [
    "np.mean(predictions==Yresp_test)"
   ]
  },
  {
   "cell_type": "code",
   "execution_count": 175,
   "metadata": {
    "collapsed": false
   },
   "outputs": [
    {
     "data": {
      "text/plain": [
       "0"
      ]
     },
     "execution_count": 175,
     "metadata": {},
     "output_type": "execute_result"
    }
   ],
   "source": []
  },
  {
   "cell_type": "code",
   "execution_count": null,
   "metadata": {
    "collapsed": true
   },
   "outputs": [],
   "source": []
  }
 ],
 "metadata": {
  "kernelspec": {
   "display_name": "Python 2",
   "language": "python",
   "name": "python2"
  },
  "language_info": {
   "codemirror_mode": {
    "name": "ipython",
    "version": 2
   },
   "file_extension": ".py",
   "mimetype": "text/x-python",
   "name": "python",
   "nbconvert_exporter": "python",
   "pygments_lexer": "ipython2",
   "version": "2.7.10"
  }
 },
 "nbformat": 4,
 "nbformat_minor": 0
}
