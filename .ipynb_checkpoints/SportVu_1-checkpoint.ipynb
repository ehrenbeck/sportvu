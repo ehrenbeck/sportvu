{
 "cells": [
  {
   "cell_type": "code",
   "execution_count": 1,
   "metadata": {
    "collapsed": false
   },
   "outputs": [
    {
     "name": "stdout",
     "output_type": "stream",
     "text": [
      "Requirement already satisfied (use --upgrade to upgrade): nbastats in /Users/harrisonchase/anaconda/lib/python2.7/site-packages\n",
      "Requirement already satisfied (use --upgrade to upgrade): requests>=2.2.1 in /Users/harrisonchase/anaconda/lib/python2.7/site-packages (from nbastats)\n",
      "Requirement already satisfied (use --upgrade to upgrade): pandas>=0.13 in /Users/harrisonchase/anaconda/lib/python2.7/site-packages (from nbastats)\n",
      "Requirement already satisfied (use --upgrade to upgrade): python-dateutil in /Users/harrisonchase/anaconda/lib/python2.7/site-packages (from pandas>=0.13->nbastats)\n",
      "Requirement already satisfied (use --upgrade to upgrade): pytz>=2011k in /Users/harrisonchase/anaconda/lib/python2.7/site-packages (from pandas>=0.13->nbastats)\n",
      "Requirement already satisfied (use --upgrade to upgrade): numpy>=1.7.0 in /Users/harrisonchase/anaconda/lib/python2.7/site-packages (from pandas>=0.13->nbastats)\n",
      "Requirement already satisfied (use --upgrade to upgrade): six>=1.5 in /Users/harrisonchase/anaconda/lib/python2.7/site-packages (from python-dateutil->pandas>=0.13->nbastats)\n",
      "Requirement already satisfied (use --upgrade to upgrade): py-goldsberry in /Users/harrisonchase/anaconda/lib/python2.7/site-packages\n",
      "Requirement already satisfied (use --upgrade to upgrade): requests>=2.7 in /Users/harrisonchase/anaconda/lib/python2.7/site-packages (from py-goldsberry)\n"
     ]
    }
   ],
   "source": [
    "## Get some random module\n",
    "!pip install nbastats\n",
    "import nbastats.nbastats as nbastats\n",
    "!pip install py-goldsberry\n",
    "import goldsberry"
   ]
  },
  {
   "cell_type": "code",
   "execution_count": 2,
   "metadata": {
    "collapsed": true
   },
   "outputs": [],
   "source": [
    "## Import a bunch of modules that may be helpful\n",
    "import numpy as np\n",
    "import scipy as sp\n",
    "import matplotlib as mpl\n",
    "import matplotlib.cm as cm\n",
    "import matplotlib.pyplot as plt\n",
    "import pandas as pd\n",
    "import time\n",
    "pd.set_option('display.width', 500)\n",
    "pd.set_option('display.max_columns', 100)\n",
    "pd.set_option('display.notebook_repr_html', True)\n",
    "import seaborn as sns\n",
    "import requests"
   ]
  },
  {
   "cell_type": "code",
   "execution_count": 326,
   "metadata": {
    "collapsed": false
   },
   "outputs": [
    {
     "name": "stdout",
     "output_type": "stream",
     "text": [
      "(200532, 40) (203590, 21) (205550, 22)\n"
     ]
    }
   ],
   "source": [
    "## Saving what we merged, checking the shape to see how many shots we didn't have\n",
    "joined_shots.to_csv(\"joined_shots_2014.csv\")\n",
    "print joined_shots.shape,all_shots.shape,all_chart.shape"
   ]
  },
  {
   "cell_type": "code",
   "execution_count": 9,
   "metadata": {
    "collapsed": false
   },
   "outputs": [],
   "source": [
    "## function for getting the shot log of a player given his ID and the year\n",
    "def shot_log(year,player_id):\n",
    "    api_param = {'DateFrom' : '',\n",
    "                    'DateTo' : '',\n",
    "                    'GameSegment': '',\n",
    "                    'LastNGames': 0,\n",
    "                    'LeagueID': \"00\",\n",
    "                    'Location': '',\n",
    "                    'Month': 0,\n",
    "                    'OpponentTeamID': 0,\n",
    "                    'Outcome': '',\n",
    "                    'Period': 0,\n",
    "                    'PlayerID': player_id,\n",
    "                    'Season': year,\n",
    "                    'SeasonSegment': '',\n",
    "                    'SeasonType': \"Regular Season\",\n",
    "                    'TeamID': 0,\n",
    "                    'VsConference':'',\n",
    "                    'VsDivision': ''\n",
    "                               }\n",
    "    pull=requests.get(\"http://stats.nba.com/stats/playerdashptshotlog?\",params=api_param)\n",
    "    headers = pull.json()['resultSets'][0]['headers']\n",
    "    values = pull.json()['resultSets'][0]['rowSet']\n",
    "    huh=pd.DataFrame([dict(zip(headers, value)) for value in values])\n",
    "    return huh\n"
   ]
  },
  {
   "cell_type": "code",
   "execution_count": 366,
   "metadata": {
    "collapsed": true
   },
   "outputs": [],
   "source": [
    "# get players in season a\n",
    "def players(a):\n",
    "    url = \"http://stats.nba.com/stats/commonallplayers?\"\n",
    "    api_param = {'IsOnlyCurrentSeason':\"0\",\n",
    "                          'LeagueID': '00',\n",
    "                          'Season': '2015-16'}\n",
    "    pull = requests.get(url, params=api_param)\n",
    "    _headers = pull.json()['resultSets'][0]['headers']\n",
    "    _values = pull.json()['resultSets'][0]['rowSet']\n",
    "    season=pd.DataFrame([dict(zip(_headers, value)) for value in _values])\n",
    "    season = season.query(\"FROM_YEAR <= @a and TO_YEAR >= @a\")\n",
    "    return season"
   ]
  },
  {
   "cell_type": "code",
   "execution_count": null,
   "metadata": {
    "collapsed": true
   },
   "outputs": [],
   "source": [
    "players2014=players('2014')\n",
    "players2013=players('2013')"
   ]
  },
  {
   "cell_type": "code",
   "execution_count": 293,
   "metadata": {
    "collapsed": false
   },
   "outputs": [],
   "source": [
    "#Get shot chart and shot log for all players in 2014\n",
    "#Don't run, already been saved\n",
    "all_shots= pd.DataFrame()\n",
    "all_chart = pd.DataFrame()\n",
    "for index, row in players2014.iterrows():\n",
    "    chart = nbastats.ShotChart(row[\"PERSON_ID\"],season=\"2014-15\")\n",
    "    all_chart=all_chart.append(chart.shotchart())\n",
    "    shots = shot_log(\"2014-15\",row[\"PERSON_ID\"])\n",
    "    shots['PLAYER_ID']=row[\"PERSON_ID\"]\n",
    "    all_shots = all_shots.append(shots)\n",
    "all_shots.to_csv(\"all_shots_2014.csv\")\n",
    "all_chart.to_csv(\"all_chart_2014.csv\")"
   ]
  },
  {
   "cell_type": "code",
   "execution_count": 295,
   "metadata": {
    "collapsed": false
   },
   "outputs": [],
   "source": [
    "#Get shot chart and shot log for all players in 2013\n",
    "#Don't run, already been saved\n",
    "all_shots= pd.DataFrame()\n",
    "all_chart = pd.DataFrame()\n",
    "for index, row in season2013.iterrows():\n",
    "    shots = shot_log(\"2013-14\",row[\"PERSON_ID\"])\n",
    "    shots['PLAYER_ID']=row[\"PERSON_ID\"]\n",
    "    all_shots = all_shots.append(shots)\n",
    "    chart = nbastats.ShotChart(row[\"PERSON_ID\"],season=\"2013-14\")\n",
    "    all_chart=all_chart.append(chart.shotchart())\n",
    "all_shots.to_csv(\"all_shots_2013.csv\")\n",
    "all_chart.to_csv(\"all_chart_2013.csv\")"
   ]
  },
  {
   "cell_type": "code",
   "execution_count": null,
   "metadata": {
    "collapsed": false
   },
   "outputs": [
    {
     "name": "stdout",
     "output_type": "stream",
     "text": [
      "202779\n",
      "hi\n",
      "hi\n",
      "200745\n",
      "hi\n",
      "hi\n",
      "hi\n",
      "hi\n",
      "hi\n",
      "hi\n",
      "hi\n",
      "200746\n",
      "hi\n",
      "hi\n",
      "hi"
     ]
    }
   ],
   "source": [
    "## Merging shot chart data with player tracking for 2014\n",
    "## DO NOT RUN... takes a while\n",
    "all_shots = pd.read_csv(\"all_shots_2013.csv\")\n",
    "all_chart = pd.read_csv(\"all_chart_2013.csv\")\n",
    "players=set(all_shots['PLAYER_ID'])\n",
    "joined_shots=pd.DataFrame()\n",
    "joined_shots_1=pd.DataFrame()\n",
    "for player in players:\n",
    "    shots = all_shots.loc[all_shots.PLAYER_ID==player].reset_index(drop=True)\n",
    "    chart = all_chart.loc[all_chart.PLAYER_ID==player].reset_index(drop=True)\n",
    "    split_time = shots.GAME_CLOCK.str.split(':')\n",
    "    col_names=[u'CLOSEST_DEFENDER', u'CLOSEST_DEFENDER_PLAYER_ID', u'CLOSE_DEF_DIST', \n",
    "               u'DRIBBLES', u'FGM', u'FINAL_MARGIN', u'GAME_CLOCK', u'GAME_ID', u'LOCATION', \n",
    "               u'MATCHUP', u'PERIOD', u'PTS', u'PTS_TYPE', u'SHOT_CLOCK', u'SHOT_DIST', \n",
    "               u'SHOT_NUMBER', u'SHOT_RESULT', u'TOUCH_TIME', u'W',u'GRID_TYPE',u'GAME_EVENT_ID',\n",
    "               u'PLAYER_ID', u'PLAYER_NAME', u'TEAM_ID',u'MINUTES_REMAINING', u'SECONDS_REMAINING', \n",
    "               u'EVENT_TYPE', u'ACTION_TYPE', u'SHOT_TYPE', u'SHOT_ZONE_BASIC', \n",
    "               u'SHOT_ZONE_AREA', u'SHOT_ZONE_RANGE', u'SHOT_DISTANCE', u'LOC_X', u'LOC_Y', \n",
    "               u'SHOT_ATTEMPTED_FLAG', u'SHOT_MADE_FLAG']\n",
    "    time = pd.DataFrame(shots.GAME_CLOCK.str.split(':').tolist(), columns=\"MIN SECONDS\".split())\n",
    "    shots['MIN'] = time['MIN']\n",
    "    shots['SECONDS'] = time['SECONDS']\n",
    "    shots['TIME']=60*shots.MIN.astype(int)+shots.SECONDS.astype(int)\n",
    "    chart['TIME']=60*chart.MINUTES_REMAINING+chart.SECONDS_REMAINING\n",
    "    games = set(chart[\"GAME_ID\"])\n",
    "    for game in games:\n",
    "        game_shots_chart=chart.loc[chart.GAME_ID==game].reset_index(drop=True)\n",
    "        game_shots_log = shots.loc[shots.GAME_ID==game].reset_index(drop=True)\n",
    "        if game_shots_chart.shape[0]==game_shots_log.shape[0]:\n",
    "            huh = pd.concat([game_shots_chart,game_shots_log],axis=1)\n",
    "            huh=huh[col_names]\n",
    "            joined_shots=joined_shots.append(huh)\n",
    "        else:\n",
    "            quarters=set(game_shots_chart['PERIOD'])\n",
    "            for quarter in quarters:\n",
    "                same_period=game_shots_log.loc[(game_shots_log.PERIOD==quarter)].reset_index(drop=True)\n",
    "                same_period_chart=game_shots_chart.loc[(game_shots_chart.PERIOD==quarter)].reset_index(drop=True)\n",
    "                if (not same_period.empty) and (not same_period_chart.empty):\n",
    "                    if same_period_chart.shape[0]==same_period.shape[0]:\n",
    "                        huh = pd.concat([same_period_chart,same_period],axis=1)\n",
    "                        huh=huh[col_names]\n",
    "                        joined_shots=joined_shots.append(huh)\n",
    "                    else:\n",
    "                        for index,row in same_period_chart.iterrows():\n",
    "                            same_period['DIF']=abs(same_period.TIME-row.TIME)\n",
    "                            df=same_period.sort(['DIF'],ascending=True)\n",
    "                            same_time=same_period.loc[[0]]\n",
    "                            if same_time.DIF[0]<5:\n",
    "                                print \"hi\"\n",
    "                                a=same_period_chart.loc[[index]].reset_index(drop=True)\n",
    "                                huh=pd.concat([a,same_time],axis=1)\n",
    "                                huh=huh[col_names]\n",
    "                                joined_shots_1=joined_shots_1.append(huh,ignore_index=True)\n",
    "    print player\n",
    "joined_shots"
   ]
  },
  {
   "cell_type": "code",
   "execution_count": null,
   "metadata": {
    "collapsed": true
   },
   "outputs": [],
   "source": [
    "## Saving what we merged, checking the shape to see how many shots we didn't have\n",
    "joined_shots.to_csv(\"joined_shots_2014.csv\")\n",
    "print joined_shots.shape,all_shots.shape,all_chart.shape"
   ]
  },
  {
   "cell_type": "code",
   "execution_count": null,
   "metadata": {
    "collapsed": true
   },
   "outputs": [],
   "source": [
    "##NEED TO DO THE SAME FOR 2013"
   ]
  },
  {
   "cell_type": "code",
   "execution_count": 345,
   "metadata": {
    "collapsed": false
   },
   "outputs": [],
   "source": [
    "joined_shots=pd.read_csv(\"joined_shots_2014.csv\")\n",
    "max(joined_shots.LOC_Y)\n",
    "plt.scatter(joined_shots.LOC_X,joined_shots.LOC_Y)\n",
    "plt.show()"
   ]
  },
  {
   "cell_type": "code",
   "execution_count": 350,
   "metadata": {
    "collapsed": false
   },
   "outputs": [],
   "source": [
    "huh=joined_shots[joined_shots.PTS_TYPE==2]\n",
    "plt.scatter(huh.LOC_X,huh.LOC_Y)\n",
    "plt.show()"
   ]
  }
 ],
 "metadata": {
  "kernelspec": {
   "display_name": "Python 2",
   "language": "python",
   "name": "python2"
  },
  "language_info": {
   "codemirror_mode": {
    "name": "ipython",
    "version": 2
   },
   "file_extension": ".py",
   "mimetype": "text/x-python",
   "name": "python",
   "nbconvert_exporter": "python",
   "pygments_lexer": "ipython2",
   "version": "2.7.10"
  }
 },
 "nbformat": 4,
 "nbformat_minor": 0
}
