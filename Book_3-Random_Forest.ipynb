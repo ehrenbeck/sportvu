{
 "cells": [
  {
   "cell_type": "code",
   "execution_count": 3,
   "metadata": {
    "collapsed": true
   },
   "outputs": [],
   "source": [
    "import numpy as np\n",
    "import json\n",
    "import pandas as pd\n",
    "from collections import Counter\n",
    "%matplotlib inline\n",
    "import scipy as sp\n",
    "from scipy import concatenate\n",
    "import matplotlib as mpl\n",
    "import matplotlib.cm as cm\n",
    "import matplotlib.pyplot as plt\n",
    "import seaborn as sns\n",
    "sns.set_style(\"whitegrid\")\n",
    "sns.set_context(\"poster\")\n",
    "import sklearn\n",
    "from sklearn.preprocessing import Imputer\n",
    "from sklearn.metrics import confusion_matrix\n",
    "from sklearn.grid_search import GridSearchCV\n",
    "from sklearn.ensemble import RandomForestClassifier\n",
    "import sklearn.metrics\n",
    "from sklearn.svm import LinearSVC\n",
    "from sklearn.metrics import mean_squared_error\n",
    "from sklearn.metrics import confusion_matrix\n",
    "from sklearn.linear_model import Ridge\n",
    "from sklearn.cross_validation import train_test_split\n",
    "from sklearn.grid_search import GridSearchCV\n",
    "pd.options.display.max_columns = 100"
   ]
  },
  {
   "cell_type": "markdown",
   "metadata": {},
   "source": [
    "# Data Exploration"
   ]
  },
  {
   "cell_type": "markdown",
   "metadata": {},
   "source": [
    "Using the data that we already have, we clean it in order to run a Random Forest. First, we create a new column that identifies the data by year (Later on, we are going to fit the model to the 2013 data and predict on the 2014 data). We create a dictionary of PLAYER1_ID and TEAM_ID, in case we need to access these values later."
   ]
  },
  {
   "cell_type": "code",
   "execution_count": 4,
   "metadata": {
    "collapsed": true
   },
   "outputs": [],
   "source": [
    "data_2014 = pd.read_csv(\"merged_shots/merged_shots_14.csv\")\n",
    "data_2013 = pd.read_csv(\"merged_shots/merged_shots_13.csv\")"
   ]
  },
  {
   "cell_type": "code",
   "execution_count": 5,
   "metadata": {
    "collapsed": true
   },
   "outputs": [],
   "source": [
    "data_2014['YEAR'] = 2014\n",
    "data_2013['YEAR'] = 2013"
   ]
  },
  {
   "cell_type": "markdown",
   "metadata": {},
   "source": [
    "Here we combine our data into 1 large dataframe, and check columns to see the percentage of null values"
   ]
  },
  {
   "cell_type": "code",
   "execution_count": 6,
   "metadata": {
    "collapsed": false
   },
   "outputs": [
    {
     "name": "stdout",
     "output_type": "stream",
     "text": [
      "HOMEDESCRIPTION 0.471027036451\n",
      "NEUTRALDESCRIPTION 1.0\n",
      "PLAYER2_NAME 0.735540915827\n",
      "PLAYER2_TEAM_ABBREVIATION 0.735540915827\n",
      "PLAYER2_TEAM_CITY 0.735540915827\n",
      "PLAYER2_TEAM_ID 0.735540915827\n",
      "PLAYER2_TEAM_NICKNAME 0.735540915827\n",
      "PLAYER3_NAME 0.943737780047\n",
      "PLAYER3_TEAM_ABBREVIATION 0.943737780047\n",
      "PLAYER3_TEAM_CITY 0.943737780047\n",
      "PLAYER3_TEAM_ID 0.943737780047\n",
      "PLAYER3_TEAM_NICKNAME 0.943737780047\n",
      "SCORE 0.548056638314\n",
      "VISITORDESCRIPTION 0.472710743596\n",
      "HOME_TEAM_ID 0.0979165369432\n",
      "AWAY_TEAM_ID 0.0979165369432\n",
      "HOME_PLAYER1_ID 0.0979165369432\n",
      "HOME_PLAYER2_ID 0.0979165369432\n",
      "HOME_PLAYER3_ID 0.0979165369432\n",
      "HOME_PLAYER4_ID 0.0979165369432\n",
      "HOME_PLAYER5_ID 0.0979165369432\n",
      "AWAY_PLAYER1_ID 0.0979165369432\n",
      "AWAY_PLAYER2_ID 0.0979165369432\n",
      "AWAY_PLAYER3_ID 0.0979165369432\n",
      "AWAY_PLAYER4_ID 0.0979165369432\n",
      "AWAY_PLAYER5_ID 0.0979165369432\n",
      "SHOT_CLOCK 0.0519234361574\n",
      "off_height 0.0205556731715\n",
      "def_height 0.0239355409158\n"
     ]
    }
   ],
   "source": [
    "frames = [data_2013,data_2014]\n",
    "combined = pd.concat(frames)\n",
    "\n",
    "combined[\"unique\"] = range(0,len(combined))\n",
    "for i, c in enumerate(combined.isnull().sum()/combined.shape[0]):\n",
    "    if c != 0:\n",
    "        print combined.columns[i], c"
   ]
  },
  {
   "cell_type": "markdown",
   "metadata": {},
   "source": [
    "Here we create dictionaries of the players unique id number and their name."
   ]
  },
  {
   "cell_type": "code",
   "execution_count": 7,
   "metadata": {
    "collapsed": true
   },
   "outputs": [],
   "source": [
    "a = np.concatenate((combined.PLAYER1_NAME, combined.PLAYER2_NAME))\n",
    "b = np.concatenate((combined.PLAYER1_ID, combined.PLAYER2_ID))"
   ]
  },
  {
   "cell_type": "code",
   "execution_count": 8,
   "metadata": {
    "collapsed": true
   },
   "outputs": [],
   "source": [
    "player_id_dict = {k : v for k, v in zip(b, a)}\n",
    "team_id_dict = {int(k) : v1+\" \"+v2 for k, v1, v2 in zip(combined.PLAYER1_TEAM_ID, combined.PLAYER1_TEAM_CITY, combined.PLAYER1_TEAM_NICKNAME)}"
   ]
  },
  {
   "cell_type": "code",
   "execution_count": 9,
   "metadata": {
    "collapsed": true
   },
   "outputs": [],
   "source": [
    "defender_id_dict = {int(k) : v for k, v in zip(combined.CLOSEST_DEFENDER_PLAYER_ID, combined.CLOSEST_DEFENDER)}"
   ]
  },
  {
   "cell_type": "code",
   "execution_count": 10,
   "metadata": {
    "collapsed": true
   },
   "outputs": [],
   "source": [
    "for p in defender_id_dict.keys():\n",
    "    temp = p in player_id_dict.keys()\n",
    "    if not temp:\n",
    "        splt = defender_id_dict[p].split(\",\")\n",
    "        player_id_dict[p] = splt[1]+\" \"+splt[0]"
   ]
  },
  {
   "cell_type": "markdown",
   "metadata": {},
   "source": [
    "Now we remove columns that have superflous data, or that can be calculated from some other column"
   ]
  },
  {
   "cell_type": "code",
   "execution_count": 11,
   "metadata": {
    "collapsed": false
   },
   "outputs": [
    {
     "name": "stdout",
     "output_type": "stream",
     "text": [
      "0 : Unnamed: 0\n",
      "1 : EVENTMSGACTIONTYPE\n",
      "2 : EVENTMSGTYPE\n",
      "3 : EVENTNUM\n",
      "4 : GAME_ID\n",
      "5 : HOMEDESCRIPTION\n",
      "6 : NEUTRALDESCRIPTION\n",
      "7 : PCTIMESTRING\n",
      "8 : PERIOD_x\n",
      "9 : PERSON1TYPE\n",
      "10 : PERSON2TYPE\n",
      "11 : PERSON3TYPE\n",
      "12 : PLAYER1_ID\n",
      "13 : PLAYER1_NAME\n",
      "14 : PLAYER1_TEAM_ABBREVIATION\n",
      "15 : PLAYER1_TEAM_CITY\n",
      "16 : PLAYER1_TEAM_ID\n",
      "17 : PLAYER1_TEAM_NICKNAME\n",
      "18 : PLAYER2_ID\n",
      "19 : PLAYER2_NAME\n",
      "20 : PLAYER2_TEAM_ABBREVIATION\n",
      "21 : PLAYER2_TEAM_CITY\n",
      "22 : PLAYER2_TEAM_ID\n",
      "23 : PLAYER2_TEAM_NICKNAME\n",
      "24 : PLAYER3_ID\n",
      "25 : PLAYER3_NAME\n",
      "26 : PLAYER3_TEAM_ABBREVIATION\n",
      "27 : PLAYER3_TEAM_CITY\n",
      "28 : PLAYER3_TEAM_ID\n",
      "29 : PLAYER3_TEAM_NICKNAME\n",
      "30 : SCORE\n",
      "31 : SCOREMARGIN\n",
      "32 : VISITORDESCRIPTION\n",
      "33 : WCTIMESTRING\n",
      "34 : HOME_TEAM_ID\n",
      "35 : AWAY_TEAM_ID\n",
      "36 : HOME_PLAYER1_ID\n",
      "37 : HOME_PLAYER2_ID\n",
      "38 : HOME_PLAYER3_ID\n",
      "39 : HOME_PLAYER4_ID\n",
      "40 : HOME_PLAYER5_ID\n",
      "41 : AWAY_PLAYER1_ID\n",
      "42 : AWAY_PLAYER2_ID\n",
      "43 : AWAY_PLAYER3_ID\n",
      "44 : AWAY_PLAYER4_ID\n",
      "45 : AWAY_PLAYER5_ID\n",
      "46 : ACTION_BEFORE\n",
      "47 : Unnamed: 0.1\n",
      "48 : CLOSEST_DEFENDER\n",
      "49 : CLOSEST_DEFENDER_PLAYER_ID\n",
      "50 : CLOSE_DEF_DIST\n",
      "51 : DRIBBLES\n",
      "52 : FGM\n",
      "53 : FINAL_MARGIN\n",
      "54 : GAME_CLOCK\n",
      "55 : GAME_ID.1\n",
      "56 : LOCATION\n",
      "57 : MATCHUP\n",
      "58 : PERIOD_y\n",
      "59 : PERIOD.1\n",
      "60 : PTS\n",
      "61 : PTS_TYPE\n",
      "62 : SHOT_CLOCK\n",
      "63 : SHOT_DIST\n",
      "64 : SHOT_NUMBER\n",
      "65 : SHOT_RESULT\n",
      "66 : TOUCH_TIME\n",
      "67 : W\n",
      "68 : GRID_TYPE\n",
      "69 : GAME_EVENT_ID\n",
      "70 : PLAYER_ID\n",
      "71 : PLAYER_ID.1\n",
      "72 : PLAYER_NAME\n",
      "73 : TEAM_ID\n",
      "74 : MINUTES_REMAINING\n",
      "75 : SECONDS_REMAINING\n",
      "76 : EVENT_TYPE\n",
      "77 : ACTION_TYPE\n",
      "78 : SHOT_TYPE\n",
      "79 : SHOT_ZONE_BASIC\n",
      "80 : SHOT_ZONE_AREA\n",
      "81 : SHOT_ZONE_RANGE\n",
      "82 : SHOT_DISTANCE\n",
      "83 : LOC_X\n",
      "84 : LOC_Y\n",
      "85 : SHOT_ATTEMPTED_FLAG\n",
      "86 : SHOT_MADE_FLAG\n",
      "87 : off_height\n",
      "88 : def_height\n",
      "89 : YEAR\n",
      "90 : unique\n"
     ]
    }
   ],
   "source": [
    "for i, c in enumerate(combined.columns):\n",
    "        print i, \":\", c"
   ]
  },
  {
   "cell_type": "code",
   "execution_count": 12,
   "metadata": {
    "collapsed": true
   },
   "outputs": [],
   "source": [
    "col_dict = {x: col for x, col in enumerate(combined.columns)}\n",
    "col_list = [0,1,2,4,5,6,7,9,10,11,12,13,14,15,16,17,18,19,20,21,22,23,24,25,26,27,28,29,30,32,33,34,35,36,37,38,39,40,41,42,43,44,45,47,48,49,52,53,54,55,57,58,59,60,63,65,67,71,68,76,73,78,79,80,81,85,90]\n",
    "drop = [col_dict[x] for x in col_list]"
   ]
  },
  {
   "cell_type": "code",
   "execution_count": 13,
   "metadata": {
    "collapsed": true
   },
   "outputs": [],
   "source": [
    "combined_ = combined.drop(drop, axis=1)"
   ]
  },
  {
   "cell_type": "code",
   "execution_count": 14,
   "metadata": {
    "collapsed": false
   },
   "outputs": [
    {
     "name": "stdout",
     "output_type": "stream",
     "text": [
      "0 : EVENTNUM\n",
      "1 : PERIOD_x\n",
      "2 : SCOREMARGIN\n",
      "3 : ACTION_BEFORE\n",
      "4 : CLOSE_DEF_DIST\n",
      "5 : DRIBBLES\n",
      "6 : LOCATION\n",
      "7 : PTS_TYPE\n",
      "8 : SHOT_CLOCK\n",
      "9 : SHOT_NUMBER\n",
      "10 : TOUCH_TIME\n",
      "11 : GAME_EVENT_ID\n",
      "12 : PLAYER_ID\n",
      "13 : PLAYER_NAME\n",
      "14 : MINUTES_REMAINING\n",
      "15 : SECONDS_REMAINING\n",
      "16 : ACTION_TYPE\n",
      "17 : SHOT_DISTANCE\n",
      "18 : LOC_X\n",
      "19 : LOC_Y\n",
      "20 : SHOT_MADE_FLAG\n",
      "21 : off_height\n",
      "22 : def_height\n",
      "23 : YEAR\n"
     ]
    }
   ],
   "source": [
    "for i, c in enumerate(combined_.columns):\n",
    "        print i, \":\", c"
   ]
  },
  {
   "cell_type": "code",
   "execution_count": 15,
   "metadata": {
    "collapsed": true
   },
   "outputs": [],
   "source": [
    "def height(thing):\n",
    "    try:\n",
    "        f, i = thing.split('-')\n",
    "    except AttributeError:\n",
    "        return None\n",
    "    except ValueError:\n",
    "        return None\n",
    "    else:\n",
    "        return int(f)*12+int(i)"
   ]
  },
  {
   "cell_type": "markdown",
   "metadata": {},
   "source": [
    "Here we create new variables and interaction terms that we believe will be helpful in our analysis"
   ]
  },
  {
   "cell_type": "code",
   "execution_count": 16,
   "metadata": {
    "collapsed": true
   },
   "outputs": [],
   "source": [
    "combined_['SEC_LEFT_Q'] = combined_.MINUTES_REMAINING*60+combined_.SECONDS_REMAINING\n",
    "combined_['SEC_LEFT_G'] = np.where(combined_.PERIOD_x < 5, combined_.SEC_LEFT_Q+720*(4-combined_.PERIOD_x), combined_.SEC_LEFT_Q)\n",
    "combined_.LOCATION = np.where(combined_.LOCATION == \"H\", 1, 0)\n",
    "combined_['OFF_HEIGHT'] = combined.off_height.apply(lambda x: height(x))\n",
    "combined_['DEF_HEIGHT'] = combined.def_height.apply(lambda x: height(x))\n",
    "combined_['HEIGHT_DIFF'] = combined_['OFF_HEIGHT'] - combined_['DEF_HEIGHT']\n",
    "combined_['JUMP_SHOT']=[1 if x=='Jump Shot' else 0 for x in combined_.ACTION_TYPE]\n",
    "combined_['SHOT_DISTxCLOSE_DEF_DIST'] = combined_['SHOT_DISTANCE']*combined_['CLOSE_DEF_DIST']\n",
    "combined_['HEIGHTxCLOSE_DEF_DIST'] = combined_['HEIGHT_DIFF']*combined_['CLOSE_DEF_DIST']\n",
    "combined_['SHOT_DISTxJUMP_SHOT']= combined_['SHOT_DISTANCE']*combined_['JUMP_SHOT']\n",
    "combined_['NO_DRIBBLE'] = combined_.DRIBBLES == 0\n",
    "action = pd.get_dummies(combined_['ACTION_TYPE']).ix[:,1:]\n",
    "frames = [combined_, action]\n",
    "combined_ = pd.concat(frames, axis=1)"
   ]
  },
  {
   "cell_type": "markdown",
   "metadata": {},
   "source": [
    "We remove some columns because we have defined new \"better\" columns based on them and no longer need them"
   ]
  },
  {
   "cell_type": "code",
   "execution_count": 17,
   "metadata": {
    "collapsed": true
   },
   "outputs": [],
   "source": [
    "deletes = ['MINUTES_REMAINING', 'SECONDS_REMAINING', 'off_height', 'def_height', 'JUMP_SHOT']\n",
    "\n",
    "for d in deletes:\n",
    "    try:\n",
    "        del combined_[d]\n",
    "    except:\n",
    "        pass"
   ]
  },
  {
   "cell_type": "code",
   "execution_count": 18,
   "metadata": {
    "collapsed": false
   },
   "outputs": [
    {
     "data": {
      "text/html": [
       "<div>\n",
       "<table border=\"1\" class=\"dataframe\">\n",
       "  <thead>\n",
       "    <tr style=\"text-align: right;\">\n",
       "      <th></th>\n",
       "      <th>EVENTNUM</th>\n",
       "      <th>PERIOD_x</th>\n",
       "      <th>SCOREMARGIN</th>\n",
       "      <th>ACTION_BEFORE</th>\n",
       "      <th>CLOSE_DEF_DIST</th>\n",
       "      <th>DRIBBLES</th>\n",
       "      <th>LOCATION</th>\n",
       "      <th>PTS_TYPE</th>\n",
       "      <th>SHOT_CLOCK</th>\n",
       "      <th>SHOT_NUMBER</th>\n",
       "      <th>TOUCH_TIME</th>\n",
       "      <th>GAME_EVENT_ID</th>\n",
       "      <th>PLAYER_ID</th>\n",
       "      <th>PLAYER_NAME</th>\n",
       "      <th>ACTION_TYPE</th>\n",
       "      <th>SHOT_DISTANCE</th>\n",
       "      <th>LOC_X</th>\n",
       "      <th>LOC_Y</th>\n",
       "      <th>SHOT_MADE_FLAG</th>\n",
       "      <th>YEAR</th>\n",
       "      <th>SEC_LEFT_Q</th>\n",
       "      <th>SEC_LEFT_G</th>\n",
       "      <th>OFF_HEIGHT</th>\n",
       "      <th>DEF_HEIGHT</th>\n",
       "      <th>HEIGHT_DIFF</th>\n",
       "      <th>SHOT_DISTxCLOSE_DEF_DIST</th>\n",
       "      <th>HEIGHTxCLOSE_DEF_DIST</th>\n",
       "      <th>SHOT_DISTxJUMP_SHOT</th>\n",
       "      <th>NO_DRIBBLE</th>\n",
       "      <th>Alley Oop Layup shot</th>\n",
       "      <th>Driving Bank Hook Shot</th>\n",
       "      <th>Driving Bank shot</th>\n",
       "      <th>Driving Dunk Shot</th>\n",
       "      <th>Driving Finger Roll Layup Shot</th>\n",
       "      <th>Driving Hook Shot</th>\n",
       "      <th>Driving Jump shot</th>\n",
       "      <th>Driving Layup Shot</th>\n",
       "      <th>Driving Reverse Layup Shot</th>\n",
       "      <th>Driving Slam Dunk Shot</th>\n",
       "      <th>Dunk Shot</th>\n",
       "      <th>Fadeaway Bank shot</th>\n",
       "      <th>Fadeaway Jump Shot</th>\n",
       "      <th>Finger Roll Layup Shot</th>\n",
       "      <th>Floating Jump shot</th>\n",
       "      <th>Hook Bank Shot</th>\n",
       "      <th>Hook Shot</th>\n",
       "      <th>Jump Bank Hook Shot</th>\n",
       "      <th>Jump Bank Shot</th>\n",
       "      <th>Jump Hook Shot</th>\n",
       "      <th>Jump Shot</th>\n",
       "      <th>Layup Shot</th>\n",
       "      <th>Pullup Bank shot</th>\n",
       "      <th>Pullup Jump shot</th>\n",
       "      <th>Putback Dunk Shot</th>\n",
       "      <th>Putback Layup Shot</th>\n",
       "      <th>Putback Reverse Dunk Shot</th>\n",
       "      <th>Putback Slam Dunk Shot</th>\n",
       "      <th>Reverse Dunk Shot</th>\n",
       "      <th>Reverse Layup Shot</th>\n",
       "      <th>Reverse Slam Dunk Shot</th>\n",
       "      <th>Running Bank Hook Shot</th>\n",
       "      <th>Running Bank shot</th>\n",
       "      <th>Running Dunk Shot</th>\n",
       "      <th>Running Finger Roll Layup Shot</th>\n",
       "      <th>Running Hook Shot</th>\n",
       "      <th>Running Jump Shot</th>\n",
       "      <th>Running Layup Shot</th>\n",
       "      <th>Running Reverse Layup Shot</th>\n",
       "      <th>Running Slam Dunk Shot</th>\n",
       "      <th>Running Tip Shot</th>\n",
       "      <th>Slam Dunk Shot</th>\n",
       "      <th>Step Back Jump shot</th>\n",
       "      <th>Tip Shot</th>\n",
       "      <th>Turnaround Bank Hook Shot</th>\n",
       "      <th>Turnaround Bank shot</th>\n",
       "      <th>Turnaround Fadeaway shot</th>\n",
       "      <th>Turnaround Hook Shot</th>\n",
       "      <th>Turnaround Jump Shot</th>\n",
       "    </tr>\n",
       "  </thead>\n",
       "  <tbody>\n",
       "    <tr>\n",
       "      <th>0</th>\n",
       "      <td>2</td>\n",
       "      <td>1</td>\n",
       "      <td>0</td>\n",
       "      <td>10</td>\n",
       "      <td>1.6</td>\n",
       "      <td>2</td>\n",
       "      <td>1</td>\n",
       "      <td>2</td>\n",
       "      <td>6.7</td>\n",
       "      <td>1</td>\n",
       "      <td>7.8</td>\n",
       "      <td>2</td>\n",
       "      <td>2561</td>\n",
       "      <td>David West</td>\n",
       "      <td>Jump Shot</td>\n",
       "      <td>5</td>\n",
       "      <td>-38</td>\n",
       "      <td>45</td>\n",
       "      <td>0</td>\n",
       "      <td>2013</td>\n",
       "      <td>699</td>\n",
       "      <td>2859</td>\n",
       "      <td>81</td>\n",
       "      <td>79</td>\n",
       "      <td>2</td>\n",
       "      <td>8.0</td>\n",
       "      <td>3.2</td>\n",
       "      <td>5</td>\n",
       "      <td>False</td>\n",
       "      <td>0</td>\n",
       "      <td>0</td>\n",
       "      <td>0</td>\n",
       "      <td>0</td>\n",
       "      <td>0</td>\n",
       "      <td>0</td>\n",
       "      <td>0</td>\n",
       "      <td>0</td>\n",
       "      <td>0</td>\n",
       "      <td>0</td>\n",
       "      <td>0</td>\n",
       "      <td>0</td>\n",
       "      <td>0</td>\n",
       "      <td>0</td>\n",
       "      <td>0</td>\n",
       "      <td>0</td>\n",
       "      <td>0</td>\n",
       "      <td>0</td>\n",
       "      <td>0</td>\n",
       "      <td>0</td>\n",
       "      <td>1</td>\n",
       "      <td>0</td>\n",
       "      <td>0</td>\n",
       "      <td>0</td>\n",
       "      <td>0</td>\n",
       "      <td>0</td>\n",
       "      <td>0</td>\n",
       "      <td>0</td>\n",
       "      <td>0</td>\n",
       "      <td>0</td>\n",
       "      <td>0</td>\n",
       "      <td>0</td>\n",
       "      <td>0</td>\n",
       "      <td>0</td>\n",
       "      <td>0</td>\n",
       "      <td>0</td>\n",
       "      <td>0</td>\n",
       "      <td>0</td>\n",
       "      <td>0</td>\n",
       "      <td>0</td>\n",
       "      <td>0</td>\n",
       "      <td>0</td>\n",
       "      <td>0</td>\n",
       "      <td>0</td>\n",
       "      <td>0</td>\n",
       "      <td>0</td>\n",
       "      <td>0</td>\n",
       "      <td>0</td>\n",
       "      <td>0</td>\n",
       "    </tr>\n",
       "    <tr>\n",
       "      <th>1</th>\n",
       "      <td>5</td>\n",
       "      <td>1</td>\n",
       "      <td>2</td>\n",
       "      <td>6</td>\n",
       "      <td>4.1</td>\n",
       "      <td>1</td>\n",
       "      <td>1</td>\n",
       "      <td>2</td>\n",
       "      <td>16.8</td>\n",
       "      <td>1</td>\n",
       "      <td>3.2</td>\n",
       "      <td>5</td>\n",
       "      <td>202331</td>\n",
       "      <td>Paul George</td>\n",
       "      <td>Pullup Jump shot</td>\n",
       "      <td>19</td>\n",
       "      <td>105</td>\n",
       "      <td>164</td>\n",
       "      <td>1</td>\n",
       "      <td>2013</td>\n",
       "      <td>690</td>\n",
       "      <td>2850</td>\n",
       "      <td>81</td>\n",
       "      <td>81</td>\n",
       "      <td>0</td>\n",
       "      <td>77.9</td>\n",
       "      <td>0.0</td>\n",
       "      <td>0</td>\n",
       "      <td>False</td>\n",
       "      <td>0</td>\n",
       "      <td>0</td>\n",
       "      <td>0</td>\n",
       "      <td>0</td>\n",
       "      <td>0</td>\n",
       "      <td>0</td>\n",
       "      <td>0</td>\n",
       "      <td>0</td>\n",
       "      <td>0</td>\n",
       "      <td>0</td>\n",
       "      <td>0</td>\n",
       "      <td>0</td>\n",
       "      <td>0</td>\n",
       "      <td>0</td>\n",
       "      <td>0</td>\n",
       "      <td>0</td>\n",
       "      <td>0</td>\n",
       "      <td>0</td>\n",
       "      <td>0</td>\n",
       "      <td>0</td>\n",
       "      <td>0</td>\n",
       "      <td>0</td>\n",
       "      <td>0</td>\n",
       "      <td>1</td>\n",
       "      <td>0</td>\n",
       "      <td>0</td>\n",
       "      <td>0</td>\n",
       "      <td>0</td>\n",
       "      <td>0</td>\n",
       "      <td>0</td>\n",
       "      <td>0</td>\n",
       "      <td>0</td>\n",
       "      <td>0</td>\n",
       "      <td>0</td>\n",
       "      <td>0</td>\n",
       "      <td>0</td>\n",
       "      <td>0</td>\n",
       "      <td>0</td>\n",
       "      <td>0</td>\n",
       "      <td>0</td>\n",
       "      <td>0</td>\n",
       "      <td>0</td>\n",
       "      <td>0</td>\n",
       "      <td>0</td>\n",
       "      <td>0</td>\n",
       "      <td>0</td>\n",
       "      <td>0</td>\n",
       "      <td>0</td>\n",
       "      <td>0</td>\n",
       "    </tr>\n",
       "    <tr>\n",
       "      <th>2</th>\n",
       "      <td>6</td>\n",
       "      <td>1</td>\n",
       "      <td>-2</td>\n",
       "      <td>1</td>\n",
       "      <td>4.4</td>\n",
       "      <td>0</td>\n",
       "      <td>0</td>\n",
       "      <td>3</td>\n",
       "      <td>13.0</td>\n",
       "      <td>1</td>\n",
       "      <td>0.7</td>\n",
       "      <td>6</td>\n",
       "      <td>201167</td>\n",
       "      <td>Arron Afflalo</td>\n",
       "      <td>Jump Shot</td>\n",
       "      <td>27</td>\n",
       "      <td>51</td>\n",
       "      <td>266</td>\n",
       "      <td>0</td>\n",
       "      <td>2013</td>\n",
       "      <td>675</td>\n",
       "      <td>2835</td>\n",
       "      <td>77</td>\n",
       "      <td>81</td>\n",
       "      <td>-4</td>\n",
       "      <td>118.8</td>\n",
       "      <td>-17.6</td>\n",
       "      <td>27</td>\n",
       "      <td>True</td>\n",
       "      <td>0</td>\n",
       "      <td>0</td>\n",
       "      <td>0</td>\n",
       "      <td>0</td>\n",
       "      <td>0</td>\n",
       "      <td>0</td>\n",
       "      <td>0</td>\n",
       "      <td>0</td>\n",
       "      <td>0</td>\n",
       "      <td>0</td>\n",
       "      <td>0</td>\n",
       "      <td>0</td>\n",
       "      <td>0</td>\n",
       "      <td>0</td>\n",
       "      <td>0</td>\n",
       "      <td>0</td>\n",
       "      <td>0</td>\n",
       "      <td>0</td>\n",
       "      <td>0</td>\n",
       "      <td>0</td>\n",
       "      <td>1</td>\n",
       "      <td>0</td>\n",
       "      <td>0</td>\n",
       "      <td>0</td>\n",
       "      <td>0</td>\n",
       "      <td>0</td>\n",
       "      <td>0</td>\n",
       "      <td>0</td>\n",
       "      <td>0</td>\n",
       "      <td>0</td>\n",
       "      <td>0</td>\n",
       "      <td>0</td>\n",
       "      <td>0</td>\n",
       "      <td>0</td>\n",
       "      <td>0</td>\n",
       "      <td>0</td>\n",
       "      <td>0</td>\n",
       "      <td>0</td>\n",
       "      <td>0</td>\n",
       "      <td>0</td>\n",
       "      <td>0</td>\n",
       "      <td>0</td>\n",
       "      <td>0</td>\n",
       "      <td>0</td>\n",
       "      <td>0</td>\n",
       "      <td>0</td>\n",
       "      <td>0</td>\n",
       "      <td>0</td>\n",
       "      <td>0</td>\n",
       "    </tr>\n",
       "    <tr>\n",
       "      <th>3</th>\n",
       "      <td>8</td>\n",
       "      <td>1</td>\n",
       "      <td>2</td>\n",
       "      <td>4</td>\n",
       "      <td>0.4</td>\n",
       "      <td>0</td>\n",
       "      <td>1</td>\n",
       "      <td>2</td>\n",
       "      <td>13.8</td>\n",
       "      <td>2</td>\n",
       "      <td>1.8</td>\n",
       "      <td>8</td>\n",
       "      <td>2561</td>\n",
       "      <td>David West</td>\n",
       "      <td>Layup Shot</td>\n",
       "      <td>2</td>\n",
       "      <td>28</td>\n",
       "      <td>-5</td>\n",
       "      <td>0</td>\n",
       "      <td>2013</td>\n",
       "      <td>663</td>\n",
       "      <td>2823</td>\n",
       "      <td>81</td>\n",
       "      <td>79</td>\n",
       "      <td>2</td>\n",
       "      <td>0.8</td>\n",
       "      <td>0.8</td>\n",
       "      <td>0</td>\n",
       "      <td>True</td>\n",
       "      <td>0</td>\n",
       "      <td>0</td>\n",
       "      <td>0</td>\n",
       "      <td>0</td>\n",
       "      <td>0</td>\n",
       "      <td>0</td>\n",
       "      <td>0</td>\n",
       "      <td>0</td>\n",
       "      <td>0</td>\n",
       "      <td>0</td>\n",
       "      <td>0</td>\n",
       "      <td>0</td>\n",
       "      <td>0</td>\n",
       "      <td>0</td>\n",
       "      <td>0</td>\n",
       "      <td>0</td>\n",
       "      <td>0</td>\n",
       "      <td>0</td>\n",
       "      <td>0</td>\n",
       "      <td>0</td>\n",
       "      <td>0</td>\n",
       "      <td>1</td>\n",
       "      <td>0</td>\n",
       "      <td>0</td>\n",
       "      <td>0</td>\n",
       "      <td>0</td>\n",
       "      <td>0</td>\n",
       "      <td>0</td>\n",
       "      <td>0</td>\n",
       "      <td>0</td>\n",
       "      <td>0</td>\n",
       "      <td>0</td>\n",
       "      <td>0</td>\n",
       "      <td>0</td>\n",
       "      <td>0</td>\n",
       "      <td>0</td>\n",
       "      <td>0</td>\n",
       "      <td>0</td>\n",
       "      <td>0</td>\n",
       "      <td>0</td>\n",
       "      <td>0</td>\n",
       "      <td>0</td>\n",
       "      <td>0</td>\n",
       "      <td>0</td>\n",
       "      <td>0</td>\n",
       "      <td>0</td>\n",
       "      <td>0</td>\n",
       "      <td>0</td>\n",
       "      <td>0</td>\n",
       "    </tr>\n",
       "    <tr>\n",
       "      <th>4</th>\n",
       "      <td>11</td>\n",
       "      <td>1</td>\n",
       "      <td>5</td>\n",
       "      <td>5</td>\n",
       "      <td>5.7</td>\n",
       "      <td>0</td>\n",
       "      <td>1</td>\n",
       "      <td>3</td>\n",
       "      <td>15.6</td>\n",
       "      <td>1</td>\n",
       "      <td>0.7</td>\n",
       "      <td>11</td>\n",
       "      <td>202362</td>\n",
       "      <td>Lance Stephenson</td>\n",
       "      <td>Jump Shot</td>\n",
       "      <td>26</td>\n",
       "      <td>15</td>\n",
       "      <td>260</td>\n",
       "      <td>1</td>\n",
       "      <td>2013</td>\n",
       "      <td>651</td>\n",
       "      <td>2811</td>\n",
       "      <td>77</td>\n",
       "      <td>72</td>\n",
       "      <td>5</td>\n",
       "      <td>148.2</td>\n",
       "      <td>28.5</td>\n",
       "      <td>26</td>\n",
       "      <td>True</td>\n",
       "      <td>0</td>\n",
       "      <td>0</td>\n",
       "      <td>0</td>\n",
       "      <td>0</td>\n",
       "      <td>0</td>\n",
       "      <td>0</td>\n",
       "      <td>0</td>\n",
       "      <td>0</td>\n",
       "      <td>0</td>\n",
       "      <td>0</td>\n",
       "      <td>0</td>\n",
       "      <td>0</td>\n",
       "      <td>0</td>\n",
       "      <td>0</td>\n",
       "      <td>0</td>\n",
       "      <td>0</td>\n",
       "      <td>0</td>\n",
       "      <td>0</td>\n",
       "      <td>0</td>\n",
       "      <td>0</td>\n",
       "      <td>1</td>\n",
       "      <td>0</td>\n",
       "      <td>0</td>\n",
       "      <td>0</td>\n",
       "      <td>0</td>\n",
       "      <td>0</td>\n",
       "      <td>0</td>\n",
       "      <td>0</td>\n",
       "      <td>0</td>\n",
       "      <td>0</td>\n",
       "      <td>0</td>\n",
       "      <td>0</td>\n",
       "      <td>0</td>\n",
       "      <td>0</td>\n",
       "      <td>0</td>\n",
       "      <td>0</td>\n",
       "      <td>0</td>\n",
       "      <td>0</td>\n",
       "      <td>0</td>\n",
       "      <td>0</td>\n",
       "      <td>0</td>\n",
       "      <td>0</td>\n",
       "      <td>0</td>\n",
       "      <td>0</td>\n",
       "      <td>0</td>\n",
       "      <td>0</td>\n",
       "      <td>0</td>\n",
       "      <td>0</td>\n",
       "      <td>0</td>\n",
       "    </tr>\n",
       "  </tbody>\n",
       "</table>\n",
       "</div>"
      ],
      "text/plain": [
       "   EVENTNUM  PERIOD_x  SCOREMARGIN  ACTION_BEFORE  CLOSE_DEF_DIST  DRIBBLES  \\\n",
       "0         2         1            0             10             1.6         2   \n",
       "1         5         1            2              6             4.1         1   \n",
       "2         6         1           -2              1             4.4         0   \n",
       "3         8         1            2              4             0.4         0   \n",
       "4        11         1            5              5             5.7         0   \n",
       "\n",
       "   LOCATION  PTS_TYPE  SHOT_CLOCK  SHOT_NUMBER  TOUCH_TIME  GAME_EVENT_ID  \\\n",
       "0         1         2         6.7            1         7.8              2   \n",
       "1         1         2        16.8            1         3.2              5   \n",
       "2         0         3        13.0            1         0.7              6   \n",
       "3         1         2        13.8            2         1.8              8   \n",
       "4         1         3        15.6            1         0.7             11   \n",
       "\n",
       "   PLAYER_ID       PLAYER_NAME       ACTION_TYPE  SHOT_DISTANCE  LOC_X  LOC_Y  \\\n",
       "0       2561        David West         Jump Shot              5    -38     45   \n",
       "1     202331       Paul George  Pullup Jump shot             19    105    164   \n",
       "2     201167     Arron Afflalo         Jump Shot             27     51    266   \n",
       "3       2561        David West        Layup Shot              2     28     -5   \n",
       "4     202362  Lance Stephenson         Jump Shot             26     15    260   \n",
       "\n",
       "   SHOT_MADE_FLAG  YEAR  SEC_LEFT_Q  SEC_LEFT_G  OFF_HEIGHT  DEF_HEIGHT  \\\n",
       "0               0  2013         699        2859          81          79   \n",
       "1               1  2013         690        2850          81          81   \n",
       "2               0  2013         675        2835          77          81   \n",
       "3               0  2013         663        2823          81          79   \n",
       "4               1  2013         651        2811          77          72   \n",
       "\n",
       "   HEIGHT_DIFF  SHOT_DISTxCLOSE_DEF_DIST  HEIGHTxCLOSE_DEF_DIST  \\\n",
       "0            2                       8.0                    3.2   \n",
       "1            0                      77.9                    0.0   \n",
       "2           -4                     118.8                  -17.6   \n",
       "3            2                       0.8                    0.8   \n",
       "4            5                     148.2                   28.5   \n",
       "\n",
       "   SHOT_DISTxJUMP_SHOT NO_DRIBBLE  Alley Oop Layup shot  \\\n",
       "0                    5      False                     0   \n",
       "1                    0      False                     0   \n",
       "2                   27       True                     0   \n",
       "3                    0       True                     0   \n",
       "4                   26       True                     0   \n",
       "\n",
       "   Driving Bank Hook Shot  Driving Bank shot  Driving Dunk Shot  \\\n",
       "0                       0                  0                  0   \n",
       "1                       0                  0                  0   \n",
       "2                       0                  0                  0   \n",
       "3                       0                  0                  0   \n",
       "4                       0                  0                  0   \n",
       "\n",
       "   Driving Finger Roll Layup Shot  Driving Hook Shot  Driving Jump shot  \\\n",
       "0                               0                  0                  0   \n",
       "1                               0                  0                  0   \n",
       "2                               0                  0                  0   \n",
       "3                               0                  0                  0   \n",
       "4                               0                  0                  0   \n",
       "\n",
       "   Driving Layup Shot  Driving Reverse Layup Shot  Driving Slam Dunk Shot  \\\n",
       "0                   0                           0                       0   \n",
       "1                   0                           0                       0   \n",
       "2                   0                           0                       0   \n",
       "3                   0                           0                       0   \n",
       "4                   0                           0                       0   \n",
       "\n",
       "   Dunk Shot  Fadeaway Bank shot  Fadeaway Jump Shot  Finger Roll Layup Shot  \\\n",
       "0          0                   0                   0                       0   \n",
       "1          0                   0                   0                       0   \n",
       "2          0                   0                   0                       0   \n",
       "3          0                   0                   0                       0   \n",
       "4          0                   0                   0                       0   \n",
       "\n",
       "   Floating Jump shot  Hook Bank Shot  Hook Shot  Jump Bank Hook Shot  \\\n",
       "0                   0               0          0                    0   \n",
       "1                   0               0          0                    0   \n",
       "2                   0               0          0                    0   \n",
       "3                   0               0          0                    0   \n",
       "4                   0               0          0                    0   \n",
       "\n",
       "   Jump Bank Shot  Jump Hook Shot  Jump Shot  Layup Shot  Pullup Bank shot  \\\n",
       "0               0               0          1           0                 0   \n",
       "1               0               0          0           0                 0   \n",
       "2               0               0          1           0                 0   \n",
       "3               0               0          0           1                 0   \n",
       "4               0               0          1           0                 0   \n",
       "\n",
       "   Pullup Jump shot  Putback Dunk Shot  Putback Layup Shot  \\\n",
       "0                 0                  0                   0   \n",
       "1                 1                  0                   0   \n",
       "2                 0                  0                   0   \n",
       "3                 0                  0                   0   \n",
       "4                 0                  0                   0   \n",
       "\n",
       "   Putback Reverse Dunk Shot  Putback Slam Dunk Shot  Reverse Dunk Shot  \\\n",
       "0                          0                       0                  0   \n",
       "1                          0                       0                  0   \n",
       "2                          0                       0                  0   \n",
       "3                          0                       0                  0   \n",
       "4                          0                       0                  0   \n",
       "\n",
       "   Reverse Layup Shot  Reverse Slam Dunk Shot  Running Bank Hook Shot  \\\n",
       "0                   0                       0                       0   \n",
       "1                   0                       0                       0   \n",
       "2                   0                       0                       0   \n",
       "3                   0                       0                       0   \n",
       "4                   0                       0                       0   \n",
       "\n",
       "   Running Bank shot  Running Dunk Shot  Running Finger Roll Layup Shot  \\\n",
       "0                  0                  0                               0   \n",
       "1                  0                  0                               0   \n",
       "2                  0                  0                               0   \n",
       "3                  0                  0                               0   \n",
       "4                  0                  0                               0   \n",
       "\n",
       "   Running Hook Shot  Running Jump Shot  Running Layup Shot  \\\n",
       "0                  0                  0                   0   \n",
       "1                  0                  0                   0   \n",
       "2                  0                  0                   0   \n",
       "3                  0                  0                   0   \n",
       "4                  0                  0                   0   \n",
       "\n",
       "   Running Reverse Layup Shot  Running Slam Dunk Shot  Running Tip Shot  \\\n",
       "0                           0                       0                 0   \n",
       "1                           0                       0                 0   \n",
       "2                           0                       0                 0   \n",
       "3                           0                       0                 0   \n",
       "4                           0                       0                 0   \n",
       "\n",
       "   Slam Dunk Shot  Step Back Jump shot  Tip Shot  Turnaround Bank Hook Shot  \\\n",
       "0               0                    0         0                          0   \n",
       "1               0                    0         0                          0   \n",
       "2               0                    0         0                          0   \n",
       "3               0                    0         0                          0   \n",
       "4               0                    0         0                          0   \n",
       "\n",
       "   Turnaround Bank shot  Turnaround Fadeaway shot  Turnaround Hook Shot  \\\n",
       "0                     0                         0                     0   \n",
       "1                     0                         0                     0   \n",
       "2                     0                         0                     0   \n",
       "3                     0                         0                     0   \n",
       "4                     0                         0                     0   \n",
       "\n",
       "   Turnaround Jump Shot  \n",
       "0                     0  \n",
       "1                     0  \n",
       "2                     0  \n",
       "3                     0  \n",
       "4                     0  "
      ]
     },
     "execution_count": 18,
     "metadata": {},
     "output_type": "execute_result"
    }
   ],
   "source": [
    "combined_.reset_index(drop=True, inplace=True)\n",
    "combined_.head()"
   ]
  },
  {
   "cell_type": "markdown",
   "metadata": {},
   "source": [
    "Here we save our data.  In the case of the dictionaries, we convert them to df before using the to_json method."
   ]
  },
  {
   "cell_type": "code",
   "execution_count": 19,
   "metadata": {
    "collapsed": true
   },
   "outputs": [],
   "source": [
    "combined_.to_csv('parsed_df.csv')"
   ]
  },
  {
   "cell_type": "code",
   "execution_count": 20,
   "metadata": {
    "collapsed": false
   },
   "outputs": [],
   "source": [
    "pd.DataFrame([[k,v] for k, v in player_id_dict.iteritems()], columns=[\"ID\", \"NAME\"]).to_json('Player_ID_Dict.json')\n",
    "pd.DataFrame([[k,v] for k, v in team_id_dict.iteritems()], columns=[\"ID\", \"NAME\"]).to_json('Team_ID_Dict.json')"
   ]
  },
  {
   "cell_type": "markdown",
   "metadata": {},
   "source": [
    "#### Note here our combined dataframe is saved and reloaded under a different name, df"
   ]
  },
  {
   "cell_type": "code",
   "execution_count": 23,
   "metadata": {
    "collapsed": true
   },
   "outputs": [],
   "source": [
    "df=pd.read_csv(\"parsed_df.csv\")"
   ]
  },
  {
   "cell_type": "code",
   "execution_count": 24,
   "metadata": {
    "collapsed": true
   },
   "outputs": [],
   "source": [
    "deletes = ['Unnamed: 0', 'ACTION_TYPE', 'PLAYER_ID']\n",
    "for d in deletes:\n",
    "    try:\n",
    "        del df[d]\n",
    "    except:\n",
    "        pass"
   ]
  },
  {
   "cell_type": "markdown",
   "metadata": {},
   "source": [
    "To handle missing data, we take the unimaginative approach and remove the data because as it is our data set is large enough.  Some other approaches we thought of were to set na values to either be the mean (if it was an indicator variable) or the median if it was a normal continuous variable.  Ultimately, because of the wealth of data, we decided that it was best to just drop these values."
   ]
  },
  {
   "cell_type": "code",
   "execution_count": 25,
   "metadata": {
    "collapsed": true
   },
   "outputs": [],
   "source": [
    "#drop all rows with NaN values\n",
    "df = df.dropna()"
   ]
  },
  {
   "cell_type": "code",
   "execution_count": 26,
   "metadata": {
    "collapsed": true
   },
   "outputs": [],
   "source": [
    "cols = list(df)\n",
    "cols.insert(0, cols.pop(cols.index('SHOT_MADE_FLAG')))\n",
    "df = df.ix[:, cols]"
   ]
  },
  {
   "cell_type": "markdown",
   "metadata": {},
   "source": [
    "Here we split our data into the 2013, 2014 shots.  We then sample 30,000 (approxiately 1/6th) columns from out 2013 dataframe.  This give us with our 2014 data we will test on, and then a small 2013 dataset to calculate the best parameters on before running the model on the whole 2013 dataset with these best parameters."
   ]
  },
  {
   "cell_type": "code",
   "execution_count": 27,
   "metadata": {
    "collapsed": true
   },
   "outputs": [],
   "source": [
    "df2013 = df[df['YEAR']==2013]\n",
    "df2014 = df[df['YEAR']==2014]\n",
    "df2013.reset_index(drop=True, inplace=True)\n",
    "df2014.reset_index(drop=True, inplace=True)"
   ]
  },
  {
   "cell_type": "code",
   "execution_count": 28,
   "metadata": {
    "collapsed": true
   },
   "outputs": [],
   "source": [
    "dftouse=df2013.copy()\n",
    "dftouse_small=dftouse.sample(30000, replace=False)"
   ]
  },
  {
   "cell_type": "markdown",
   "metadata": {},
   "source": [
    "Here we remove the player names so that our model only looks at the shot parameters and removes any bias that a potentially good player would add. (Aka whether it was Steph Curry shooting. Trust us we checked, and a Steph Curry indicator was significant.)\n",
    "\n",
    "<img src=\"https://media.giphy.com/media/3oEdv5e5Zd2gsczAhG/giphy.gif\" width=640 height=480/>"
   ]
  },
  {
   "cell_type": "code",
   "execution_count": 29,
   "metadata": {
    "collapsed": false
   },
   "outputs": [
    {
     "data": {
      "text/plain": [
       "['EVENTNUM',\n",
       " 'PERIOD_x',\n",
       " 'SCOREMARGIN',\n",
       " 'ACTION_BEFORE',\n",
       " 'CLOSE_DEF_DIST',\n",
       " 'DRIBBLES',\n",
       " 'LOCATION',\n",
       " 'PTS_TYPE',\n",
       " 'SHOT_CLOCK',\n",
       " 'SHOT_NUMBER',\n",
       " 'TOUCH_TIME',\n",
       " 'GAME_EVENT_ID',\n",
       " 'SHOT_DISTANCE',\n",
       " 'LOC_X',\n",
       " 'LOC_Y',\n",
       " 'YEAR',\n",
       " 'SEC_LEFT_Q',\n",
       " 'SEC_LEFT_G',\n",
       " 'OFF_HEIGHT',\n",
       " 'DEF_HEIGHT',\n",
       " 'HEIGHT_DIFF',\n",
       " 'SHOT_DISTxCLOSE_DEF_DIST',\n",
       " 'HEIGHTxCLOSE_DEF_DIST',\n",
       " 'SHOT_DISTxJUMP_SHOT',\n",
       " 'NO_DRIBBLE',\n",
       " 'Alley Oop Layup shot',\n",
       " 'Driving Bank Hook Shot',\n",
       " 'Driving Bank shot',\n",
       " 'Driving Dunk Shot',\n",
       " 'Driving Finger Roll Layup Shot',\n",
       " 'Driving Hook Shot',\n",
       " 'Driving Jump shot',\n",
       " 'Driving Layup Shot',\n",
       " 'Driving Reverse Layup Shot',\n",
       " 'Driving Slam Dunk Shot',\n",
       " 'Dunk Shot',\n",
       " 'Fadeaway Bank shot',\n",
       " 'Fadeaway Jump Shot',\n",
       " 'Finger Roll Layup Shot',\n",
       " 'Floating Jump shot',\n",
       " 'Hook Bank Shot',\n",
       " 'Hook Shot',\n",
       " 'Jump Bank Hook Shot',\n",
       " 'Jump Bank Shot',\n",
       " 'Jump Hook Shot',\n",
       " 'Jump Shot',\n",
       " 'Layup Shot',\n",
       " 'Pullup Bank shot',\n",
       " 'Pullup Jump shot',\n",
       " 'Putback Dunk Shot',\n",
       " 'Putback Layup Shot',\n",
       " 'Putback Reverse Dunk Shot',\n",
       " 'Putback Slam Dunk Shot',\n",
       " 'Reverse Dunk Shot',\n",
       " 'Reverse Layup Shot',\n",
       " 'Reverse Slam Dunk Shot',\n",
       " 'Running Bank Hook Shot',\n",
       " 'Running Bank shot',\n",
       " 'Running Dunk Shot',\n",
       " 'Running Finger Roll Layup Shot',\n",
       " 'Running Hook Shot',\n",
       " 'Running Jump Shot',\n",
       " 'Running Layup Shot',\n",
       " 'Running Reverse Layup Shot',\n",
       " 'Running Slam Dunk Shot',\n",
       " 'Running Tip Shot',\n",
       " 'Slam Dunk Shot',\n",
       " 'Step Back Jump shot',\n",
       " 'Tip Shot',\n",
       " 'Turnaround Bank Hook Shot',\n",
       " 'Turnaround Bank shot',\n",
       " 'Turnaround Fadeaway shot',\n",
       " 'Turnaround Hook Shot',\n",
       " 'Turnaround Jump Shot']"
      ]
     },
     "execution_count": 29,
     "metadata": {},
     "output_type": "execute_result"
    }
   ],
   "source": [
    "Xnames = list(dftouse.columns.values[1:76])\n",
    "Xnames.remove('PLAYER_NAME')\n",
    "Xnames"
   ]
  },
  {
   "cell_type": "code",
   "execution_count": 30,
   "metadata": {
    "collapsed": true
   },
   "outputs": [],
   "source": [
    "#create train and test set\n",
    "def split_mask(dftouse=dftouse_small):\n",
    "    itrain, itest = train_test_split(xrange(dftouse.shape[0]), train_size=0.7)\n",
    "    mask=np.ones(dftouse.shape[0], dtype='int')\n",
    "    mask[itrain]=1\n",
    "    mask[itest]=0\n",
    "    mask = (mask==1)\n",
    "    return mask"
   ]
  },
  {
   "cell_type": "code",
   "execution_count": 31,
   "metadata": {
    "collapsed": true
   },
   "outputs": [],
   "source": [
    "def cv_optimize(clf, parameters, X, y, n_jobs=1, n_folds=5, score_func=None):\n",
    "    if score_func:\n",
    "        gs = GridSearchCV(clf, param_grid=parameters, cv=n_folds, n_jobs=n_jobs, scoring=score_func)\n",
    "    else:\n",
    "        gs = GridSearchCV(clf, param_grid=parameters, n_jobs=n_jobs, cv=n_folds)\n",
    "    gs.fit(X, y)\n",
    "    print \"BEST\", gs.best_params_, gs.best_score_, gs.grid_scores_\n",
    "    best = gs.best_estimator_\n",
    "    return best, gs.best_params_\n",
    "\n",
    "def do_classify(clf, parameters, indf, featurenames, targetname, target1val, mask=None, reuse_split=None, score_func=None, n_folds=5, n_jobs=1):\n",
    "    subdf=indf[featurenames]\n",
    "    X=subdf.values\n",
    "    y=(indf[targetname].values==target1val)*1\n",
    "    y_=indf[targetname]\n",
    "    if mask !=None:\n",
    "        print \"using mask\"\n",
    "        Xtrain, Xtest, ytrain, ytest = X[mask], X[~mask], y[mask], y[~mask]\n",
    "    if reuse_split !=None:\n",
    "        print \"using reuse split\"\n",
    "        Xtrain, Xtest, ytrain, ytest = reuse_split['Xtrain'], reuse_split['Xtest'], reuse_split['ytrain'], reuse_split['ytest']\n",
    "    if parameters:\n",
    "        clf, best_params_ = cv_optimize(clf, parameters, Xtrain, ytrain, n_jobs=n_jobs, n_folds=n_folds, score_func=score_func)\n",
    "    clf=clf.fit(Xtrain, ytrain)\n",
    "    training_accuracy = clf.score(Xtrain, ytrain)\n",
    "    test_accuracy = clf.score(Xtest, ytest)\n",
    "    print \"############# based on standard predict ################\"\n",
    "    print \"Accuracy on training data: %0.2f\" % (training_accuracy)\n",
    "    print \"Accuracy on test data:     %0.2f\" % (test_accuracy)\n",
    "    print confusion_matrix(ytest, clf.predict(Xtest))\n",
    "    print \"########################################################\"\n",
    "    return clf, Xtrain, ytrain, Xtest, ytest, best_params_"
   ]
  },
  {
   "cell_type": "markdown",
   "metadata": {},
   "source": [
    "Here are the parameters our Random Forest will take in.  We notice that our model is significantly over fitting the data because the train and test scores are wildly different.  Thus we increased number of estimators because that is the number of trees the model builds and then aggregates over those.  Although sounding counterintuitive, by adding more we are actually reducing this.\n",
    "\n",
    "The default for bootstraping is true, because this creates more fake data, and then runs the model on this to avoid overfitting, thus we tried turning it off but as we expected, it clearly wasn't worth it.\n",
    "\n"
   ]
  },
  {
   "cell_type": "code",
   "execution_count": 32,
   "metadata": {
    "collapsed": true
   },
   "outputs": [],
   "source": [
    "clfForest = RandomForestClassifier()\n",
    "parameters = {\n",
    "    \"n_estimators\" : [10,50,100,500,1000],\n",
    "    #\"n_estimators\" : range(1, 21),\n",
    "    #\"max_features\" : range(10,len(Xnames+1),2)\n",
    "    \"max_depth\": [100,200,400,800],\n",
    "    #\"bootstrap\": [True, False]\n",
    "    }"
   ]
  },
  {
   "cell_type": "markdown",
   "metadata": {},
   "source": [
    "Here we run our random forest classifier on our small subset of the 2013 data.  This allows us to get the best parameters to run on our whole dataset.  On a Mac with 8GB of ram this take about 8 min"
   ]
  },
  {
   "cell_type": "code",
   "execution_count": 33,
   "metadata": {
    "collapsed": false
   },
   "outputs": [
    {
     "name": "stdout",
     "output_type": "stream",
     "text": [
      "using mask\n"
     ]
    },
    {
     "name": "stderr",
     "output_type": "stream",
     "text": [
      "/Users/raymondcen/anaconda/lib/python2.7/site-packages/ipykernel/__main__.py:16: FutureWarning: comparison to `None` will result in an elementwise object comparison in the future.\n"
     ]
    },
    {
     "name": "stdout",
     "output_type": "stream",
     "text": [
      "BEST {'n_estimators': 1000, 'max_depth': 100} 0.599438766152 [mean: 0.54072, std: 0.01221, params: {'n_estimators': 10, 'max_depth': 100}, mean: 0.58367, std: 0.00244, params: {'n_estimators': 50, 'max_depth': 100}, mean: 0.59010, std: 0.01070, params: {'n_estimators': 100, 'max_depth': 100}, mean: 0.59792, std: 0.00870, params: {'n_estimators': 500, 'max_depth': 100}, mean: 0.59944, std: 0.00698, params: {'n_estimators': 1000, 'max_depth': 100}, mean: 0.53598, std: 0.00847, params: {'n_estimators': 10, 'max_depth': 200}, mean: 0.58553, std: 0.00900, params: {'n_estimators': 50, 'max_depth': 200}, mean: 0.59564, std: 0.00686, params: {'n_estimators': 100, 'max_depth': 200}, mean: 0.59558, std: 0.00856, params: {'n_estimators': 500, 'max_depth': 200}, mean: 0.59671, std: 0.00900, params: {'n_estimators': 1000, 'max_depth': 200}, mean: 0.53803, std: 0.00644, params: {'n_estimators': 10, 'max_depth': 400}, mean: 0.58137, std: 0.00635, params: {'n_estimators': 50, 'max_depth': 400}, mean: 0.59306, std: 0.01033, params: {'n_estimators': 100, 'max_depth': 400}, mean: 0.59732, std: 0.01141, params: {'n_estimators': 500, 'max_depth': 400}, mean: 0.59811, std: 0.00728, params: {'n_estimators': 1000, 'max_depth': 400}, mean: 0.54101, std: 0.00866, params: {'n_estimators': 10, 'max_depth': 800}, mean: 0.58765, std: 0.01079, params: {'n_estimators': 50, 'max_depth': 800}, mean: 0.59160, std: 0.00806, params: {'n_estimators': 100, 'max_depth': 800}, mean: 0.59638, std: 0.00875, params: {'n_estimators': 500, 'max_depth': 800}, mean: 0.59741, std: 0.00729, params: {'n_estimators': 1000, 'max_depth': 800}]\n",
      "############# based on standard predict ################\n",
      "Accuracy on training data: 1.00\n",
      "Accuracy on test data:     0.66\n",
      "[[3694 1171]\n",
      " [1885 2250]]\n",
      "########################################################\n",
      "CPU times: user 1min 57s, sys: 5.53 s, total: 2min 3s\n",
      "Wall time: 7min 29s\n"
     ]
    }
   ],
   "source": [
    "%%time\n",
    "df_ = dftouse_small.copy()\n",
    "print df_.shape\n",
    "clfForest, Xtrain, ytrain, Xtest, ytest, best_params = do_classify(clfForest, parameters, df_, Xnames, 'SHOT_MADE_FLAG', 1, mask=split_mask(df_), n_folds = 5, n_jobs = 4, score_func='f1')"
   ]
  },
  {
   "cell_type": "markdown",
   "metadata": {},
   "source": [
    "Our best param returns a dictionary, but our function requires a dictionary of lists, so we change this.  Now we run on the full 2013 dataframe with the best parameters we found above."
   ]
  },
  {
   "cell_type": "code",
   "execution_count": 34,
   "metadata": {
    "collapsed": true
   },
   "outputs": [],
   "source": [
    "best_params_ = {k:[v] for k,v in best_params.iteritems()}"
   ]
  },
  {
   "cell_type": "markdown",
   "metadata": {},
   "source": [
    "Now we run it on the complete data from 2013 (on the same Mac, it took ~25 minutes to run)"
   ]
  },
  {
   "cell_type": "code",
   "execution_count": 37,
   "metadata": {
    "collapsed": false
   },
   "outputs": [
    {
     "name": "stdout",
     "output_type": "stream",
     "text": [
      "(176424, 76)\n",
      "using mask\n"
     ]
    },
    {
     "name": "stderr",
     "output_type": "stream",
     "text": [
      "/Users/raymondcen/anaconda/lib/python2.7/site-packages/ipykernel/__main__.py:16: FutureWarning: comparison to `None` will result in an elementwise object comparison in the future.\n"
     ]
    },
    {
     "name": "stdout",
     "output_type": "stream",
     "text": [
      "BEST {'n_estimators': 1000, 'max_depth': 100} 0.600797454995 [mean: 0.60080, std: 0.00333, params: {'n_estimators': 1000, 'max_depth': 100}]\n",
      "############# based on standard predict ################\n",
      "Accuracy on training data: 1.00\n",
      "Accuracy on test data:     0.67\n",
      "[[22176  6379]\n",
      " [11119 13254]]\n",
      "########################################################\n",
      "CPU times: user 13min 26s, sys: 24.4 s, total: 13min 51s\n",
      "Wall time: 25min 40s\n"
     ]
    }
   ],
   "source": [
    "%%time\n",
    "df_ = dftouse.copy()\n",
    "print df_.shape\n",
    "clfForest, Xtrain, ytrain, Xtest, ytest, best_params = do_classify(clfForest, best_params_, df_, Xnames, 'SHOT_MADE_FLAG', 1, mask=split_mask(df_), n_folds = 5, n_jobs = 4, score_func='f1')"
   ]
  },
  {
   "cell_type": "markdown",
   "metadata": {},
   "source": [
    "Here we look at which features are the most important for our decision tree.  The features that the model finds mist important make conceptual sense.  For example: `SCORINGMARGIN` could be related to the fact that worse players often will be put in when the score is a blowout.  The `SHOT_DISTxCLOSE_DEF_DIST` llikely measures open layups, versus contested 3 pointers.  The `SHOT_CLOCK` variable was mentioned in the other notebook.  We could go on and on, but everything conceptually makes a lot of sense."
   ]
  },
  {
   "cell_type": "code",
   "execution_count": 38,
   "metadata": {
    "collapsed": false
   },
   "outputs": [
    {
     "data": {
      "image/png": "[encoded data removed]",
      "text/plain": [
       "<matplotlib.figure.Figure at 0x105b67890>"
      ]
     },
     "metadata": {},
     "output_type": "display_data"
    }
   ],
   "source": [
    "importance_list = clfForest.feature_importances_\n",
    "name_list = dftouse.columns\n",
    "importance_list, name_list = zip(*sorted(zip(importance_list, Xnames)))\n",
    "#full list of features\n",
    "#ax = sns.barplot(y=range(len(name_list)),x=list(reversed(importance_list)), orient='h', palette=\"Blues_d\")\n",
    "sns.set_context(\"paper\", font_scale=1.5)\n",
    "plt.figure(figsize=(12, 9))\n",
    "#top 20 features\n",
    "ax = sns.barplot(y=range(20),x=list(reversed(importance_list))[:20], orient='h', palette=\"Blues_d\")\n",
    "ax.set_xlabel('Relative Importance in the Random Forest')\n",
    "ax.set_ylabel('Features')\n",
    "ax.set_title('Shot Made: Relative Importance of Each Feature')\n",
    "ax.set_yticklabels(list(reversed(name_list)));\n",
    "sns.despine()\n",
    "plt.savefig('Baseline Relative Importance.png', bbox_inches='tight')"
   ]
  },
  {
   "cell_type": "code",
   "execution_count": 40,
   "metadata": {
    "collapsed": false
   },
   "outputs": [],
   "source": [
    "df2013_ = df2013.drop('PLAYER_NAME', axis=1)\n",
    "df2014_ = df2014.drop('PLAYER_NAME', axis=1)\n",
    "Xtrain2013 = df2013_.ix[:, 1:76]\n",
    "ytrain2013 = df2013_['SHOT_MADE_FLAG']\n",
    "Xtest2014 = df2014_.ix[:, 1:76]"
   ]
  },
  {
   "cell_type": "markdown",
   "metadata": {},
   "source": [
    "Here we compute our accuracy on the 2014 data.  We split this earlier, so this is 100% testing data"
   ]
  },
  {
   "cell_type": "code",
   "execution_count": 41,
   "metadata": {
    "collapsed": false
   },
   "outputs": [
    {
     "name": "stdout",
     "output_type": "stream",
     "text": [
      "CPU times: user 9min 17s, sys: 8.8 s, total: 9min 25s\n",
      "Wall time: 9min 27s\n"
     ]
    },
    {
     "data": {
      "text/plain": [
       "RandomForestClassifier(bootstrap=True, class_weight=None, criterion='gini',\n",
       "            max_depth=100, max_features='auto', max_leaf_nodes=None,\n",
       "            min_samples_leaf=1, min_samples_split=2,\n",
       "            min_weight_fraction_leaf=0.0, n_estimators=1000, n_jobs=1,\n",
       "            oob_score=False, random_state=None, verbose=0,\n",
       "            warm_start=False)"
      ]
     },
     "execution_count": 41,
     "metadata": {},
     "output_type": "execute_result"
    }
   ],
   "source": [
    "%%time\n",
    "clfForest.fit(Xtrain2013, ytrain2013)"
   ]
  },
  {
   "cell_type": "code",
   "execution_count": 42,
   "metadata": {
    "collapsed": false
   },
   "outputs": [
    {
     "name": "stdout",
     "output_type": "stream",
     "text": [
      "CPU times: user 1min 18s, sys: 16 s, total: 1min 34s\n",
      "Wall time: 1min 50s\n"
     ]
    }
   ],
   "source": [
    "%%time\n",
    "predictions = clfForest.predict_proba(Xtest2014)"
   ]
  },
  {
   "cell_type": "code",
   "execution_count": 44,
   "metadata": {
    "collapsed": false
   },
   "outputs": [
    {
     "name": "stdout",
     "output_type": "stream",
     "text": [
      "MSE: 0.210947492036\n"
     ]
    }
   ],
   "source": [
    "MSE = np.average([(x-y)**2 for x,y in zip(df2014.SHOT_MADE_FLAG,df2014.pred)])\n",
    "print 'MSE: ' + str(MSE)"
   ]
  },
  {
   "cell_type": "code",
   "execution_count": 45,
   "metadata": {
    "collapsed": false
   },
   "outputs": [
    {
     "name": "stdout",
     "output_type": "stream",
     "text": [
      "Accuracy: 0.662909257503\n"
     ]
    }
   ],
   "source": [
    "Accuracy = np.average([1 if (x-.5)*(y-.5)>0 else 0 for x,y in zip(df2014.SHOT_MADE_FLAG,df2014.pred)])\n",
    "print 'Accuracy: ' + str(Accuracy)"
   ]
  },
  {
   "cell_type": "markdown",
   "metadata": {},
   "source": [
    "One last thing we can do is see if our results match up with what we did in Book_1, when we found the players that average the most expected points per play and those that score the most above the expected. We are using the same code and doing this below."
   ]
  },
  {
   "cell_type": "code",
   "execution_count": 47,
   "metadata": {
    "collapsed": false
   },
   "outputs": [
    {
     "name": "stderr",
     "output_type": "stream",
     "text": [
      "/Users/raymondcen/anaconda/lib/python2.7/site-packages/ipykernel/__main__.py:1: SettingWithCopyWarning: \n",
      "A value is trying to be set on a copy of a slice from a DataFrame.\n",
      "Try using .loc[row_indexer,col_indexer] = value instead\n",
      "\n",
      "See the the caveats in the documentation: http://pandas.pydata.org/pandas-docs/stable/indexing.html#indexing-view-versus-copy\n",
      "  if __name__ == '__main__':\n",
      "/Users/raymondcen/anaconda/lib/python2.7/site-packages/ipykernel/__main__.py:2: SettingWithCopyWarning: \n",
      "A value is trying to be set on a copy of a slice from a DataFrame.\n",
      "Try using .loc[row_indexer,col_indexer] = value instead\n",
      "\n",
      "See the the caveats in the documentation: http://pandas.pydata.org/pandas-docs/stable/indexing.html#indexing-view-versus-copy\n",
      "  from ipykernel import kernelapp as app\n"
     ]
    }
   ],
   "source": [
    "df2014['pred']=[x[1] for x in predictions]\n",
    "df2014['resid']=(df2014.SHOT_MADE_FLAG-df2014.pred)*df2014.PTS_TYPE\n",
    "players=list(set(df2014['PLAYER_NAME']))\n",
    "pct_above=[]\n",
    "predpps=[]\n",
    "count=[]\n",
    "players_act=[]\n",
    "for player in players:\n",
    "    subset=df2014[df2014['PLAYER_NAME']==player]\n",
    "    if len(subset.index)>100:\n",
    "        players_act.append(player)\n",
    "        pct_above.append(np.average(subset.resid))\n",
    "        predpps.append(np.average(subset.pred*subset.PTS_TYPE))\n",
    "        count.append(len(subset.index))"
   ]
  },
  {
   "cell_type": "code",
   "execution_count": 46,
   "metadata": {
    "collapsed": false
   },
   "outputs": [
    {
     "data": {
      "text/plain": [
       "[('Luke Babbitt', 0.27951381215469617, 0.99672928176795583, 181),\n",
       " ('Kyle Korver', 0.20693490054249547, 1.123987341772152, 553),\n",
       " ('Andre Miller', 0.19087644787644786, 0.84001158301158296, 259),\n",
       " ('Damjan Rudez', 0.17547410358565735, 0.99982470119521916, 251),\n",
       " ('Ed Davis', 0.16279274611398964, 1.1066373056994818, 386),\n",
       " ('Chris Paul', 0.16121532846715328, 0.94553649635036496, 1096),\n",
       " ('George Hill', 0.1557789256198347, 0.93513016528925619, 484),\n",
       " ('Al Jefferson', 0.14578578892371996, 0.83540543364681286, 957),\n",
       " ('CJ Watson', 0.14404986876640419, 0.94781364829396331, 381),\n",
       " ('Carl Landry', 0.13765242165242167, 0.91078062678062688, 351),\n",
       " ('TJ Warren', 0.13265346534653466, 0.9911089108910891, 202),\n",
       " ('Hedo Turkoglu', 0.12743406593406595, 1.0923461538461539, 182),\n",
       " ('Anthony Morrow', 0.12267652173913041, 1.0547147826086958, 575),\n",
       " ('Ben Gordon', 0.12222097378277152, 0.91523220973782782, 267),\n",
       " ('Jose Calderon', 0.11871005917159762, 0.86057988165680466, 338),\n",
       " ('David West', 0.1152824773413897, 0.83486858006042297, 662),\n",
       " ('Kevin Seraphin', 0.11405238095238096, 0.91928095238095242, 420),\n",
       " ('Darren Collison', 0.11260474308300394, 0.96447035573122519, 506),\n",
       " (\"Amar'e Stoudemire\", 0.10872935779816513, 1.0059495412844037, 436),\n",
       " ('Hassan Whiteside', 0.10628169014084506, 1.1556901408450706, 355),\n",
       " ('Carmelo Anthony', 0.09855459770114941, 0.86696264367816089, 696),\n",
       " ('Cory Joseph', 0.097907821229050271, 0.94119832402234638, 358),\n",
       " ('Caron Butler', 0.096278820375335097, 0.92248793565683651, 373),\n",
       " ('Joe Johnson', 0.095148706896551721, 0.91239439655172416, 928),\n",
       " ('Khris Middleton', 0.094497542997542983, 0.98044103194103205, 814),\n",
       " ('Alexis Ajinca', 0.094358974358974335, 0.99538461538461542, 312),\n",
       " ('Mike Muscala', 0.094066666666666632, 1.1059333333333334, 135),\n",
       " ('Nick Young', 0.092943152454780367, 0.84762532299741622, 387),\n",
       " ('Rudy Gay', 0.092888994307400385, 0.89287950664136628, 1054),\n",
       " ('Tony Parker', 0.088019255455712458, 0.9235340179717586, 779),\n",
       " ('Mo Williams', 0.086274213836477986, 0.88856855345911945, 795),\n",
       " ('Jarrett Jack', 0.084532212885154071, 0.89025770308123231, 714),\n",
       " ('Omri Casspi', 0.084392947103274552, 0.99117380352644835, 397),\n",
       " ('Brandan Wright', 0.081242690058479547, 1.2111549707602338, 342),\n",
       " ('Donald Sloan', 0.080044025157232704, 0.93253459119496873, 318),\n",
       " ('Tayshaun Prince', 0.079716931216931214, 0.90441005291005283, 378),\n",
       " ('Jrue Holiday', 0.078469758064516129, 0.8832237903225808, 496),\n",
       " ('Andrea Bargnani', 0.078454545454545443, 0.87462463343108487, 341),\n",
       " ('Jared Dudley', 0.078013227513227507, 1.0516164021164021, 378),\n",
       " ('Robert Covington', 0.075539007092198587, 0.97836170212765972, 705),\n",
       " ('Rodney Stuckey', 0.074566473988439297, 0.91387283236994221, 692),\n",
       " ('Kevin Durant', 0.072116483516483518, 1.1015098901098901, 455),\n",
       " ('Matt Bonner', 0.068095693779904307, 1.0084593301435405, 209),\n",
       " ('Anthony Davis', 0.065008007117437719, 1.0399741992882563, 1124),\n",
       " ('JJ Redick', 0.062985023041474644, 1.0902407834101382, 868),\n",
       " ('Channing Frye', 0.061238095238095244, 1.008025974025974, 462),\n",
       " ('Kyrie Irving', 0.061120734908136486, 1.0062458442694664, 1143),\n",
       " ('Hollis Thompson', 0.059886319845857412, 0.96708863198458572, 519),\n",
       " ('James Johnson', 0.057647814910025706, 1.168573264781491, 389),\n",
       " ('Meyers Leonard', 0.056353191489361701, 1.152157446808511, 235),\n",
       " ('Troy Daniels', 0.056314685314685295, 0.95767132867132831, 143),\n",
       " ('Pablo Prigioni', 0.056269230769230752, 1.0543076923076922, 208),\n",
       " ('Paul Pierce', 0.054386885245901642, 1.0308590163934428, 610),\n",
       " ('Travis Wear', 0.053854166666666668, 0.81072916666666683, 192),\n",
       " ('Joe Ingles', 0.051365558912386693, 1.0090574018126888, 331),\n",
       " ('Anthony Tolliver', 0.051148648648648661, 1.0731756756756758, 370),\n",
       " ('Carlos Boozer', 0.05077464788732395, 0.91049295774647887, 568),\n",
       " ('Rodney Hood', 0.048888579387186638, 0.96782451253481894, 359),\n",
       " ('Ersan Ilyasova', 0.048709233791748525, 1.0730982318271121, 509),\n",
       " ('Kevin Martin', 0.047968141592920358, 0.92725309734513284, 565),\n",
       " ('Marcus Thornton', 0.047357827476038346, 0.97181150159744412, 313),\n",
       " ('Anderson Varejao', 0.045963350785340314, 1.0953979057591623, 191),\n",
       " ('Beno Udrih', 0.044924107142857141, 0.9974866071428572, 448),\n",
       " ('Nikola Vucevic', 0.044733151183970844, 0.97803551912568287, 1098),\n",
       " ('Jordan Clarkson', 0.044314049586776857, 0.91436363636363638, 484),\n",
       " ('Robbie Hummel', 0.043726708074534132, 0.92521739130434788, 161),\n",
       " (\"Kyle O'Quinn\", 0.043279661016949161, 1.0075677966101695, 236),\n",
       " ('Goran Dragic', 0.043090526315789482, 1.0484884210526317, 950),\n",
       " ('Alan Anderson', 0.04136228287841192, 1.0454863523573201, 403),\n",
       " ('Tim Hardaway Jr.', 0.040088549618320597, 0.92479694656488542, 655),\n",
       " ('Pau Gasol', 0.038939303482587069, 0.96205572139303486, 1005),\n",
       " ('Tim Duncan', 0.03780237154150197, 0.99777075098814227, 759),\n",
       " ('Jordan Hill', 0.037525821596244131, 0.92961032863849757, 639),\n",
       " ('Kobe Bryant', 0.036261868300153134, 0.83816385911179181, 653),\n",
       " ('Wayne Ellington', 0.03589243027888446, 0.93422709163346607, 502),\n",
       " ('Jason Smith', 0.035423971377459749, 0.87870840787119853, 559),\n",
       " ('Brandon Bass', 0.035326625386996907, 0.98479721362229111, 646),\n",
       " ('Henry Sims', 0.034255319148936182, 0.91680851063829782, 470),\n",
       " ('Luis Scola', 0.034054101221640487, 0.91882547993019192, 573),\n",
       " ('Rasual Butler', 0.033937238493723855, 1.0079037656903767, 478),\n",
       " ('Chris Bosh', 0.033407407407407406, 0.9836866096866097, 702),\n",
       " ('Arron Afflalo', 0.032779740871613644, 0.96722025912838638, 849),\n",
       " ('Chase Budinger', 0.032623955431754871, 0.99523119777158775, 359),\n",
       " ('Jeremy Lin', 0.032456204379562044, 0.88907664233576633, 548),\n",
       " ('Wesley Matthews', 0.03195211267605632, 1.1173436619718309, 710),\n",
       " ('Patrick Patterson', 0.031883767535070134, 1.0603006012024045, 499),\n",
       " ('Tobias Harris', 0.031052143684820396, 1.0083453070683661, 863),\n",
       " ('Gorgui Dieng', 0.029670235546038544, 0.99816702355460385, 467),\n",
       " ('Eric Gordon', 0.029383107088989439, 0.97966666666666669, 663),\n",
       " ('Isaiah Canaan', 0.029221884498480236, 1.0285288753799391, 329),\n",
       " ('Wesley Johnson', 0.029077834179357012, 0.95061759729272433, 591),\n",
       " ('Brook Lopez', 0.028676315789473675, 1.0252710526315789, 760),\n",
       " ('Markieff Morris', 0.028056657223796022, 0.96250047214353163, 1059),\n",
       " ('Gordon Hayward', 0.027558585858585859, 0.99062323232323246, 990),\n",
       " ('Marcus Morris', 0.026904696132596682, 1.003482044198895, 724),\n",
       " ('Marcin Gortat', 0.026312934631432541, 1.1002517385257302, 719),\n",
       " ('Randy Foye', 0.025929539295392962, 0.97407046070460712, 369),\n",
       " ('Gerald Henderson', 0.025577804583835958, 0.90204583835946928, 829),\n",
       " ('Gary Neal', 0.02556623931623931, 0.83981837606837595, 468),\n",
       " ('Chris Kaman', 0.024862745098039211, 0.99474509803921551, 510),\n",
       " ('Stephen Curry', 0.024263955342902693, 1.183072567783094, 1254),\n",
       " ('Ray McCallum', 0.023392434988179674, 0.94114657210401897, 423),\n",
       " ('LaMarcus Aldridge', 0.023121517027863768, 0.93585681114551078, 1292),\n",
       " ('Dwyane Wade', 0.023093046033300695, 0.94752399608227222, 1021),\n",
       " ('Amir Johnson', 0.022947916666666669, 1.1478854166666665, 480),\n",
       " ('Brian Roberts', 0.022605633802816907, 0.91166666666666663, 426),\n",
       " ('Evan Fournier', 0.022576271186440663, 1.0301544256120527, 531),\n",
       " (\"E'Twaun Moore\", 0.021976744186046494, 0.90825581395348831, 129),\n",
       " ('Enes Kanter', 0.017980437284234745, 1.0407077100115074, 869),\n",
       " ('Langston Galloway', 0.017782881002087685, 0.93211273486430057, 479),\n",
       " ('Jodie Meeks', 0.017575581395348854, 0.968858527131783, 516),\n",
       " ('Zach Randolph', 0.017116359447004605, 0.97136290322580654, 868),\n",
       " ('Shabazz Muhammad', 0.017055999999999998, 0.99361066666666664, 375),\n",
       " ('Lavoy Allen', 0.015176056338028189, 0.97073943661971829, 284),\n",
       " ('Avery Bradley', 0.014452554744525552, 0.9949322210636079, 959),\n",
       " ('Aaron Brooks', 0.013210164835164821, 0.97442719780219789, 728),\n",
       " ('Thaddeus Young', 0.011809203142536469, 0.97921212121212131, 891),\n",
       " ('Derrick Favors', 0.010991935483870976, 1.0339389400921659, 868),\n",
       " ('Quincy Acy', 0.010603225806451615, 0.966816129032258, 310),\n",
       " ('Jamal Crawford', 0.010024611398963731, 0.95111528497409326, 772),\n",
       " ('Kevin Garnett', 0.0095537848605577683, 0.92670119521912353, 251),\n",
       " ('Mike Dunleavy', 0.0073304721030042928, 1.0634849785407725, 466),\n",
       " ('Al Horford', 0.0070991189427312808, 1.0821079295154186, 908),\n",
       " ('Trevor Booker', 0.0069485981308411299, 1.0374439252336449, 428),\n",
       " ('Dirk Nowitzki', 0.0066504950495049489, 0.99730990099009897, 1010),\n",
       " ('James Jones', 0.0060621761658031011, 1.0405699481865285, 193),\n",
       " ('Marc Gasol', 0.0057472417251755257, 0.98522567703109332, 997),\n",
       " ('Jameer Nelson', 0.0042937365010798974, 0.98706695464362859, 463),\n",
       " ('Dante Cunningham', 0.0033126934984520134, 0.92238390092879263, 323),\n",
       " ('Jimmy Butler', 0.0030736342042755218, 1.0135534441805225, 842),\n",
       " ('J.R. Smith', 0.002869872701555861, 1.048049504950495, 707),\n",
       " ('Alec Burks', 0.0020138888888888875, 0.89034722222222229, 288),\n",
       " ('Ty Lawson', 0.0018961493582263669, 0.95026254375729291, 857),\n",
       " ('Shabazz Napier', 0.00099038461538460869, 0.95574038461538458, 208),\n",
       " ('Gerald Green', 0.00090502035278155254, 1.0221614654002713, 737),\n",
       " ('Jason Terry', 0.0007121951219512039, 1.1431902439024388, 410),\n",
       " ('Otto Porter', 0.00063487738419620008, 1.0184386920980926, 367),\n",
       " ('Steve Blake', 0.00010000000000001119, 1.0606142857142857, 280),\n",
       " ('Luke Ridnour', -0.000410256410256422, 0.97476923076923072, 156),\n",
       " ('Terrence Jones', -0.00068478260869562666, 1.091264492753623, 276),\n",
       " ('LeBron James', -0.0020760869565217394, 1.0848520066889633, 1196),\n",
       " ('Isaiah Thomas', -0.0021571038251366179, 1.0363101092896174, 732),\n",
       " ('CJ McCollum', -0.0032088235294117731, 1.0296794117647059, 340),\n",
       " ('Marvin Williams', -0.0036738660907127403, 1.018792656587473, 463),\n",
       " ('Tyson Chandler', -0.0040049019607843192, 1.3667500000000001, 408),\n",
       " ('Jabari Brown', -0.0056458333333333256, 0.97092361111111103, 144),\n",
       " ('Kawhi Leonard', -0.0056990801576872474, 1.0477490144546648, 761),\n",
       " ('Luol Deng', -0.0061087533156498602, 1.0299814323607428, 754),\n",
       " ('Andrew Nicholson', -0.0064171428571428739, 0.94355999999999995, 175),\n",
       " ('DeMarcus Cousins', -0.0070401647785787776, 0.93906900102986612, 971),\n",
       " ('Zach LaVine', -0.0070571895424836675, 0.97601143790849665, 612),\n",
       " ('Joel Freeland', -0.0074042553191489332, 0.98612765957446813, 141),\n",
       " ('Cory Jefferson', -0.0079324324324324298, 0.98090540540540549, 148),\n",
       " ('Kemba Walker', -0.0083890865954923087, 0.90162752075919339, 843),\n",
       " ('Greg Monroe', -0.0094824667472793271, 0.99859975816203139, 827),\n",
       " ('O.J. Mayo', -0.010378124999999997, 0.99162812500000008, 640),\n",
       " ('Blake Griffin', -0.010469181232750693, 1.0169089236430544, 1087),\n",
       " ('Reggie Jackson', -0.011449511400651468, 0.95607491856677518, 921),\n",
       " ('Alexey Shved', -0.012783783783783783, 0.9519729729729729, 296),\n",
       " ('Serge Ibaka', -0.013179063360881543, 1.0765399449035813, 726),\n",
       " ('Donatas Motiejunas', -0.013513097072419105, 1.075146379044684, 649),\n",
       " ('CJ Miles', -0.014311926605504607, 0.99596330275229372, 763),\n",
       " ('Taj Gibson', -0.014941684665226784, 1.0343801295896329, 463),\n",
       " ('Shane Larkin', -0.014952141057934524, 0.9771687657430731, 397),\n",
       " ('Ish Smith', -0.015922857142857155, 0.85877999999999999, 350),\n",
       " ('Quincy Pondexter', -0.016523456790123476, 1.1078814814814815, 405),\n",
       " ('Mike Conley', -0.016704516129032246, 1.0270270967741937, 775),\n",
       " ('D.J. Augustin', -0.017201353637901866, 0.96474788494077846, 591),\n",
       " ('Danny Granger', -0.017223684210526308, 0.99090789473684204, 152),\n",
       " ('Tyler Zeller', -0.017989619377162622, 1.0975743944636678, 578),\n",
       " ('Tyreke Evans', -0.018239150507848561, 0.98407479224376726, 1083),\n",
       " ('Dwight Howard', -0.01838874680306906, 1.2229923273657288, 391),\n",
       " ('Kirk Hinrich', -0.019106849315068501, 0.93143561643835626, 365),\n",
       " ('Jerryd Bayless', -0.019666666666666666, 0.95129059829059814, 468),\n",
       " ('Garrett Temple', -0.019893750000000005, 1.01364375, 160),\n",
       " ('Kelly Olynyk', -0.020666666666666673, 1.1045376344086022, 465),\n",
       " ('Jonas Valanciunas', -0.022292134831460676, 1.1555184590690208, 623),\n",
       " ('Dewayne Dedmon', -0.022697986577181219, 1.2307516778523491, 149),\n",
       " ('Danilo Gallinari', -0.023052930056710778, 1.0287240075614366, 529),\n",
       " ('Bradley Beal', -0.023404674046740466, 1.0000344403444035, 813),\n",
       " ('Brandon Knight', -0.024544117647058831, 0.98165196078431372, 816),\n",
       " ('Danny Green', -0.025146487294469357, 1.1581808669656204, 669),\n",
       " ('Tony Snell', -0.025220238095238091, 1.0936726190476189, 336),\n",
       " ('Bojan Bogdanovic', -0.025330078124999988, 1.0780644531249999, 512),\n",
       " ('Boris Diaw', -0.025500829187396355, 1.0454013266998341, 603),\n",
       " ('Dorell Wright', -0.025741573033707849, 1.0032696629213482, 178),\n",
       " ('Will Barton', -0.025996996996996993, 0.9689399399399401, 333),\n",
       " ('Klay Thompson', -0.02661767068273092, 1.1470995983935743, 1245),\n",
       " ('Lance Thomas', -0.026716112531969299, 0.88349360613810746, 391),\n",
       " ('PJ Tucker', -0.026791741472172358, 1.0555170556552962, 557),\n",
       " ('Marco Belinelli', -0.027092760180995462, 1.0587669683257919, 442),\n",
       " ('John Wall', -0.027157226562500004, 0.98028222656249997, 1024),\n",
       " ('Roy Hibbert', -0.027921450151057403, 0.9040543806646526, 662),\n",
       " ('Courtney Lee', -0.028070085470085476, 1.053711111111111, 585),\n",
       " ('DeMarre Carroll', -0.028660033167495831, 1.2061061359867331, 603),\n",
       " ('Eric Bledsoe', -0.029792857142857149, 1.0134663265306123, 980),\n",
       " ('Kentavious Caldwell-Pope', -0.030379162191192265, 1.0035263157894736, 931),\n",
       " ('Thomas Robinson', -0.030843881856540089, 1.0097468354430379, 237),\n",
       " ('Michael Beasley', -0.031038277511961723, 0.94969856459330126, 209),\n",
       " ('Andrew Wiggins', -0.031192599620493353, 0.95244497153700192, 1054),\n",
       " ('Mason Plumlee', -0.032316062176165797, 1.2499326424870465, 386),\n",
       " ('Tony Wroten', -0.033729797979797978, 0.97059848484848477, 396),\n",
       " ('Tiago Splitter', -0.034286713286713275, 1.1601608391608393, 286),\n",
       " ('Michael Kidd-Gilchrist', -0.034689956331877728, 0.9604541484716157, 458),\n",
       " ('Leandro Barbosa', -0.035191740412979344, 1.11188790560472, 339),\n",
       " ('Joe Harris', -0.035706422018348637, 1.0724036697247705, 109),\n",
       " ('Jared Sullinger', -0.036401188707280825, 1.0051976225854384, 673),\n",
       " ('Nene', -0.036745454545454533, 1.0458363636363637, 550),\n",
       " ('Wilson Chandler', -0.038139459459459457, 1.0262475675675675, 925),\n",
       " ('Nikola Pekovic', -0.038253333333333341, 0.90491999999999995, 300),\n",
       " ('Nik Stauskas', -0.038407272727272734, 0.94749818181818191, 275),\n",
       " ('Jonas Jerebko', -0.038590659340659333, 1.0770521978021979, 364),\n",
       " ('Robin Lopez', -0.041909090909090917, 1.1180761670761672, 407),\n",
       " ('Kris Humphries', -0.042259953161592492, 0.9977634660421546, 427),\n",
       " ('Kyle Singler', -0.042643026004728121, 1.0260945626477542, 423),\n",
       " ('Aron Baynes', -0.042778911564625842, 1.1754319727891156, 294),\n",
       " ('Ben McLemore', -0.042854545454545451, 1.0883090909090909, 770),\n",
       " ('Brandon Jennings', -0.043207317073170749, 1.0005243902439025, 492),\n",
       " ('Michael Carter-Williams', -0.043609699769053122, 0.8623163972286374, 866),\n",
       " ('Chris Andersen', -0.045033333333333335, 1.2339222222222221, 180),\n",
       " ('Jason Thompson', -0.046953316953316955, 0.98061425061425067, 407),\n",
       " ('Shaun Livingston', -0.046994535519125691, 1.041530054644809, 366),\n",
       " ('Drew Gooden', -0.048131782945736432, 0.95510852713178296, 258),\n",
       " ('Damian Lillard', -0.048395534290271131, 1.058762360446571, 1254),\n",
       " ('Mario Chalmers', -0.049262895174708818, 1.0193128119800332, 601),\n",
       " ('Lou Williams', -0.05167664670658683, 1.0432934131736527, 835),\n",
       " ('Derrick Williams', -0.052082608695652177, 1.0933869565217391, 460),\n",
       " ('David Lee', -0.052749999999999998, 1.1013611111111112, 288),\n",
       " ('Tarik Black', -0.052816901408450724, 1.2077464788732395, 213),\n",
       " ('DeAndre Jordan', -0.05308146639511202, 1.4889266802443992, 491),\n",
       " ('Rudy Gobert', -0.053503722084367239, 1.264421836228288, 403),\n",
       " ('Chris Copeland', -0.05361851851851851, 0.96102592592592584, 270),\n",
       " ('Evan Turner', -0.053724087591240866, 0.95007445255474443, 685),\n",
       " ('Chris Johnson', -0.054586206896551727, 1.0614827586206896, 145),\n",
       " ('Darrell Arthur', -0.054755681818181801, 0.95816477272727274, 352),\n",
       " ('Deron Williams', -0.055108033240997237, 0.9664653739612189, 722),\n",
       " ('Ryan Anderson', -0.055967694566813518, 1.0177885462555067, 681),\n",
       " ('Mike Scott', -0.056195238095238124, 1.0942904761904764, 420),\n",
       " ('Shawne Williams', -0.056404332129963895, 1.0636245487364622, 277),\n",
       " ('Derrick Rose', -0.056416883116883136, 0.96161168831168831, 770),\n",
       " ('Trey Burke', -0.056428877005347607, 0.91418288770053469, 935),\n",
       " ('Greivis Vasquez', -0.058045454545454553, 1.0624442815249266, 682),\n",
       " ('Matthew Dellavedova', -0.058131944444444437, 1.033826388888889, 288),\n",
       " ('Jeremy Lamb', -0.059608510638297862, 1.0510978723404256, 235),\n",
       " ('Jeff Teague', -0.060258578431372542, 1.0994742647058822, 816),\n",
       " ('Terrence Ross', -0.061977653631284921, 1.0829273743016758, 716),\n",
       " ('Kosta Koufos', -0.063288235294117631, 1.0927, 340),\n",
       " ('Luc Mbah a Moute', -0.063590604026845646, 0.91258389261744965, 596),\n",
       " ('Marreese Speights', -0.064006688963210698, 1.0673511705685619, 598),\n",
       " ('Reggie Evans', -0.064040650406504057, 0.89330894308943098, 123),\n",
       " ('Giannis Antetokounmpo', -0.064577874818049483, 1.0791339155749635, 687),\n",
       " ('Paul Millsap', -0.065154113557358048, 1.1033928157589803, 863),\n",
       " ('Cole Aldrich', -0.065561837455830399, 1.0125583038869257, 283),\n",
       " ('Mirza Teletovic', -0.067674418604651163, 1.0876079734219268, 301),\n",
       " ('Charlie Villanueva', -0.068166180758017489, 1.126475218658892, 343),\n",
       " ('Chandler Parsons', -0.068971887550200797, 1.1666961178045514, 747),\n",
       " ('Solomon Hill', -0.070343642611683826, 0.97927835051546386, 582),\n",
       " ('Justin Hamilton', -0.070542857142857157, 1.0876857142857144, 175),\n",
       " ('Willie Green', -0.07074652777777779, 0.95963541666666663, 288),\n",
       " ('Bismack Biyombo', -0.07168131868131869, 1.1595934065934066, 182),\n",
       " ('Tristan Thompson', -0.072008676789587833, 1.1696225596529284, 461),\n",
       " ('Victor Oladipo', -0.072405325443787, 1.034929980276134, 1014),\n",
       " ('John Henson', -0.073509803921568626, 1.2042287581699345, 306),\n",
       " ('Norris Cole', -0.074594230769230774, 0.99767115384615379, 520),\n",
       " ('James Harden', -0.075399700598802397, 1.1098308383233533, 1336),\n",
       " ('Steven Adams', -0.076538043478260862, 1.2015380434782608, 368),\n",
       " ('Jason Richardson', -0.076761904761904781, 0.96366666666666656, 168),\n",
       " ('DeMar DeRozan', -0.07812330198537093, 0.94646185997910137, 957),\n",
       " ('Kenneth Faried', -0.079316546762589923, 1.131115107913669, 695),\n",
       " ('Manu Ginobili', -0.08000193423597679, 1.058725338491296, 517),\n",
       " ('Tyler Ennis', -0.080431818181818202, 0.89861363636363656, 132),\n",
       " ('Richard Jefferson', -0.081855218855218861, 1.1155252525252526, 297),\n",
       " ('Ian Mahinmi', -0.08199999999999999, 1.1604313725490196, 204),\n",
       " ('Kyle Lowry', -0.08242034943473793, 1.0361716341212746, 973),\n",
       " ('Anthony Bennett', -0.08242857142857142, 0.95002439024390239, 287),\n",
       " ('Jabari Parker', -0.08242857142857142, 1.0601071428571429, 224),\n",
       " ('Jeff Green', -0.083689427312775344, 1.0627643171806167, 908),\n",
       " ('Kevin Love', -0.084010989010988996, 1.1147802197802199, 910),\n",
       " ('Marcus Smart', -0.08445089285714287, 1.0331116071428572, 448),\n",
       " ('Timofey Mozgov', -0.084585046728971991, 1.2210336448598131, 535),\n",
       " ('Kent Bazemore', -0.085861016949152547, 1.0994203389830508, 295),\n",
       " ('Tyler Johnson', -0.086235294117647049, 1.0078039215686276, 153),\n",
       " ('Jason Maxiell', -0.087128491620111756, 0.96981005586592184, 179),\n",
       " ('Monta Ellis', -0.089501970055161542, 1.0430086682427109, 1269),\n",
       " ('Andrew Bogut', -0.089570149253731357, 1.2000179104477613, 335),\n",
       " ('Lance Stephenson', -0.089589595375722544, 0.90461849710982656, 519),\n",
       " ('Matt Barnes', -0.092310810810810828, 1.2139324324324325, 592),\n",
       " ('Jeff Taylor', -0.092765765765765784, 0.97564864864864853, 111),\n",
       " ('Nikola Mirotic', -0.092925566343042054, 1.0913074433656957, 618),\n",
       " ('Jae Crowder', -0.094781676413255356, 1.0674912280701756, 513),\n",
       " ('Russell Westbrook', -0.09603828483920368, 1.0409081163859111, 1306),\n",
       " ('JaKarr Sampson', -0.097773291925465841, 1.0449782608695652, 322),\n",
       " ('Ramon Sessions', -0.098779220779220786, 0.93319480519480535, 308),\n",
       " ('Ronnie Price', -0.10050000000000001, 0.94665384615384618, 182),\n",
       " ('Elfrid Payton', -0.10068367346938775, 0.92429883381924194, 686),\n",
       " ('Aaron Gordon', -0.10098453608247421, 1.0700567010309279, 194),\n",
       " ('Iman Shumpert', -0.10296983758700698, 1.0287238979118329, 431),\n",
       " ('Rajon Rondo', -0.10337647058823529, 1.0058974789915966, 595),\n",
       " ('Austin Rivers', -0.10565384615384615, 1.0223205128205128, 468),\n",
       " ('Adreian Payne', -0.1056588785046729, 0.91407009345794388, 214),\n",
       " ('Cleanthony Early', -0.10620707070707071, 0.94964141414141412, 198),\n",
       " ('Zaza Pachulia', -0.10772666666666668, 1.0321711111111112, 450),\n",
       " ('Robert Sacre', -0.10779296875000001, 0.88123046875, 256),\n",
       " ('Allen Crabbe', -0.10995652173913043, 1.1534347826086955, 138),\n",
       " ('Jusuf Nurkic', -0.11026666666666667, 1.0146144927536234, 345),\n",
       " ('Glen Davis', -0.11093388429752064, 1.0448181818181816, 242),\n",
       " ('Tyler Hansbrough', -0.11123376623376625, 1.1696753246753246, 154),\n",
       " ('Jose Juan Barea', -0.11306652806652806, 1.0257484407484407, 481),\n",
       " ('Mitch McGary', -0.11320125786163523, 1.1698050314465409, 159),\n",
       " ('Shelvin Mack', -0.11521033210332106, 1.0303394833948338, 271),\n",
       " ('Alonzo Gee', -0.11699382716049382, 1.1478580246913581, 162),\n",
       " ('Tony Allen', -0.11741148325358851, 1.1365502392344498, 418),\n",
       " ('Devin Harris', -0.11832563025210084, 1.1309306722689074, 476),\n",
       " ('Cody Zeller', -0.11949147727272727, 1.0541505681818182, 352),\n",
       " ('Elijah Millsap', -0.12786086956521739, 0.97568695652173909, 230),\n",
       " ('Festus Ezeli', -0.12873437500000001, 1.2068593750000001, 128),\n",
       " ('Mike Miller', -0.12974999999999998, 1.0556759259259259, 108),\n",
       " ('Lorenzo Brown', -0.12989380530973452, 1.0325486725663717, 113),\n",
       " ('Patrick Beverley', -0.13080620155038761, 1.1114263565891473, 516),\n",
       " ('Jerami Grant', -0.13216766467065869, 0.96450299401197603, 334),\n",
       " ('JJ Hickson', -0.13271462264150943, 1.0761108490566038, 424),\n",
       " ('Henry Walker', -0.13782014388489205, 1.0946546762589926, 139),\n",
       " ('Harrison Barnes', -0.13820512820512823, 1.2471794871794872, 624),\n",
       " ('Nicolas Batum', -0.13824521739130435, 1.0895495652173912, 575),\n",
       " ('Udonis Haslem', -0.14216431924882628, 1.024793427230047, 213),\n",
       " ('Nick Collison', -0.14359514170040488, 1.066672064777328, 247),\n",
       " ('KJ McDaniels', -0.14377805486284287, 0.996645885286783, 401),\n",
       " ('Jon Leuer', -0.14528235294117645, 1.0394000000000001, 255),\n",
       " ('Patty Mills', -0.14545214521452143, 1.1124488448844885, 303),\n",
       " ('Josh Smith', -0.14546588486140724, 1.0377899786780385, 938),\n",
       " ('Ricky Rubio', -0.14588679245283021, 0.92418867924528303, 212),\n",
       " ('PJ Hairston', -0.14778947368421055, 0.98179757085020225, 247),\n",
       " ('Sergey Karasev', -0.14794399999999999, 1.0359440000000002, 125),\n",
       " ('James Ennis', -0.14806837606837606, 1.1096068376068378, 234),\n",
       " ('Ryan Kelly', -0.15507142857142855, 0.96599579831932769, 238),\n",
       " ('Alex Len', -0.15546407185628741, 1.146482035928144, 334),\n",
       " ('Dennis Schroder', -0.15656208053691276, 1.0860922818791945, 596),\n",
       " ('Andre Iguodala', -0.1567434782608696, 1.2371782608695652, 460),\n",
       " ('Archie Goodwin', -0.15738202247191013, 1.0000786516853932, 178),\n",
       " ('Andre Drummond', -0.15795364238410595, 1.1910662251655628, 906),\n",
       " ('Corey Brewer', -0.16124331550802143, 1.129157754010695, 748),\n",
       " ('Phil Pressey', -0.16166060606060603, 0.97378181818181819, 165),\n",
       " ('Trevor Ariza', -0.16225691244239632, 1.1795380184331796, 868),\n",
       " ('Austin Daye', -0.1626279069767442, 1.0308449612403101, 129),\n",
       " ('Nerlens Noel', -0.16364510779436153, 1.069117744610282, 603),\n",
       " ('Kendrick Perkins', -0.16519811320754721, 1.0897264150943398, 212),\n",
       " ('Lou Amundson', -0.16538983050847458, 0.97047457627118638, 236),\n",
       " ('Miles Plumlee', -0.1666607142857143, 1.2470178571428572, 224),\n",
       " ('Shawn Marion', -0.16857768924302791, 1.1008486055776892, 251),\n",
       " ('Perry Jones', -0.17115060240963856, 1.0566927710843375, 166),\n",
       " ('Dante Exum', -0.17720472440944882, 1.0669685039370078, 381),\n",
       " ('Nick Calathes', -0.18103791469194316, 1.0530758293838862, 211),\n",
       " ('Dion Waiters', -0.18294301675977651, 1.0712111731843577, 895),\n",
       " ('Joey Dorsey', -0.1891317829457364, 1.3054108527131782, 129),\n",
       " ('Joakim Noah', -0.19706161137440759, 1.0880568720379147, 422),\n",
       " ('Spencer Hawes', -0.20190201005025121, 1.1114497487437185, 398),\n",
       " ('Draymond Green', -0.20852900552486187, 1.2430593922651934, 724),\n",
       " ('Vince Carter', -0.20924462365591401, 1.0506424731182795, 372),\n",
       " ('Thabo Sefolosha', -0.20939393939393941, 1.1661038961038961, 231),\n",
       " ('Andre Roberson', -0.21405181347150257, 1.2658652849740932, 193),\n",
       " ('Pero Antic', -0.22496323529411769, 1.1440808823529411, 272),\n",
       " ('Omer Asik', -0.23371722365038555, 1.2568534704370182, 389),\n",
       " ('Spencer Dinwiddie', -0.23686486486486485, 0.86524324324324309, 148),\n",
       " ('Markel Brown', -0.23812562814070351, 1.0170201005025126, 199),\n",
       " (\"Johnny O'Bryant\", -0.2392110091743119, 0.95480733944954144, 109),\n",
       " ('Kostas Papanikolaou', -0.24865497076023391, 1.1083040935672515, 171),\n",
       " ('Al-Farouq Aminu', -0.26894153846153845, 1.17048, 325),\n",
       " ('Justin Holiday', -0.28749082568807338, 1.2278577981651375, 218),\n",
       " ('Gary Harris', -0.31436842105263157, 1.0129330143540669, 209),\n",
       " ('Maurice Harkless', -0.35137410071942449, 1.1787122302158273, 139)]"
      ]
     },
     "execution_count": 46,
     "metadata": {},
     "output_type": "execute_result"
    }
   ],
   "source": [
    "comb=zip(players_act,pct_above,predpps,count)\n",
    "comb.sort(key=lambda tup: tup[1],reverse=True)\n",
    "comb"
   ]
  },
  {
   "cell_type": "markdown",
   "metadata": {},
   "source": [
    "This list is extremely similar to the one we got before, suggesting that the two methods produce similar results.\n",
    "\n",
    "That is all for this notebook and for the project, thanks for reading!"
   ]
  }
 ],
 "metadata": {
  "kernelspec": {
   "display_name": "Python 2",
   "language": "python",
   "name": "python2"
  },
  "language_info": {
   "codemirror_mode": {
    "name": "ipython",
    "version": 2
   },
   "file_extension": ".py",
   "mimetype": "text/x-python",
   "name": "python",
   "nbconvert_exporter": "python",
   "pygments_lexer": "ipython2",
   "version": "2.7.10"
  }
 },
 "nbformat": 4,
 "nbformat_minor": 0
}
